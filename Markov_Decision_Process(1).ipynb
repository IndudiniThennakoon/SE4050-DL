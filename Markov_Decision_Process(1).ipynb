{
  "cells": [
    {
      "cell_type": "markdown",
      "metadata": {
        "id": "-LMwDZHlsAvn"
      },
      "source": [
        "# Markov Decision Process (MDP)"
      ]
    },
    {
      "cell_type": "markdown",
      "metadata": {
        "id": "rK2etKh-sAvo"
      },
      "source": [
        "### Ransalu Senanayake"
      ]
    },
    {
      "cell_type": "code",
      "execution_count": 1,
      "metadata": {
        "id": "Tlr-PNcssAvp"
      },
      "outputs": [],
      "source": [
        "import copy\n",
        "import timeit\n",
        "import numpy as np\n",
        "import matplotlib.pyplot as pl\n",
        "%matplotlib inline\n",
        "from ipywidgets import interactive\n",
        "import ipywidgets as widgets"
      ]
    },
    {
      "cell_type": "markdown",
      "metadata": {
        "id": "_f6VSXlQsAvs"
      },
      "source": [
        "Create the following grid world.\n",
        "\n",
        "**States:** A 10x10 grid\n",
        "\n",
        "**Actions:** Up, Down, Left, Right\n",
        "\n",
        "**Tranistion probabilities:**\n",
        "* 0.7 in the direction of action\n",
        "* 0.1 in the three other directions\n",
        "* The robot bounces back to the same state near edges\n",
        "\n",
        "**Rewards:**\n",
        "* (7,8) has a reward +10\n",
        "* (2,7) has a reward +3\n",
        "* (4,3) has a reward -5\n",
        "* (7,3) has a reward -10\n",
        "* No reward in other states\n",
        "\n",
        "This example is based on Decision Making Under Uncertainty by M.J. Kochenderfer."
      ]
    },
    {
      "cell_type": "code",
      "execution_count": 2,
      "metadata": {
        "id": "sbT7VOEQsAvt"
      },
      "outputs": [],
      "source": [
        "#Let's define MDP paras\n",
        "def createGrid10World():\n",
        "    def xy2s(y, x):\n",
        "        x = max(x, 0)\n",
        "        y = max(y, 0)\n",
        "        x = min(x, 9)\n",
        "        y = min(y, 9)\n",
        "        out = np.ravel_multi_index(np.array([x,y]), (10,10))\n",
        "        return out\n",
        "\n",
        "    def s2xy(s):\n",
        "        x, y = np.unravel_index(s, (10,10))\n",
        "        return y, x\n",
        "\n",
        "    def gridPlot(ax, im, title='', cmap='Blues'):\n",
        "        pl.imshow(im, interpolation='none', cmap=cmap, origin='lower')\n",
        "        pl.colorbar()\n",
        "        ax.set_xticks(np.arange(0, 10, 1));\n",
        "        ax.set_yticks(np.arange(0, 10, 1));\n",
        "        ax.set_xticklabels(np.arange(0, 10, 1));\n",
        "        ax.set_yticklabels(np.arange(0, 10, 1));\n",
        "        ax.set_xticks(np.arange(-.5, 10, 1), minor=True);\n",
        "        ax.set_yticks(np.arange(-.5, 10, 1), minor=True);\n",
        "        ax.grid(which='minor', color='w', linestyle='-', linewidth=1)\n",
        "        pl.title(title);\n",
        "        return\n",
        "\n",
        "    A = ['left', 'right', 'up', 'down']\n",
        "    S = np.arange(100)\n",
        "    T = np.zeros((len(S), len(A), len(S)))\n",
        "    R = np.zeros((len(S), len(A)))\n",
        "    for s in S:\n",
        "        x, y = s2xy(s)\n",
        "        if x == 2 and y == 7:\n",
        "            R[s, :] = 3\n",
        "        elif x == 7 and y == 8:\n",
        "            R[s, :] = 10\n",
        "        else:\n",
        "            if x == 7 and y == 3:\n",
        "                R[s, :] = -10\n",
        "            elif x == 4 and y == 3:\n",
        "                R[s, :] = -5\n",
        "            elif x == 0:\n",
        "                if y == 0 or y == 9:\n",
        "                    R[s, :] = -0.2\n",
        "                else:\n",
        "                    R[s, :] = -0.1\n",
        "                R[s, 0] = -0.7\n",
        "            elif x == 9:\n",
        "                if y == 0 or y == 9:\n",
        "                    R[s, :] = -0.2\n",
        "                else:\n",
        "                    R[s, :] = -0.1\n",
        "                R[s, 1] = -0.7\n",
        "            elif y == 0:\n",
        "                if x == 0 or x == 9:\n",
        "                    R[s, :] = -0.2\n",
        "                else:\n",
        "                    R[s, :] = -0.1\n",
        "                R[s, 3] = -0.7\n",
        "            elif y == 9:\n",
        "                if x == 0 or x == 9:\n",
        "                    R[s, :] = -0.2\n",
        "                else:\n",
        "                    R[s, :] = -0.1\n",
        "                R[s, 2] = -0.7\n",
        "\n",
        "            for a in A:\n",
        "                if a == 'left':\n",
        "                    T[s, 0, xy2s(x - 1, y)] += 0.7\n",
        "                    T[s, 0, xy2s(x + 1, y)] += 0.1\n",
        "                    T[s, 0, xy2s(x, y - 1)] += 0.1\n",
        "                    T[s, 0, xy2s(x, y + 1)] += 0.1\n",
        "                elif a == 'right':\n",
        "                    T[s, 1, xy2s(x + 1, y)] += 0.7\n",
        "                    T[s, 1, xy2s(x - 1, y)] += 0.1\n",
        "                    T[s, 1, xy2s(x, y - 1)] += 0.1\n",
        "                    T[s, 1, xy2s(x, y + 1)] += 0.1\n",
        "                elif a == 'up':\n",
        "                    T[s, 2, xy2s(x, y + 1)] += 0.7\n",
        "                    T[s, 2, xy2s(x, y - 1)] += 0.1\n",
        "                    T[s, 2, xy2s(x - 1, y)] += 0.1\n",
        "                    T[s, 2, xy2s(x + 1, y)] += 0.1\n",
        "                elif a == 'down':\n",
        "                    T[s, 3, xy2s(x, y - 1)] += 0.7\n",
        "                    T[s, 3, xy2s(x, y + 1)] += 0.1\n",
        "                    T[s, 3, xy2s(x - 1, y)] += 0.1\n",
        "                    T[s, 3, xy2s(x + 1, y)] += 0.1\n",
        "\n",
        "    for a, c_x, c_y in [(0,0,0), (0,0,9),(1,9,0),(1,9,9),(2,0,9),(2,9,9),(3,0,0),(3,9,0)]:\n",
        "        R[xy2s(c_x,c_y),a] = -0.8\n",
        "\n",
        "    discount = 0.9\n",
        "\n",
        "    nextStates = {}\n",
        "    for si in range(len(S)):\n",
        "        for ai in range(len(A)):\n",
        "            nextStates[(si,ai)] = np.where((T[si, ai, :] != 0) == True)[0]\n",
        "\n",
        "    return {'S':S, 'A':A, 'T':T, 'R':R, 'discount':discount, 'nextStates':nextStates, 'gridPlot':gridPlot, 'xy2s':xy2s, 's2xy':s2xy}"
      ]
    },
    {
      "cell_type": "code",
      "execution_count": 3,
      "metadata": {
        "id": "BylriiRqsAvv"
      },
      "outputs": [],
      "source": [
        "class MDP():\n",
        "    def __init__(self):\n",
        "        pass\n",
        "\n",
        "    def inbuilt_init(self, mdp_dict):\n",
        "        self.S = mdp_dict['S']\n",
        "        self.A = mdp_dict['A']\n",
        "        self.T = mdp_dict['T']\n",
        "        self.R = mdp_dict['R']\n",
        "        self.discount = mdp_dict['discount']\n",
        "        self.nextStates = mdp_dict['nextStates']\n",
        "        self.gridPlot = mdp_dict['gridPlot']\n",
        "        self.xy2s = mdp_dict['xy2s']\n",
        "        self.s2xy = mdp_dict['s2xy']"
      ]
    },
    {
      "cell_type": "code",
      "execution_count": 4,
      "metadata": {
        "colab": {
          "base_uri": "https://localhost:8080/",
          "height": 1000
        },
        "id": "QGcCuJpasAvy",
        "outputId": "93721f0b-0077-449c-99c4-9441c40e189e"
      },
      "outputs": [
        {
          "output_type": "display_data",
          "data": {
            "text/plain": [
              "<Figure size 300x300 with 2 Axes>"
            ],
            "image/png": "[encoded data removed]"
          },
          "metadata": {}
        },
        {
          "output_type": "display_data",
          "data": {
            "text/plain": [
              "<Figure size 1500x300 with 8 Axes>"
            ],
            "image/png": "[encoded data removed]"
          },
          "metadata": {}
        },
        {
          "output_type": "display_data",
          "data": {
            "text/plain": [
              "<Figure size 1500x300 with 8 Axes>"
            ],
            "image/png": "[encoded data removed]"
          },
          "metadata": {}
        },
        {
          "output_type": "display_data",
          "data": {
            "text/plain": [
              "<Figure size 1500x300 with 8 Axes>"
            ],
            "image/png": "[encoded data removed]"
          },
          "metadata": {}
        }
      ],
      "source": [
        "#Define the MDP\n",
        "mdp = MDP()\n",
        "mdp.inbuilt_init(mdp_dict=createGrid10World())\n",
        "\n",
        "#Plot states\n",
        "pl.figure(figsize=(3,3))\n",
        "mdp.gridPlot(ax=pl.gca(), im=mdp.S.reshape((10,10)), title='States', cmap='Greys')\n",
        "\n",
        "#Plot rewards\n",
        "pl.figure(figsize=(15,3))\n",
        "pl.suptitle('Rewards', fontsize=15)\n",
        "for a in range(4):\n",
        "    pl.subplot(1,4,a+1)\n",
        "    mdp.gridPlot(ax=pl.gca(), im=mdp.R[:,a].reshape((10,10)), title='a='+mdp.A[a], cmap='jet')\n",
        "pl.show()\n",
        "\n",
        "#Plot rewards\n",
        "pl.figure(figsize=(15,3))\n",
        "pl.suptitle('Rewards - clipped larger +ve values for visualizing the edges', fontsize=15)\n",
        "for a in range(4):\n",
        "    pl.subplot(1,4,a+1)\n",
        "    mdp.gridPlot(ax=pl.gca(), im=np.clip(mdp.R[:,a].reshape((10,10)), -1, -0.5), title='a='+mdp.A[a], cmap='jet')\n",
        "pl.show()\n",
        "\n",
        "#Plot rewards\n",
        "s0_x, s0_y = 3, 5\n",
        "s0 = mdp.xy2s(s0_x, s0_y)\n",
        "pl.figure(figsize=(15,3))\n",
        "pl.suptitle('Transition probabilities T(s1|s0=({},{}),a)'.format(s0_x, s0_y), fontsize=15)\n",
        "for a in range(4):\n",
        "    pl.subplot(1,4,a+1)\n",
        "    mdp.gridPlot(ax=pl.gca(), im=mdp.T[s0,a,:].reshape((10,10)), title='a='+mdp.A[a], cmap='Blues')\n",
        "pl.show()"
      ]
    },
    {
      "cell_type": "code",
      "execution_count": 5,
      "metadata": {
        "colab": {
          "base_uri": "https://localhost:8080/",
          "height": 609,
          "referenced_widgets": [
            "2db85ac0af3344b3822784f78daf339d",
            "d1acdd1e307043dab2d6c033fb0a0c1a",
            "4797816b3d7441c2972ced2f41b3383e",
            "3133bb51ebd84dd496d69b457ad61cae",
            "d8362c0d5be74eaf8e89e1db9a07c38e",
            "872200e687174253a879821419d55502",
            "588f15d495584d629da84e55505a5547",
            "88af3139f170454d954e5aa3e1af1517",
            "c252991f6b74427f9d12ad2569c1bc02",
            "ea66b87cad744fd3a2fc4042a7c4d14c",
            "ef6d53562de64f7198793cc19da82b64",
            "a54ae589e5204be0902c70e7c3f0221b",
            "9e622de831c04c39933bce865863c94a"
          ]
        },
        "id": "WSh9F6O2sAv1",
        "outputId": "da132c54-ebb2-42ec-ef9e-95bf0a86132a"
      },
      "outputs": [
        {
          "output_type": "display_data",
          "data": {
            "text/plain": [
              "interactive(children=(Text(value='4', description='s0_x'), Text(value='5', description='s0_y'), ToggleButtons(…"
            ],
            "application/vnd.jupyter.widget-view+json": {
              "version_major": 2,
              "version_minor": 0,
              "model_id": "2db85ac0af3344b3822784f78daf339d"
            }
          },
          "metadata": {}
        }
      ],
      "source": [
        "#An interactive plot of transition probabilities\n",
        "def f(s0_x, s0_y, action):\n",
        "    a = mdp.A.index(action)\n",
        "    s0 = mdp.xy2s(int(s0_x), int(s0_y))\n",
        "    pl.figure(figsize=(6,6))\n",
        "    title = 'Transition probabilities T(s1|s0=({},{}),a={})'.format(int(s0_x),int(s0_y),action)\n",
        "    mdp.gridPlot(ax=pl.gca(), im=mdp.T[s0,a,:].reshape((10,10)), title=title, cmap='Blues')\n",
        "    pl.show()\n",
        "\n",
        "interactive_plot = interactive(f, s0_x='4', s0_y='5', action=widgets.ToggleButtons(options=['left', 'right', 'up', 'down']))\n",
        "interactive_plot"
      ]
    },
    {
      "cell_type": "markdown",
      "metadata": {
        "id": "CRtcTdgOsAv4"
      },
      "source": [
        "### 1. Policy evaluation\n",
        "\n",
        "Computing the utility, U.\n",
        "\n",
        "$U^\\pi_k(s) = R(s, \\pi(s)) + \\gamma \\sum_{s'} T(s' \\mid s, \\pi(s))U^\\pi_{k-1}(s')$"
      ]
    },
    {
      "cell_type": "code",
      "execution_count": 6,
      "metadata": {
        "colab": {
          "base_uri": "https://localhost:8080/",
          "height": 307
        },
        "id": "cT2yS--rsAv4",
        "outputId": "a9a4f4b0-3a25-444f-e301-6cf49cbedb72"
      },
      "outputs": [
        {
          "output_type": "display_data",
          "data": {
            "text/plain": [
              "<Figure size 1500x300 with 8 Axes>"
            ],
            "image/png": "[encoded data removed]"
          },
          "metadata": {}
        }
      ],
      "source": [
        "def iterativePolicyEvaluation(mdp, policy, numIterations=10):\n",
        "    U = np.zeros(len(mdp.S))\n",
        "    U_old = copy.copy(U)\n",
        "    for t in range(numIterations):\n",
        "        for s in mdp.S:  # Iterate over all states\n",
        "            # Use the policy to select the action\n",
        "            a = policy  # Here policy is assumed to be a fixed action index for the MDP\n",
        "\n",
        "            # Calculate the utility based on the transition probabilities and rewards\n",
        "            U[s] = mdp.R[s, a] + mdp.discount * np.sum(mdp.T[s, a, :] * U_old)\n",
        "\n",
        "        U_old = copy.copy(U)  # Update the old utility values for the next iteration\n",
        "\n",
        "    return U\n",
        "\n",
        "numIterations = 5\n",
        "pl.figure(figsize=(15,3))\n",
        "pl.suptitle('Utilities', fontsize=15)\n",
        "for a in range(4):\n",
        "    pl.subplot(1,4,a+1)\n",
        "    U = iterativePolicyEvaluation(mdp=mdp, policy=a, numIterations=numIterations)\n",
        "    mdp.gridPlot(ax=pl.gca(), im=U.reshape(10,10), title='a='+mdp.A[a], cmap='jet')\n",
        "pl.show()\n",
        "#print(np.round(U.reshape(10,10),3))"
      ]
    },
    {
      "cell_type": "code",
      "execution_count": 7,
      "metadata": {
        "colab": {
          "base_uri": "https://localhost:8080/",
          "height": 346,
          "referenced_widgets": [
            "0dc98deac6fa4d5e8b89a14df296d8fa",
            "b2203feeafb446f19c3ebaef3e59c1bf",
            "7c71c654e03b4f6a9061bec9727cf5ef",
            "cf8bc8c42eee4df39629748ee9980c04",
            "4d3e3219eb5f439b9290bf3684b4e0cf",
            "782d9c9d7ff046dc9c38dd74f6ccb79d",
            "f7a5159e50a5490cb02fdbbbd94d12b9",
            "7f13f8bc1a99488295a646719e5a214f",
            "8c203cf6d020414d85d502cf58b33fda",
            "4353f2d293464ede8e449b48a1cee215"
          ]
        },
        "id": "XcMijKgbsAv7",
        "outputId": "14ce1dba-a906-4332-c815-0e180b6f7dc7"
      },
      "outputs": [
        {
          "output_type": "display_data",
          "data": {
            "text/plain": [
              "interactive(children=(ToggleButtons(description='action', options=('left', 'right', 'up', 'down'), value='left…"
            ],
            "application/vnd.jupyter.widget-view+json": {
              "version_major": 2,
              "version_minor": 0,
              "model_id": "0dc98deac6fa4d5e8b89a14df296d8fa"
            }
          },
          "metadata": {}
        }
      ],
      "source": [
        "def f(action, numIter=1):\n",
        "    U = iterativePolicyEvaluation(mdp, policy=mdp.A.index(action), numIterations=numIter)\n",
        "    pl.figure(figsize=(3,3))\n",
        "    mdp.gridPlot(ax=pl.gca(), im=U.reshape(10,10), title='Utility', cmap='jet')\n",
        "    pl.show()\n",
        "\n",
        "interactive_plot = interactive(f, action=widgets.ToggleButtons(options=['left', 'right', 'up', 'down']),\n",
        "                               numIter=widgets.IntSlider(min=0, max=20, step=1, value=0))\n",
        "interactive_plot"
      ]
    },
    {
      "cell_type": "code",
      "execution_count": 11,
      "metadata": {
        "colab": {
          "base_uri": "https://localhost:8080/",
          "height": 282
        },
        "id": "-L8qvyKAsAv9",
        "outputId": "336b09a5-d7d2-44cd-aaeb-bd0fca78f7ec"
      },
      "outputs": [
        {
          "output_type": "display_data",
          "data": {
            "text/plain": [
              "<Figure size 300x300 with 2 Axes>"
            ],
            "image/png": "[encoded data removed]"
          },
          "metadata": {}
        }
      ],
      "source": [
        "#Value iteration\n",
        "def valueIteration(mdp, numIterations=1):\n",
        "    U = np.zeros(len(mdp.S))  # Initialize utility values\n",
        "    for t in range(numIterations):\n",
        "        U_old = copy.copy(U)  # Store the old utility values\n",
        "        for s in mdp.S:  # Iterate over all states\n",
        "            U[s] = max(mdp.R[s, a] + mdp.discount * np.sum(mdp.T[s, a, :] * U_old) for a in range(len(mdp.A)))  # Update utility using the maximum value over actions\n",
        "    return U\n",
        "\n",
        "def policyExtration(mdp, U):\n",
        "    policy = np.zeros(len(mdp.S))  # Initialize the policy array\n",
        "    for s in mdp.S:  # Iterate over all states\n",
        "        policy[s] = np.argmax([mdp.R[s, a] + mdp.discount * np.sum(mdp.T[s, a, :] * U) for a in range(len(mdp.A))])  # Select the action that maximizes utility\n",
        "    return policy\n",
        "\n",
        "U = valueIteration(mdp, numIterations=2)\n",
        "policy = policyExtration(mdp, U=U)\n",
        "pl.figure(figsize=(3,3))\n",
        "mdp.gridPlot(ax=pl.gca(), im=U.reshape(10,10), title='Utility', cmap='jet')\n",
        "for s in range(100):\n",
        "    x, y = mdp.s2xy(s)\n",
        "    if policy[s] == 0:\n",
        "        m='\\u02C2'\n",
        "    elif policy[s] == 1:\n",
        "        m='\\u02C3'\n",
        "    elif policy[s] == 2:\n",
        "        m='\\u02C4'\n",
        "    elif policy[s] == 3:\n",
        "        m='\\u02C5'\n",
        "    pl.text(x-0.5,y-1,m,color='k',size=20)\n",
        "pl.show()"
      ]
    },
    {
      "cell_type": "code",
      "execution_count": 12,
      "metadata": {
        "colab": {
          "base_uri": "https://localhost:8080/",
          "height": 331,
          "referenced_widgets": [
            "1dce1de058994dadaf14fe0c26f42d3f",
            "1ebb41bd121f46488c070abce35d7daa",
            "fa80a2ac26c843c4a1f130558e855a1b",
            "caac96e4e771467c97f63b20b657f254",
            "c74c990636e54374b308db8ad4febc65",
            "edea42b8cd8c4ad59872736b67e768f6",
            "5e05cc72bea94195848ac922626e38af"
          ]
        },
        "id": "W7Hvi7YdsAv_",
        "outputId": "0b449aff-3184-4958-adec-99424b0a6822"
      },
      "outputs": [
        {
          "output_type": "display_data",
          "data": {
            "text/plain": [
              "interactive(children=(IntSlider(value=0, description='numIter', max=20), Output()), _dom_classes=('widget-inte…"
            ],
            "application/vnd.jupyter.widget-view+json": {
              "version_major": 2,
              "version_minor": 0,
              "model_id": "1dce1de058994dadaf14fe0c26f42d3f"
            }
          },
          "metadata": {}
        }
      ],
      "source": [
        "def f(numIter=1):\n",
        "    start_time = timeit.default_timer()\n",
        "    U = valueIteration(mdp, numIterations=numIter)\n",
        "    policy = policyExtration(mdp, U=U)\n",
        "    elapsed = timeit.default_timer() - start_time\n",
        "    print('time=', np.round(elapsed*1000,2))\n",
        "    pl.figure(figsize=(3,3))\n",
        "    mdp.gridPlot(ax=pl.gca(), im=U.reshape(10,10), title='Utility', cmap='jet')\n",
        "    for s in range(100):\n",
        "        x, y = mdp.s2xy(s)\n",
        "        if policy[s] == 0:\n",
        "            m='\\u02C2'\n",
        "        elif policy[s] == 1:\n",
        "            m='\\u02C3'\n",
        "        elif policy[s] == 2:\n",
        "            m='\\u02C4'\n",
        "        elif policy[s] == 3:\n",
        "            m='\\u02C5'\n",
        "        pl.text(x-0.5,y-1,m,color='k',size=20)\n",
        "    pl.show()\n",
        "\n",
        "interactive_plot = interactive(f, numIter=widgets.IntSlider(min=0, max=20, step=1, value=0))\n",
        "interactive_plot"
      ]
    },
    {
      "cell_type": "markdown",
      "metadata": {
        "id": "6il1i5CesAwB"
      },
      "source": [
        "### 2. Policy iteration\n",
        "\n",
        "Policy evaluation can be used in policy iteration:\n",
        "1. Given the current policy, compute U\n",
        "2. Using U, compute a new policy"
      ]
    },
    {
      "cell_type": "code",
      "execution_count": 13,
      "metadata": {
        "id": "5VzzQB0jsAwC"
      },
      "outputs": [],
      "source": [
        "def policyIteration(mdp, numIterations=1):\n",
        "    U_pi_k = np.zeros(len(mdp.S)) #initial values\n",
        "    pi_k = np.random.randint(low=0,high=4,size=len(mdp.S),dtype=int) #initial policy\n",
        "    pi_kp1 = copy.copy(pi_k)\n",
        "    for t in range(numIterations):\n",
        "        # Policy evaluation: compute U_pi_k\n",
        "        U_pi_k_old = np.zeros(len(mdp.S))  # Initialize old utility values for convergence check\n",
        "        while True:\n",
        "            U_pi_k_old = copy.copy(U_pi_k)  # Store the previous utility values\n",
        "            for s in mdp.S:  # Iterate over all states\n",
        "                a = pi_k[s]  # Current action based on the policy\n",
        "                U_pi_k[s] = mdp.R[s, a] + mdp.discount * np.sum(mdp.T[s, a, :] * U_pi_k_old)  # Update utility using Bellman equation\n",
        "            if np.max(np.abs(U_pi_k - U_pi_k_old)) < 1e-6:  # Check for convergence\n",
        "                break\n",
        "\n",
        "        # Policy improvement\n",
        "        for s in mdp.S:  # Iterate over all states\n",
        "            pi_kp1[s] = np.argmax([mdp.R[s, a] + mdp.discount * np.sum(mdp.T[s, a, :] * U_pi_k) for a in range(len(mdp.A))])  # Select the action that maximizes utility\n",
        "    return U_pi_k, pi_kp1\n",
        "\n",
        "U_pi_k, pi_kp1 = policyIteration(mdp, numIterations=2)"
      ]
    },
    {
      "cell_type": "code",
      "execution_count": 14,
      "metadata": {
        "colab": {
          "base_uri": "https://localhost:8080/",
          "height": 331,
          "referenced_widgets": [
            "76bd94b524d246968972eea601d8e9b6",
            "4f6ebbaaa56049a0b4eb8c3e19f3e3e2",
            "a80f396c3d2044ea9bc944da9dbe9cc9",
            "ed54cfb076784d3688728c0d50bbf26c",
            "4f7056b2f08c4cb9b7ac26c3705e6770",
            "a31ef8d5fc544d3c9925bdbb779dc880",
            "9139f58dd3bc432d926b84958741da00"
          ]
        },
        "id": "lSHVZ0CwsAwE",
        "outputId": "7624f184-f17b-4c56-c44d-3f04de3203eb"
      },
      "outputs": [
        {
          "output_type": "display_data",
          "data": {
            "text/plain": [
              "interactive(children=(IntSlider(value=0, description='numIter', max=20), Output()), _dom_classes=('widget-inte…"
            ],
            "application/vnd.jupyter.widget-view+json": {
              "version_major": 2,
              "version_minor": 0,
              "model_id": "76bd94b524d246968972eea601d8e9b6"
            }
          },
          "metadata": {}
        }
      ],
      "source": [
        "def f(numIter=1):\n",
        "    start_time = timeit.default_timer()\n",
        "    # code you want to evaluate\n",
        "    value, policy = policyIteration(mdp, numIterations=numIter)\n",
        "    elapsed = timeit.default_timer() - start_time\n",
        "    print('time=', np.round(elapsed*1000,2))\n",
        "    pl.figure(figsize=(3,3))\n",
        "    mdp.gridPlot(ax=pl.gca(), im=value.reshape(10,10), title='Utility', cmap='jet')\n",
        "    for s in range(100):\n",
        "        x, y = mdp.s2xy(s)\n",
        "        if policy[s] == 0:\n",
        "            m='\\u02C2'\n",
        "        elif policy[s] == 1:\n",
        "            m='\\u02C3'\n",
        "        elif policy[s] == 2:\n",
        "            m='\\u02C4'\n",
        "        elif policy[s] == 3:\n",
        "            m='\\u02C5'\n",
        "        pl.text(x-0.5,y-1,m,color='k',size=20)\n",
        "    pl.show()\n",
        "\n",
        "interactive_plot = interactive(f, numIter=widgets.IntSlider(min=0, max=20, step=1, value=0))\n",
        "interactive_plot"
      ]
    },
    {
      "cell_type": "code",
      "source": [
        "def f(numIter=1):\n",
        "    start_time = timeit.default_timer()\n",
        "    # Execute policy iteration with the specified number of iterations\n",
        "    value, policy = policyIteration(mdp, numIterations=numIter)\n",
        "    elapsed = timeit.default_timer() - start_time\n",
        "    print(f'Time taken: {elapsed * 1000:.2f} ms')\n",
        "\n",
        "    # Plot the utilities\n",
        "    pl.figure(figsize=(3, 3))\n",
        "    mdp.gridPlot(ax=pl.gca(), im=value.reshape(10, 10), title='Utility', cmap='jet')\n",
        "\n",
        "    # Plot the policy overlaid on the grid\n",
        "    for s in range(100):\n",
        "        x, y = mdp.s2xy(s)\n",
        "        if policy[s] == 0:\n",
        "            marker = '\\u02C2'  # Left arrow\n",
        "        elif policy[s] == 1:\n",
        "            marker = '\\u02C3'  # Right arrow\n",
        "        elif policy[s] == 2:\n",
        "            marker = '\\u02C4'  # Up arrow\n",
        "        elif policy[s] == 3:\n",
        "            marker = '\\u02C5'  # Down arrow\n",
        "        pl.text(x - 0.5, y - 1, marker, color='k', size=20)\n",
        "\n",
        "    pl.show()\n",
        "\n",
        "# Make it interactive\n",
        "interactive_plot = interactive(f, numIter=widgets.IntSlider(min=0, max=20, step=1, value=0))\n",
        "interactive_plot\n"
      ],
      "metadata": {
        "id": "1xPIczEn5B2G"
      },
      "execution_count": null,
      "outputs": []
    },
    {
      "cell_type": "code",
      "source": [
        "def f(numIter=1):\n",
        "    start_time = timeit.default_timer()\n",
        "    # Execute policy iteration with the specified number of iterations\n",
        "    value, policy = policyIteration(mdp, numIterations=numIter)\n",
        "    elapsed = timeit.default_timer() - start_time\n",
        "    print(f'Time taken: {elapsed * 1000:.2f} ms')\n",
        "\n",
        "    # Plot the utilities\n",
        "    pl.figure(figsize=(3, 3))\n",
        "    mdp.gridPlot(ax=pl.gca(), im=value.reshape(10, 10), title='Utility', cmap='jet')\n",
        "\n",
        "    # Plot the policy overlaid on the grid\n",
        "    for s in range(100):\n",
        "        x, y = mdp.s2xy(s)\n",
        "        if policy[s] == 0:\n",
        "            marker = '\\u02C2'  # Left arrow\n",
        "        elif policy[s] == 1:\n",
        "            marker = '\\u02C3'  # Right arrow\n",
        "        elif policy[s] == 2:\n",
        "            marker = '\\u02C4'  # Up arrow\n",
        "        elif policy[s] == 3:\n",
        "            marker = '\\u02C5'  # Down arrow\n",
        "        pl.text(x - 0.5, y - 1, marker, color='k', size=20)\n",
        "\n",
        "    pl.show()\n",
        "\n",
        "# Make it interactive\n",
        "interactive_plot = interactive(f, numIter=widgets.IntSlider(min=0, max=20, step=1, value=0))\n",
        "interactive_plot\n"
      ],
      "metadata": {
        "id": "Pt6fwp-r7tHM",
        "outputId": "f5cce3c2-de0d-44f8-c3c4-639774938719",
        "colab": {
          "base_uri": "https://localhost:8080/",
          "height": 331,
          "referenced_widgets": [
            "04944ed7f2004c79bbb9f3ccd1b93805",
            "9b205d69bf68404184e8434cb40078a4",
            "a471e7d629e243269b0b9451825bf8e2",
            "52116ad22ebc49689bf542e099bac610",
            "ba81acf2894f43f39f9c425effaf3cfc",
            "b4626eab610f4614a1ba61d036a978d2",
            "c3f5c96b0ce341db9d4b86ffcdd38477"
          ]
        }
      },
      "execution_count": 15,
      "outputs": [
        {
          "output_type": "display_data",
          "data": {
            "text/plain": [
              "interactive(children=(IntSlider(value=0, description='numIter', max=20), Output()), _dom_classes=('widget-inte…"
            ],
            "application/vnd.jupyter.widget-view+json": {
              "version_major": 2,
              "version_minor": 0,
              "model_id": "04944ed7f2004c79bbb9f3ccd1b93805"
            }
          },
          "metadata": {}
        }
      ]
    }
  ],
  "metadata": {
    "@webio": {
      "lastCommId": "21E8675012EB469B8DD225E5191E1594",
      "lastKernelId": "ec90fbfa-47cf-4656-a1ce-4ca4670e6701"
    },
    "colab": {
      "provenance": []
    },
    "kernelspec": {
      "display_name": "Python 3",
      "language": "python",
      "name": "python3"
    },
    "language_info": {
      "codemirror_mode": {
        "name": "ipython",
        "version": 3
      },
      "file_extension": ".py",
      "mimetype": "text/x-python",
      "name": "python",
      "nbconvert_exporter": "python",
      "pygments_lexer": "ipython3",
      "version": "3.8.8"
    },
    "widgets": {
      "application/vnd.jupyter.widget-state+json": {
        "2db85ac0af3344b3822784f78daf339d": {
          "model_module": "@jupyter-widgets/controls",
          "model_name": "VBoxModel",
          "model_module_version": "1.5.0",
          "state": {
            "_dom_classes": [
              "widget-interact"
            ],
            "_model_module": "@jupyter-widgets/controls",
            "_model_module_version": "1.5.0",
            "_model_name": "VBoxModel",
            "_view_count": null,
            "_view_module": "@jupyter-widgets/controls",
            "_view_module_version": "1.5.0",
            "_view_name": "VBoxView",
            "box_style": "",
            "children": [
              "IPY_MODEL_d1acdd1e307043dab2d6c033fb0a0c1a",
              "IPY_MODEL_4797816b3d7441c2972ced2f41b3383e",
              "IPY_MODEL_3133bb51ebd84dd496d69b457ad61cae",
              "IPY_MODEL_d8362c0d5be74eaf8e89e1db9a07c38e"
            ],
            "layout": "IPY_MODEL_872200e687174253a879821419d55502"
          }
        },
        "d1acdd1e307043dab2d6c033fb0a0c1a": {
          "model_module": "@jupyter-widgets/controls",
          "model_name": "TextModel",
          "model_module_version": "1.5.0",
          "state": {
            "_dom_classes": [],
            "_model_module": "@jupyter-widgets/controls",
            "_model_module_version": "1.5.0",
            "_model_name": "TextModel",
            "_view_count": null,
            "_view_module": "@jupyter-widgets/controls",
            "_view_module_version": "1.5.0",
            "_view_name": "TextView",
            "continuous_update": true,
            "description": "s0_x",
            "description_tooltip": null,
            "disabled": false,
            "layout": "IPY_MODEL_588f15d495584d629da84e55505a5547",
            "placeholder": "​",
            "style": "IPY_MODEL_88af3139f170454d954e5aa3e1af1517",
            "value": "4"
          }
        },
        "4797816b3d7441c2972ced2f41b3383e": {
          "model_module": "@jupyter-widgets/controls",
          "model_name": "TextModel",
          "model_module_version": "1.5.0",
          "state": {
            "_dom_classes": [],
            "_model_module": "@jupyter-widgets/controls",
            "_model_module_version": "1.5.0",
            "_model_name": "TextModel",
            "_view_count": null,
            "_view_module": "@jupyter-widgets/controls",
            "_view_module_version": "1.5.0",
            "_view_name": "TextView",
            "continuous_update": true,
            "description": "s0_y",
            "description_tooltip": null,
            "disabled": false,
            "layout": "IPY_MODEL_c252991f6b74427f9d12ad2569c1bc02",
            "placeholder": "​",
            "style": "IPY_MODEL_ea66b87cad744fd3a2fc4042a7c4d14c",
            "value": "5"
          }
        },
        "3133bb51ebd84dd496d69b457ad61cae": {
          "model_module": "@jupyter-widgets/controls",
          "model_name": "ToggleButtonsModel",
          "model_module_version": "1.5.0",
          "state": {
            "_dom_classes": [],
            "_model_module": "@jupyter-widgets/controls",
            "_model_module_version": "1.5.0",
            "_model_name": "ToggleButtonsModel",
            "_options_labels": [
              "left",
              "right",
              "up",
              "down"
            ],
            "_view_count": null,
            "_view_module": "@jupyter-widgets/controls",
            "_view_module_version": "1.5.0",
            "_view_name": "ToggleButtonsView",
            "button_style": "",
            "description": "action",
            "description_tooltip": null,
            "disabled": false,
            "icons": [],
            "index": 0,
            "layout": "IPY_MODEL_ef6d53562de64f7198793cc19da82b64",
            "style": "IPY_MODEL_a54ae589e5204be0902c70e7c3f0221b",
            "tooltips": []
          }
        },
        "d8362c0d5be74eaf8e89e1db9a07c38e": {
          "model_module": "@jupyter-widgets/output",
          "model_name": "OutputModel",
          "model_module_version": "1.0.0",
          "state": {
            "_dom_classes": [],
            "_model_module": "@jupyter-widgets/output",
            "_model_module_version": "1.0.0",
            "_model_name": "OutputModel",
            "_view_count": null,
            "_view_module": "@jupyter-widgets/output",
            "_view_module_version": "1.0.0",
            "_view_name": "OutputView",
            "layout": "IPY_MODEL_9e622de831c04c39933bce865863c94a",
            "msg_id": "",
            "outputs": [
              {
                "output_type": "display_data",
                "data": {
                  "text/plain": "<Figure size 600x600 with 2 Axes>",
                  "image/png": "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\n"
                },
                "metadata": {}
              }
            ]
          }
        },
        "872200e687174253a879821419d55502": {
          "model_module": "@jupyter-widgets/base",
          "model_name": "LayoutModel",
          "model_module_version": "1.2.0",
          "state": {
            "_model_module": "@jupyter-widgets/base",
            "_model_module_version": "1.2.0",
            "_model_name": "LayoutModel",
            "_view_count": null,
            "_view_module": "@jupyter-widgets/base",
            "_view_module_version": "1.2.0",
            "_view_name": "LayoutView",
            "align_content": null,
            "align_items": null,
            "align_self": null,
            "border": null,
            "bottom": null,
            "display": null,
            "flex": null,
            "flex_flow": null,
            "grid_area": null,
            "grid_auto_columns": null,
            "grid_auto_flow": null,
            "grid_auto_rows": null,
            "grid_column": null,
            "grid_gap": null,
            "grid_row": null,
            "grid_template_areas": null,
            "grid_template_columns": null,
            "grid_template_rows": null,
            "height": null,
            "justify_content": null,
            "justify_items": null,
            "left": null,
            "margin": null,
            "max_height": null,
            "max_width": null,
            "min_height": null,
            "min_width": null,
            "object_fit": null,
            "object_position": null,
            "order": null,
            "overflow": null,
            "overflow_x": null,
            "overflow_y": null,
            "padding": null,
            "right": null,
            "top": null,
            "visibility": null,
            "width": null
          }
        },
        "588f15d495584d629da84e55505a5547": {
          "model_module": "@jupyter-widgets/base",
          "model_name": "LayoutModel",
          "model_module_version": "1.2.0",
          "state": {
            "_model_module": "@jupyter-widgets/base",
            "_model_module_version": "1.2.0",
            "_model_name": "LayoutModel",
            "_view_count": null,
            "_view_module": "@jupyter-widgets/base",
            "_view_module_version": "1.2.0",
            "_view_name": "LayoutView",
            "align_content": null,
            "align_items": null,
            "align_self": null,
            "border": null,
            "bottom": null,
            "display": null,
            "flex": null,
            "flex_flow": null,
            "grid_area": null,
            "grid_auto_columns": null,
            "grid_auto_flow": null,
            "grid_auto_rows": null,
            "grid_column": null,
            "grid_gap": null,
            "grid_row": null,
            "grid_template_areas": null,
            "grid_template_columns": null,
            "grid_template_rows": null,
            "height": null,
            "justify_content": null,
            "justify_items": null,
            "left": null,
            "margin": null,
            "max_height": null,
            "max_width": null,
            "min_height": null,
            "min_width": null,
            "object_fit": null,
            "object_position": null,
            "order": null,
            "overflow": null,
            "overflow_x": null,
            "overflow_y": null,
            "padding": null,
            "right": null,
            "top": null,
            "visibility": null,
            "width": null
          }
        },
        "88af3139f170454d954e5aa3e1af1517": {
          "model_module": "@jupyter-widgets/controls",
          "model_name": "DescriptionStyleModel",
          "model_module_version": "1.5.0",
          "state": {
            "_model_module": "@jupyter-widgets/controls",
            "_model_module_version": "1.5.0",
            "_model_name": "DescriptionStyleModel",
            "_view_count": null,
            "_view_module": "@jupyter-widgets/base",
            "_view_module_version": "1.2.0",
            "_view_name": "StyleView",
            "description_width": ""
          }
        },
        "c252991f6b74427f9d12ad2569c1bc02": {
          "model_module": "@jupyter-widgets/base",
          "model_name": "LayoutModel",
          "model_module_version": "1.2.0",
          "state": {
            "_model_module": "@jupyter-widgets/base",
            "_model_module_version": "1.2.0",
            "_model_name": "LayoutModel",
            "_view_count": null,
            "_view_module": "@jupyter-widgets/base",
            "_view_module_version": "1.2.0",
            "_view_name": "LayoutView",
            "align_content": null,
            "align_items": null,
            "align_self": null,
            "border": null,
            "bottom": null,
            "display": null,
            "flex": null,
            "flex_flow": null,
            "grid_area": null,
            "grid_auto_columns": null,
            "grid_auto_flow": null,
            "grid_auto_rows": null,
            "grid_column": null,
            "grid_gap": null,
            "grid_row": null,
            "grid_template_areas": null,
            "grid_template_columns": null,
            "grid_template_rows": null,
            "height": null,
            "justify_content": null,
            "justify_items": null,
            "left": null,
            "margin": null,
            "max_height": null,
            "max_width": null,
            "min_height": null,
            "min_width": null,
            "object_fit": null,
            "object_position": null,
            "order": null,
            "overflow": null,
            "overflow_x": null,
            "overflow_y": null,
            "padding": null,
            "right": null,
            "top": null,
            "visibility": null,
            "width": null
          }
        },
        "ea66b87cad744fd3a2fc4042a7c4d14c": {
          "model_module": "@jupyter-widgets/controls",
          "model_name": "DescriptionStyleModel",
          "model_module_version": "1.5.0",
          "state": {
            "_model_module": "@jupyter-widgets/controls",
            "_model_module_version": "1.5.0",
            "_model_name": "DescriptionStyleModel",
            "_view_count": null,
            "_view_module": "@jupyter-widgets/base",
            "_view_module_version": "1.2.0",
            "_view_name": "StyleView",
            "description_width": ""
          }
        },
        "ef6d53562de64f7198793cc19da82b64": {
          "model_module": "@jupyter-widgets/base",
          "model_name": "LayoutModel",
          "model_module_version": "1.2.0",
          "state": {
            "_model_module": "@jupyter-widgets/base",
            "_model_module_version": "1.2.0",
            "_model_name": "LayoutModel",
            "_view_count": null,
            "_view_module": "@jupyter-widgets/base",
            "_view_module_version": "1.2.0",
            "_view_name": "LayoutView",
            "align_content": null,
            "align_items": null,
            "align_self": null,
            "border": null,
            "bottom": null,
            "display": null,
            "flex": null,
            "flex_flow": null,
            "grid_area": null,
            "grid_auto_columns": null,
            "grid_auto_flow": null,
            "grid_auto_rows": null,
            "grid_column": null,
            "grid_gap": null,
            "grid_row": null,
            "grid_template_areas": null,
            "grid_template_columns": null,
            "grid_template_rows": null,
            "height": null,
            "justify_content": null,
            "justify_items": null,
            "left": null,
            "margin": null,
            "max_height": null,
            "max_width": null,
            "min_height": null,
            "min_width": null,
            "object_fit": null,
            "object_position": null,
            "order": null,
            "overflow": null,
            "overflow_x": null,
            "overflow_y": null,
            "padding": null,
            "right": null,
            "top": null,
            "visibility": null,
            "width": null
          }
        },
        "a54ae589e5204be0902c70e7c3f0221b": {
          "model_module": "@jupyter-widgets/controls",
          "model_name": "ToggleButtonsStyleModel",
          "model_module_version": "1.5.0",
          "state": {
            "_model_module": "@jupyter-widgets/controls",
            "_model_module_version": "1.5.0",
            "_model_name": "ToggleButtonsStyleModel",
            "_view_count": null,
            "_view_module": "@jupyter-widgets/base",
            "_view_module_version": "1.2.0",
            "_view_name": "StyleView",
            "button_width": "",
            "description_width": "",
            "font_weight": ""
          }
        },
        "9e622de831c04c39933bce865863c94a": {
          "model_module": "@jupyter-widgets/base",
          "model_name": "LayoutModel",
          "model_module_version": "1.2.0",
          "state": {
            "_model_module": "@jupyter-widgets/base",
            "_model_module_version": "1.2.0",
            "_model_name": "LayoutModel",
            "_view_count": null,
            "_view_module": "@jupyter-widgets/base",
            "_view_module_version": "1.2.0",
            "_view_name": "LayoutView",
            "align_content": null,
            "align_items": null,
            "align_self": null,
            "border": null,
            "bottom": null,
            "display": null,
            "flex": null,
            "flex_flow": null,
            "grid_area": null,
            "grid_auto_columns": null,
            "grid_auto_flow": null,
            "grid_auto_rows": null,
            "grid_column": null,
            "grid_gap": null,
            "grid_row": null,
            "grid_template_areas": null,
            "grid_template_columns": null,
            "grid_template_rows": null,
            "height": null,
            "justify_content": null,
            "justify_items": null,
            "left": null,
            "margin": null,
            "max_height": null,
            "max_width": null,
            "min_height": null,
            "min_width": null,
            "object_fit": null,
            "object_position": null,
            "order": null,
            "overflow": null,
            "overflow_x": null,
            "overflow_y": null,
            "padding": null,
            "right": null,
            "top": null,
            "visibility": null,
            "width": null
          }
        },
        "0dc98deac6fa4d5e8b89a14df296d8fa": {
          "model_module": "@jupyter-widgets/controls",
          "model_name": "VBoxModel",
          "model_module_version": "1.5.0",
          "state": {
            "_dom_classes": [
              "widget-interact"
            ],
            "_model_module": "@jupyter-widgets/controls",
            "_model_module_version": "1.5.0",
            "_model_name": "VBoxModel",
            "_view_count": null,
            "_view_module": "@jupyter-widgets/controls",
            "_view_module_version": "1.5.0",
            "_view_name": "VBoxView",
            "box_style": "",
            "children": [
              "IPY_MODEL_b2203feeafb446f19c3ebaef3e59c1bf",
              "IPY_MODEL_7c71c654e03b4f6a9061bec9727cf5ef",
              "IPY_MODEL_cf8bc8c42eee4df39629748ee9980c04"
            ],
            "layout": "IPY_MODEL_4d3e3219eb5f439b9290bf3684b4e0cf"
          }
        },
        "b2203feeafb446f19c3ebaef3e59c1bf": {
          "model_module": "@jupyter-widgets/controls",
          "model_name": "ToggleButtonsModel",
          "model_module_version": "1.5.0",
          "state": {
            "_dom_classes": [],
            "_model_module": "@jupyter-widgets/controls",
            "_model_module_version": "1.5.0",
            "_model_name": "ToggleButtonsModel",
            "_options_labels": [
              "left",
              "right",
              "up",
              "down"
            ],
            "_view_count": null,
            "_view_module": "@jupyter-widgets/controls",
            "_view_module_version": "1.5.0",
            "_view_name": "ToggleButtonsView",
            "button_style": "",
            "description": "action",
            "description_tooltip": null,
            "disabled": false,
            "icons": [],
            "index": 0,
            "layout": "IPY_MODEL_782d9c9d7ff046dc9c38dd74f6ccb79d",
            "style": "IPY_MODEL_f7a5159e50a5490cb02fdbbbd94d12b9",
            "tooltips": []
          }
        },
        "7c71c654e03b4f6a9061bec9727cf5ef": {
          "model_module": "@jupyter-widgets/controls",
          "model_name": "IntSliderModel",
          "model_module_version": "1.5.0",
          "state": {
            "_dom_classes": [],
            "_model_module": "@jupyter-widgets/controls",
            "_model_module_version": "1.5.0",
            "_model_name": "IntSliderModel",
            "_view_count": null,
            "_view_module": "@jupyter-widgets/controls",
            "_view_module_version": "1.5.0",
            "_view_name": "IntSliderView",
            "continuous_update": true,
            "description": "numIter",
            "description_tooltip": null,
            "disabled": false,
            "layout": "IPY_MODEL_7f13f8bc1a99488295a646719e5a214f",
            "max": 20,
            "min": 0,
            "orientation": "horizontal",
            "readout": true,
            "readout_format": "d",
            "step": 1,
            "style": "IPY_MODEL_8c203cf6d020414d85d502cf58b33fda",
            "value": 0
          }
        },
        "cf8bc8c42eee4df39629748ee9980c04": {
          "model_module": "@jupyter-widgets/output",
          "model_name": "OutputModel",
          "model_module_version": "1.0.0",
          "state": {
            "_dom_classes": [],
            "_model_module": "@jupyter-widgets/output",
            "_model_module_version": "1.0.0",
            "_model_name": "OutputModel",
            "_view_count": null,
            "_view_module": "@jupyter-widgets/output",
            "_view_module_version": "1.0.0",
            "_view_name": "OutputView",
            "layout": "IPY_MODEL_4353f2d293464ede8e449b48a1cee215",
            "msg_id": "",
            "outputs": [
              {
                "output_type": "display_data",
                "data": {
                  "text/plain": "<Figure size 300x300 with 2 Axes>",
                  "image/png": "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\n"
                },
                "metadata": {}
              }
            ]
          }
        },
        "4d3e3219eb5f439b9290bf3684b4e0cf": {
          "model_module": "@jupyter-widgets/base",
          "model_name": "LayoutModel",
          "model_module_version": "1.2.0",
          "state": {
            "_model_module": "@jupyter-widgets/base",
            "_model_module_version": "1.2.0",
            "_model_name": "LayoutModel",
            "_view_count": null,
            "_view_module": "@jupyter-widgets/base",
            "_view_module_version": "1.2.0",
            "_view_name": "LayoutView",
            "align_content": null,
            "align_items": null,
            "align_self": null,
            "border": null,
            "bottom": null,
            "display": null,
            "flex": null,
            "flex_flow": null,
            "grid_area": null,
            "grid_auto_columns": null,
            "grid_auto_flow": null,
            "grid_auto_rows": null,
            "grid_column": null,
            "grid_gap": null,
            "grid_row": null,
            "grid_template_areas": null,
            "grid_template_columns": null,
            "grid_template_rows": null,
            "height": null,
            "justify_content": null,
            "justify_items": null,
            "left": null,
            "margin": null,
            "max_height": null,
            "max_width": null,
            "min_height": null,
            "min_width": null,
            "object_fit": null,
            "object_position": null,
            "order": null,
            "overflow": null,
            "overflow_x": null,
            "overflow_y": null,
            "padding": null,
            "right": null,
            "top": null,
            "visibility": null,
            "width": null
          }
        },
        "782d9c9d7ff046dc9c38dd74f6ccb79d": {
          "model_module": "@jupyter-widgets/base",
          "model_name": "LayoutModel",
          "model_module_version": "1.2.0",
          "state": {
            "_model_module": "@jupyter-widgets/base",
            "_model_module_version": "1.2.0",
            "_model_name": "LayoutModel",
            "_view_count": null,
            "_view_module": "@jupyter-widgets/base",
            "_view_module_version": "1.2.0",
            "_view_name": "LayoutView",
            "align_content": null,
            "align_items": null,
            "align_self": null,
            "border": null,
            "bottom": null,
            "display": null,
            "flex": null,
            "flex_flow": null,
            "grid_area": null,
            "grid_auto_columns": null,
            "grid_auto_flow": null,
            "grid_auto_rows": null,
            "grid_column": null,
            "grid_gap": null,
            "grid_row": null,
            "grid_template_areas": null,
            "grid_template_columns": null,
            "grid_template_rows": null,
            "height": null,
            "justify_content": null,
            "justify_items": null,
            "left": null,
            "margin": null,
            "max_height": null,
            "max_width": null,
            "min_height": null,
            "min_width": null,
            "object_fit": null,
            "object_position": null,
            "order": null,
            "overflow": null,
            "overflow_x": null,
            "overflow_y": null,
            "padding": null,
            "right": null,
            "top": null,
            "visibility": null,
            "width": null
          }
        },
        "f7a5159e50a5490cb02fdbbbd94d12b9": {
          "model_module": "@jupyter-widgets/controls",
          "model_name": "ToggleButtonsStyleModel",
          "model_module_version": "1.5.0",
          "state": {
            "_model_module": "@jupyter-widgets/controls",
            "_model_module_version": "1.5.0",
            "_model_name": "ToggleButtonsStyleModel",
            "_view_count": null,
            "_view_module": "@jupyter-widgets/base",
            "_view_module_version": "1.2.0",
            "_view_name": "StyleView",
            "button_width": "",
            "description_width": "",
            "font_weight": ""
          }
        },
        "7f13f8bc1a99488295a646719e5a214f": {
          "model_module": "@jupyter-widgets/base",
          "model_name": "LayoutModel",
          "model_module_version": "1.2.0",
          "state": {
            "_model_module": "@jupyter-widgets/base",
            "_model_module_version": "1.2.0",
            "_model_name": "LayoutModel",
            "_view_count": null,
            "_view_module": "@jupyter-widgets/base",
            "_view_module_version": "1.2.0",
            "_view_name": "LayoutView",
            "align_content": null,
            "align_items": null,
            "align_self": null,
            "border": null,
            "bottom": null,
            "display": null,
            "flex": null,
            "flex_flow": null,
            "grid_area": null,
            "grid_auto_columns": null,
            "grid_auto_flow": null,
            "grid_auto_rows": null,
            "grid_column": null,
            "grid_gap": null,
            "grid_row": null,
            "grid_template_areas": null,
            "grid_template_columns": null,
            "grid_template_rows": null,
            "height": null,
            "justify_content": null,
            "justify_items": null,
            "left": null,
            "margin": null,
            "max_height": null,
            "max_width": null,
            "min_height": null,
            "min_width": null,
            "object_fit": null,
            "object_position": null,
            "order": null,
            "overflow": null,
            "overflow_x": null,
            "overflow_y": null,
            "padding": null,
            "right": null,
            "top": null,
            "visibility": null,
            "width": null
          }
        },
        "8c203cf6d020414d85d502cf58b33fda": {
          "model_module": "@jupyter-widgets/controls",
          "model_name": "SliderStyleModel",
          "model_module_version": "1.5.0",
          "state": {
            "_model_module": "@jupyter-widgets/controls",
            "_model_module_version": "1.5.0",
            "_model_name": "SliderStyleModel",
            "_view_count": null,
            "_view_module": "@jupyter-widgets/base",
            "_view_module_version": "1.2.0",
            "_view_name": "StyleView",
            "description_width": "",
            "handle_color": null
          }
        },
        "4353f2d293464ede8e449b48a1cee215": {
          "model_module": "@jupyter-widgets/base",
          "model_name": "LayoutModel",
          "model_module_version": "1.2.0",
          "state": {
            "_model_module": "@jupyter-widgets/base",
            "_model_module_version": "1.2.0",
            "_model_name": "LayoutModel",
            "_view_count": null,
            "_view_module": "@jupyter-widgets/base",
            "_view_module_version": "1.2.0",
            "_view_name": "LayoutView",
            "align_content": null,
            "align_items": null,
            "align_self": null,
            "border": null,
            "bottom": null,
            "display": null,
            "flex": null,
            "flex_flow": null,
            "grid_area": null,
            "grid_auto_columns": null,
            "grid_auto_flow": null,
            "grid_auto_rows": null,
            "grid_column": null,
            "grid_gap": null,
            "grid_row": null,
            "grid_template_areas": null,
            "grid_template_columns": null,
            "grid_template_rows": null,
            "height": null,
            "justify_content": null,
            "justify_items": null,
            "left": null,
            "margin": null,
            "max_height": null,
            "max_width": null,
            "min_height": null,
            "min_width": null,
            "object_fit": null,
            "object_position": null,
            "order": null,
            "overflow": null,
            "overflow_x": null,
            "overflow_y": null,
            "padding": null,
            "right": null,
            "top": null,
            "visibility": null,
            "width": null
          }
        },
        "1dce1de058994dadaf14fe0c26f42d3f": {
          "model_module": "@jupyter-widgets/controls",
          "model_name": "VBoxModel",
          "model_module_version": "1.5.0",
          "state": {
            "_dom_classes": [
              "widget-interact"
            ],
            "_model_module": "@jupyter-widgets/controls",
            "_model_module_version": "1.5.0",
            "_model_name": "VBoxModel",
            "_view_count": null,
            "_view_module": "@jupyter-widgets/controls",
            "_view_module_version": "1.5.0",
            "_view_name": "VBoxView",
            "box_style": "",
            "children": [
              "IPY_MODEL_1ebb41bd121f46488c070abce35d7daa",
              "IPY_MODEL_fa80a2ac26c843c4a1f130558e855a1b"
            ],
            "layout": "IPY_MODEL_caac96e4e771467c97f63b20b657f254"
          }
        },
        "1ebb41bd121f46488c070abce35d7daa": {
          "model_module": "@jupyter-widgets/controls",
          "model_name": "IntSliderModel",
          "model_module_version": "1.5.0",
          "state": {
            "_dom_classes": [],
            "_model_module": "@jupyter-widgets/controls",
            "_model_module_version": "1.5.0",
            "_model_name": "IntSliderModel",
            "_view_count": null,
            "_view_module": "@jupyter-widgets/controls",
            "_view_module_version": "1.5.0",
            "_view_name": "IntSliderView",
            "continuous_update": true,
            "description": "numIter",
            "description_tooltip": null,
            "disabled": false,
            "layout": "IPY_MODEL_c74c990636e54374b308db8ad4febc65",
            "max": 20,
            "min": 0,
            "orientation": "horizontal",
            "readout": true,
            "readout_format": "d",
            "step": 1,
            "style": "IPY_MODEL_edea42b8cd8c4ad59872736b67e768f6",
            "value": 0
          }
        },
        "fa80a2ac26c843c4a1f130558e855a1b": {
          "model_module": "@jupyter-widgets/output",
          "model_name": "OutputModel",
          "model_module_version": "1.0.0",
          "state": {
            "_dom_classes": [],
            "_model_module": "@jupyter-widgets/output",
            "_model_module_version": "1.0.0",
            "_model_name": "OutputModel",
            "_view_count": null,
            "_view_module": "@jupyter-widgets/output",
            "_view_module_version": "1.0.0",
            "_view_name": "OutputView",
            "layout": "IPY_MODEL_5e05cc72bea94195848ac922626e38af",
            "msg_id": "",
            "outputs": [
              {
                "output_type": "stream",
                "name": "stdout",
                "text": [
                  "time= 5.55\n"
                ]
              },
              {
                "output_type": "display_data",
                "data": {
                  "text/plain": "<Figure size 300x300 with 2 Axes>",
                  "image/png": "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\n"
                },
                "metadata": {}
              }
            ]
          }
        },
        "caac96e4e771467c97f63b20b657f254": {
          "model_module": "@jupyter-widgets/base",
          "model_name": "LayoutModel",
          "model_module_version": "1.2.0",
          "state": {
            "_model_module": "@jupyter-widgets/base",
            "_model_module_version": "1.2.0",
            "_model_name": "LayoutModel",
            "_view_count": null,
            "_view_module": "@jupyter-widgets/base",
            "_view_module_version": "1.2.0",
            "_view_name": "LayoutView",
            "align_content": null,
            "align_items": null,
            "align_self": null,
            "border": null,
            "bottom": null,
            "display": null,
            "flex": null,
            "flex_flow": null,
            "grid_area": null,
            "grid_auto_columns": null,
            "grid_auto_flow": null,
            "grid_auto_rows": null,
            "grid_column": null,
            "grid_gap": null,
            "grid_row": null,
            "grid_template_areas": null,
            "grid_template_columns": null,
            "grid_template_rows": null,
            "height": null,
            "justify_content": null,
            "justify_items": null,
            "left": null,
            "margin": null,
            "max_height": null,
            "max_width": null,
            "min_height": null,
            "min_width": null,
            "object_fit": null,
            "object_position": null,
            "order": null,
            "overflow": null,
            "overflow_x": null,
            "overflow_y": null,
            "padding": null,
            "right": null,
            "top": null,
            "visibility": null,
            "width": null
          }
        },
        "c74c990636e54374b308db8ad4febc65": {
          "model_module": "@jupyter-widgets/base",
          "model_name": "LayoutModel",
          "model_module_version": "1.2.0",
          "state": {
            "_model_module": "@jupyter-widgets/base",
            "_model_module_version": "1.2.0",
            "_model_name": "LayoutModel",
            "_view_count": null,
            "_view_module": "@jupyter-widgets/base",
            "_view_module_version": "1.2.0",
            "_view_name": "LayoutView",
            "align_content": null,
            "align_items": null,
            "align_self": null,
            "border": null,
            "bottom": null,
            "display": null,
            "flex": null,
            "flex_flow": null,
            "grid_area": null,
            "grid_auto_columns": null,
            "grid_auto_flow": null,
            "grid_auto_rows": null,
            "grid_column": null,
            "grid_gap": null,
            "grid_row": null,
            "grid_template_areas": null,
            "grid_template_columns": null,
            "grid_template_rows": null,
            "height": null,
            "justify_content": null,
            "justify_items": null,
            "left": null,
            "margin": null,
            "max_height": null,
            "max_width": null,
            "min_height": null,
            "min_width": null,
            "object_fit": null,
            "object_position": null,
            "order": null,
            "overflow": null,
            "overflow_x": null,
            "overflow_y": null,
            "padding": null,
            "right": null,
            "top": null,
            "visibility": null,
            "width": null
          }
        },
        "edea42b8cd8c4ad59872736b67e768f6": {
          "model_module": "@jupyter-widgets/controls",
          "model_name": "SliderStyleModel",
          "model_module_version": "1.5.0",
          "state": {
            "_model_module": "@jupyter-widgets/controls",
            "_model_module_version": "1.5.0",
            "_model_name": "SliderStyleModel",
            "_view_count": null,
            "_view_module": "@jupyter-widgets/base",
            "_view_module_version": "1.2.0",
            "_view_name": "StyleView",
            "description_width": "",
            "handle_color": null
          }
        },
        "5e05cc72bea94195848ac922626e38af": {
          "model_module": "@jupyter-widgets/base",
          "model_name": "LayoutModel",
          "model_module_version": "1.2.0",
          "state": {
            "_model_module": "@jupyter-widgets/base",
            "_model_module_version": "1.2.0",
            "_model_name": "LayoutModel",
            "_view_count": null,
            "_view_module": "@jupyter-widgets/base",
            "_view_module_version": "1.2.0",
            "_view_name": "LayoutView",
            "align_content": null,
            "align_items": null,
            "align_self": null,
            "border": null,
            "bottom": null,
            "display": null,
            "flex": null,
            "flex_flow": null,
            "grid_area": null,
            "grid_auto_columns": null,
            "grid_auto_flow": null,
            "grid_auto_rows": null,
            "grid_column": null,
            "grid_gap": null,
            "grid_row": null,
            "grid_template_areas": null,
            "grid_template_columns": null,
            "grid_template_rows": null,
            "height": null,
            "justify_content": null,
            "justify_items": null,
            "left": null,
            "margin": null,
            "max_height": null,
            "max_width": null,
            "min_height": null,
            "min_width": null,
            "object_fit": null,
            "object_position": null,
            "order": null,
            "overflow": null,
            "overflow_x": null,
            "overflow_y": null,
            "padding": null,
            "right": null,
            "top": null,
            "visibility": null,
            "width": null
          }
        },
        "76bd94b524d246968972eea601d8e9b6": {
          "model_module": "@jupyter-widgets/controls",
          "model_name": "VBoxModel",
          "model_module_version": "1.5.0",
          "state": {
            "_dom_classes": [
              "widget-interact"
            ],
            "_model_module": "@jupyter-widgets/controls",
            "_model_module_version": "1.5.0",
            "_model_name": "VBoxModel",
            "_view_count": null,
            "_view_module": "@jupyter-widgets/controls",
            "_view_module_version": "1.5.0",
            "_view_name": "VBoxView",
            "box_style": "",
            "children": [
              "IPY_MODEL_4f6ebbaaa56049a0b4eb8c3e19f3e3e2",
              "IPY_MODEL_a80f396c3d2044ea9bc944da9dbe9cc9"
            ],
            "layout": "IPY_MODEL_ed54cfb076784d3688728c0d50bbf26c"
          }
        },
        "4f6ebbaaa56049a0b4eb8c3e19f3e3e2": {
          "model_module": "@jupyter-widgets/controls",
          "model_name": "IntSliderModel",
          "model_module_version": "1.5.0",
          "state": {
            "_dom_classes": [],
            "_model_module": "@jupyter-widgets/controls",
            "_model_module_version": "1.5.0",
            "_model_name": "IntSliderModel",
            "_view_count": null,
            "_view_module": "@jupyter-widgets/controls",
            "_view_module_version": "1.5.0",
            "_view_name": "IntSliderView",
            "continuous_update": true,
            "description": "numIter",
            "description_tooltip": null,
            "disabled": false,
            "layout": "IPY_MODEL_4f7056b2f08c4cb9b7ac26c3705e6770",
            "max": 20,
            "min": 0,
            "orientation": "horizontal",
            "readout": true,
            "readout_format": "d",
            "step": 1,
            "style": "IPY_MODEL_a31ef8d5fc544d3c9925bdbb779dc880",
            "value": 0
          }
        },
        "a80f396c3d2044ea9bc944da9dbe9cc9": {
          "model_module": "@jupyter-widgets/output",
          "model_name": "OutputModel",
          "model_module_version": "1.0.0",
          "state": {
            "_dom_classes": [],
            "_model_module": "@jupyter-widgets/output",
            "_model_module_version": "1.0.0",
            "_model_name": "OutputModel",
            "_view_count": null,
            "_view_module": "@jupyter-widgets/output",
            "_view_module_version": "1.0.0",
            "_view_name": "OutputView",
            "layout": "IPY_MODEL_9139f58dd3bc432d926b84958741da00",
            "msg_id": "",
            "outputs": [
              {
                "output_type": "stream",
                "name": "stdout",
                "text": [
                  "time= 0.15\n"
                ]
              },
              {
                "output_type": "display_data",
                "data": {
                  "text/plain": "<Figure size 300x300 with 2 Axes>",
                  "image/png": "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\n"
                },
                "metadata": {}
              }
            ]
          }
        },
        "ed54cfb076784d3688728c0d50bbf26c": {
          "model_module": "@jupyter-widgets/base",
          "model_name": "LayoutModel",
          "model_module_version": "1.2.0",
          "state": {
            "_model_module": "@jupyter-widgets/base",
            "_model_module_version": "1.2.0",
            "_model_name": "LayoutModel",
            "_view_count": null,
            "_view_module": "@jupyter-widgets/base",
            "_view_module_version": "1.2.0",
            "_view_name": "LayoutView",
            "align_content": null,
            "align_items": null,
            "align_self": null,
            "border": null,
            "bottom": null,
            "display": null,
            "flex": null,
            "flex_flow": null,
            "grid_area": null,
            "grid_auto_columns": null,
            "grid_auto_flow": null,
            "grid_auto_rows": null,
            "grid_column": null,
            "grid_gap": null,
            "grid_row": null,
            "grid_template_areas": null,
            "grid_template_columns": null,
            "grid_template_rows": null,
            "height": null,
            "justify_content": null,
            "justify_items": null,
            "left": null,
            "margin": null,
            "max_height": null,
            "max_width": null,
            "min_height": null,
            "min_width": null,
            "object_fit": null,
            "object_position": null,
            "order": null,
            "overflow": null,
            "overflow_x": null,
            "overflow_y": null,
            "padding": null,
            "right": null,
            "top": null,
            "visibility": null,
            "width": null
          }
        },
        "4f7056b2f08c4cb9b7ac26c3705e6770": {
          "model_module": "@jupyter-widgets/base",
          "model_name": "LayoutModel",
          "model_module_version": "1.2.0",
          "state": {
            "_model_module": "@jupyter-widgets/base",
            "_model_module_version": "1.2.0",
            "_model_name": "LayoutModel",
            "_view_count": null,
            "_view_module": "@jupyter-widgets/base",
            "_view_module_version": "1.2.0",
            "_view_name": "LayoutView",
            "align_content": null,
            "align_items": null,
            "align_self": null,
            "border": null,
            "bottom": null,
            "display": null,
            "flex": null,
            "flex_flow": null,
            "grid_area": null,
            "grid_auto_columns": null,
            "grid_auto_flow": null,
            "grid_auto_rows": null,
            "grid_column": null,
            "grid_gap": null,
            "grid_row": null,
            "grid_template_areas": null,
            "grid_template_columns": null,
            "grid_template_rows": null,
            "height": null,
            "justify_content": null,
            "justify_items": null,
            "left": null,
            "margin": null,
            "max_height": null,
            "max_width": null,
            "min_height": null,
            "min_width": null,
            "object_fit": null,
            "object_position": null,
            "order": null,
            "overflow": null,
            "overflow_x": null,
            "overflow_y": null,
            "padding": null,
            "right": null,
            "top": null,
            "visibility": null,
            "width": null
          }
        },
        "a31ef8d5fc544d3c9925bdbb779dc880": {
          "model_module": "@jupyter-widgets/controls",
          "model_name": "SliderStyleModel",
          "model_module_version": "1.5.0",
          "state": {
            "_model_module": "@jupyter-widgets/controls",
            "_model_module_version": "1.5.0",
            "_model_name": "SliderStyleModel",
            "_view_count": null,
            "_view_module": "@jupyter-widgets/base",
            "_view_module_version": "1.2.0",
            "_view_name": "StyleView",
            "description_width": "",
            "handle_color": null
          }
        },
        "9139f58dd3bc432d926b84958741da00": {
          "model_module": "@jupyter-widgets/base",
          "model_name": "LayoutModel",
          "model_module_version": "1.2.0",
          "state": {
            "_model_module": "@jupyter-widgets/base",
            "_model_module_version": "1.2.0",
            "_model_name": "LayoutModel",
            "_view_count": null,
            "_view_module": "@jupyter-widgets/base",
            "_view_module_version": "1.2.0",
            "_view_name": "LayoutView",
            "align_content": null,
            "align_items": null,
            "align_self": null,
            "border": null,
            "bottom": null,
            "display": null,
            "flex": null,
            "flex_flow": null,
            "grid_area": null,
            "grid_auto_columns": null,
            "grid_auto_flow": null,
            "grid_auto_rows": null,
            "grid_column": null,
            "grid_gap": null,
            "grid_row": null,
            "grid_template_areas": null,
            "grid_template_columns": null,
            "grid_template_rows": null,
            "height": null,
            "justify_content": null,
            "justify_items": null,
            "left": null,
            "margin": null,
            "max_height": null,
            "max_width": null,
            "min_height": null,
            "min_width": null,
            "object_fit": null,
            "object_position": null,
            "order": null,
            "overflow": null,
            "overflow_x": null,
            "overflow_y": null,
            "padding": null,
            "right": null,
            "top": null,
            "visibility": null,
            "width": null
          }
        },
        "04944ed7f2004c79bbb9f3ccd1b93805": {
          "model_module": "@jupyter-widgets/controls",
          "model_name": "VBoxModel",
          "model_module_version": "1.5.0",
          "state": {
            "_dom_classes": [
              "widget-interact"
            ],
            "_model_module": "@jupyter-widgets/controls",
            "_model_module_version": "1.5.0",
            "_model_name": "VBoxModel",
            "_view_count": null,
            "_view_module": "@jupyter-widgets/controls",
            "_view_module_version": "1.5.0",
            "_view_name": "VBoxView",
            "box_style": "",
            "children": [
              "IPY_MODEL_9b205d69bf68404184e8434cb40078a4",
              "IPY_MODEL_a471e7d629e243269b0b9451825bf8e2"
            ],
            "layout": "IPY_MODEL_52116ad22ebc49689bf542e099bac610"
          }
        },
        "9b205d69bf68404184e8434cb40078a4": {
          "model_module": "@jupyter-widgets/controls",
          "model_name": "IntSliderModel",
          "model_module_version": "1.5.0",
          "state": {
            "_dom_classes": [],
            "_model_module": "@jupyter-widgets/controls",
            "_model_module_version": "1.5.0",
            "_model_name": "IntSliderModel",
            "_view_count": null,
            "_view_module": "@jupyter-widgets/controls",
            "_view_module_version": "1.5.0",
            "_view_name": "IntSliderView",
            "continuous_update": true,
            "description": "numIter",
            "description_tooltip": null,
            "disabled": false,
            "layout": "IPY_MODEL_ba81acf2894f43f39f9c425effaf3cfc",
            "max": 20,
            "min": 0,
            "orientation": "horizontal",
            "readout": true,
            "readout_format": "d",
            "step": 1,
            "style": "IPY_MODEL_b4626eab610f4614a1ba61d036a978d2",
            "value": 0
          }
        },
        "a471e7d629e243269b0b9451825bf8e2": {
          "model_module": "@jupyter-widgets/output",
          "model_name": "OutputModel",
          "model_module_version": "1.0.0",
          "state": {
            "_dom_classes": [],
            "_model_module": "@jupyter-widgets/output",
            "_model_module_version": "1.0.0",
            "_model_name": "OutputModel",
            "_view_count": null,
            "_view_module": "@jupyter-widgets/output",
            "_view_module_version": "1.0.0",
            "_view_name": "OutputView",
            "layout": "IPY_MODEL_c3f5c96b0ce341db9d4b86ffcdd38477",
            "msg_id": "",
            "outputs": [
              {
                "output_type": "stream",
                "name": "stdout",
                "text": [
                  "Time taken: 1.03 ms\n"
                ]
              },
              {
                "output_type": "display_data",
                "data": {
                  "text/plain": "<Figure size 300x300 with 2 Axes>",
                  "image/png": "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\n"
                },
                "metadata": {}
              }
            ]
          }
        },
        "52116ad22ebc49689bf542e099bac610": {
          "model_module": "@jupyter-widgets/base",
          "model_name": "LayoutModel",
          "model_module_version": "1.2.0",
          "state": {
            "_model_module": "@jupyter-widgets/base",
            "_model_module_version": "1.2.0",
            "_model_name": "LayoutModel",
            "_view_count": null,
            "_view_module": "@jupyter-widgets/base",
            "_view_module_version": "1.2.0",
            "_view_name": "LayoutView",
            "align_content": null,
            "align_items": null,
            "align_self": null,
            "border": null,
            "bottom": null,
            "display": null,
            "flex": null,
            "flex_flow": null,
            "grid_area": null,
            "grid_auto_columns": null,
            "grid_auto_flow": null,
            "grid_auto_rows": null,
            "grid_column": null,
            "grid_gap": null,
            "grid_row": null,
            "grid_template_areas": null,
            "grid_template_columns": null,
            "grid_template_rows": null,
            "height": null,
            "justify_content": null,
            "justify_items": null,
            "left": null,
            "margin": null,
            "max_height": null,
            "max_width": null,
            "min_height": null,
            "min_width": null,
            "object_fit": null,
            "object_position": null,
            "order": null,
            "overflow": null,
            "overflow_x": null,
            "overflow_y": null,
            "padding": null,
            "right": null,
            "top": null,
            "visibility": null,
            "width": null
          }
        },
        "ba81acf2894f43f39f9c425effaf3cfc": {
          "model_module": "@jupyter-widgets/base",
          "model_name": "LayoutModel",
          "model_module_version": "1.2.0",
          "state": {
            "_model_module": "@jupyter-widgets/base",
            "_model_module_version": "1.2.0",
            "_model_name": "LayoutModel",
            "_view_count": null,
            "_view_module": "@jupyter-widgets/base",
            "_view_module_version": "1.2.0",
            "_view_name": "LayoutView",
            "align_content": null,
            "align_items": null,
            "align_self": null,
            "border": null,
            "bottom": null,
            "display": null,
            "flex": null,
            "flex_flow": null,
            "grid_area": null,
            "grid_auto_columns": null,
            "grid_auto_flow": null,
            "grid_auto_rows": null,
            "grid_column": null,
            "grid_gap": null,
            "grid_row": null,
            "grid_template_areas": null,
            "grid_template_columns": null,
            "grid_template_rows": null,
            "height": null,
            "justify_content": null,
            "justify_items": null,
            "left": null,
            "margin": null,
            "max_height": null,
            "max_width": null,
            "min_height": null,
            "min_width": null,
            "object_fit": null,
            "object_position": null,
            "order": null,
            "overflow": null,
            "overflow_x": null,
            "overflow_y": null,
            "padding": null,
            "right": null,
            "top": null,
            "visibility": null,
            "width": null
          }
        },
        "b4626eab610f4614a1ba61d036a978d2": {
          "model_module": "@jupyter-widgets/controls",
          "model_name": "SliderStyleModel",
          "model_module_version": "1.5.0",
          "state": {
            "_model_module": "@jupyter-widgets/controls",
            "_model_module_version": "1.5.0",
            "_model_name": "SliderStyleModel",
            "_view_count": null,
            "_view_module": "@jupyter-widgets/base",
            "_view_module_version": "1.2.0",
            "_view_name": "StyleView",
            "description_width": "",
            "handle_color": null
          }
        },
        "c3f5c96b0ce341db9d4b86ffcdd38477": {
          "model_module": "@jupyter-widgets/base",
          "model_name": "LayoutModel",
          "model_module_version": "1.2.0",
          "state": {
            "_model_module": "@jupyter-widgets/base",
            "_model_module_version": "1.2.0",
            "_model_name": "LayoutModel",
            "_view_count": null,
            "_view_module": "@jupyter-widgets/base",
            "_view_module_version": "1.2.0",
            "_view_name": "LayoutView",
            "align_content": null,
            "align_items": null,
            "align_self": null,
            "border": null,
            "bottom": null,
            "display": null,
            "flex": null,
            "flex_flow": null,
            "grid_area": null,
            "grid_auto_columns": null,
            "grid_auto_flow": null,
            "grid_auto_rows": null,
            "grid_column": null,
            "grid_gap": null,
            "grid_row": null,
            "grid_template_areas": null,
            "grid_template_columns": null,
            "grid_template_rows": null,
            "height": null,
            "justify_content": null,
            "justify_items": null,
            "left": null,
            "margin": null,
            "max_height": null,
            "max_width": null,
            "min_height": null,
            "min_width": null,
            "object_fit": null,
            "object_position": null,
            "order": null,
            "overflow": null,
            "overflow_x": null,
            "overflow_y": null,
            "padding": null,
            "right": null,
            "top": null,
            "visibility": null,
            "width": null
          }
        }
      }
    }
  },
  "nbformat": 4,
  "nbformat_minor": 0
}