{
  "cells": [
    {
      "cell_type": "markdown",
      "metadata": {
        "id": "view-in-github",
        "colab_type": "text"
      },
      "source": [
        "<a href=\"https://colab.research.google.com/github/IndudiniThennakoon/SE4050-DL/blob/labsheet8/Markov_Decision_Process.ipynb\" target=\"_parent\"><img src=\"https://colab.research.google.com/assets/colab-badge.svg\" alt=\"Open In Colab\"/></a>"
      ]
    },
    {
      "cell_type": "markdown",
      "metadata": {
        "id": "-LMwDZHlsAvn"
      },
      "source": [
        "# Markov Decision Process (MDP)"
      ]
    },
    {
      "cell_type": "markdown",
      "metadata": {
        "id": "rK2etKh-sAvo"
      },
      "source": [
        "### Ransalu Senanayake"
      ]
    },
    {
      "cell_type": "code",
      "execution_count": 8,
      "metadata": {
        "id": "Tlr-PNcssAvp"
      },
      "outputs": [],
      "source": [
        "import copy\n",
        "import timeit\n",
        "import numpy as np\n",
        "import matplotlib.pyplot as pl\n",
        "%matplotlib inline\n",
        "from ipywidgets import interactive\n",
        "import ipywidgets as widgets"
      ]
    },
    {
      "cell_type": "markdown",
      "metadata": {
        "id": "_f6VSXlQsAvs"
      },
      "source": [
        "Create the following grid world.\n",
        "\n",
        "**States:** A 10x10 grid\n",
        "\n",
        "**Actions:** Up, Down, Left, Right\n",
        "\n",
        "**Tranistion probabilities:**\n",
        "* 0.7 in the direction of action\n",
        "* 0.1 in the three other directions\n",
        "* The robot bounces back to the same state near edges\n",
        "\n",
        "**Rewards:**\n",
        "* (7,8) has a reward +10\n",
        "* (2,7) has a reward +3\n",
        "* (4,3) has a reward -5\n",
        "* (7,3) has a reward -10\n",
        "* No reward in other states\n",
        "\n",
        "This example is based on Decision Making Under Uncertainty by M.J. Kochenderfer."
      ]
    },
    {
      "cell_type": "code",
      "execution_count": 3,
      "metadata": {
        "id": "sbT7VOEQsAvt"
      },
      "outputs": [],
      "source": [
        "#Let's define MDP paras\n",
        "def createGrid10World():\n",
        "    def xy2s(y, x):\n",
        "        x = max(x, 0)\n",
        "        y = max(y, 0)\n",
        "        x = min(x, 9)\n",
        "        y = min(y, 9)\n",
        "        out = np.ravel_multi_index(np.array([x,y]), (10,10))\n",
        "        return out\n",
        "\n",
        "    def s2xy(s):\n",
        "        x, y = np.unravel_index(s, (10,10))\n",
        "        return y, x\n",
        "\n",
        "    def gridPlot(ax, im, title='', cmap='Blues'):\n",
        "        pl.imshow(im, interpolation='none', cmap=cmap, origin='lower')\n",
        "        pl.colorbar()\n",
        "        ax.set_xticks(np.arange(0, 10, 1));\n",
        "        ax.set_yticks(np.arange(0, 10, 1));\n",
        "        ax.set_xticklabels(np.arange(0, 10, 1));\n",
        "        ax.set_yticklabels(np.arange(0, 10, 1));\n",
        "        ax.set_xticks(np.arange(-.5, 10, 1), minor=True);\n",
        "        ax.set_yticks(np.arange(-.5, 10, 1), minor=True);\n",
        "        ax.grid(which='minor', color='w', linestyle='-', linewidth=1)\n",
        "        pl.title(title);\n",
        "        return\n",
        "\n",
        "    A = ['left', 'right', 'up', 'down']\n",
        "    S = np.arange(100)\n",
        "    T = np.zeros((len(S), len(A), len(S)))\n",
        "    R = np.zeros((len(S), len(A)))\n",
        "    for s in S:\n",
        "        x, y = s2xy(s)\n",
        "        if x == 2 and y == 7:\n",
        "            R[s, :] = 3\n",
        "        elif x == 7 and y == 8:\n",
        "            R[s, :] = 10\n",
        "        else:\n",
        "            if x == 7 and y == 3:\n",
        "                R[s, :] = -10\n",
        "            elif x == 4 and y == 3:\n",
        "                R[s, :] = -5\n",
        "            elif x == 0:\n",
        "                if y == 0 or y == 9:\n",
        "                    R[s, :] = -0.2\n",
        "                else:\n",
        "                    R[s, :] = -0.1\n",
        "                R[s, 0] = -0.7\n",
        "            elif x == 9:\n",
        "                if y == 0 or y == 9:\n",
        "                    R[s, :] = -0.2\n",
        "                else:\n",
        "                    R[s, :] = -0.1\n",
        "                R[s, 1] = -0.7\n",
        "            elif y == 0:\n",
        "                if x == 0 or x == 9:\n",
        "                    R[s, :] = -0.2\n",
        "                else:\n",
        "                    R[s, :] = -0.1\n",
        "                R[s, 3] = -0.7\n",
        "            elif y == 9:\n",
        "                if x == 0 or x == 9:\n",
        "                    R[s, :] = -0.2\n",
        "                else:\n",
        "                    R[s, :] = -0.1\n",
        "                R[s, 2] = -0.7\n",
        "\n",
        "            for a in A:\n",
        "                if a == 'left':\n",
        "                    T[s, 0, xy2s(x - 1, y)] += 0.7\n",
        "                    T[s, 0, xy2s(x + 1, y)] += 0.1\n",
        "                    T[s, 0, xy2s(x, y - 1)] += 0.1\n",
        "                    T[s, 0, xy2s(x, y + 1)] += 0.1\n",
        "                elif a == 'right':\n",
        "                    T[s, 1, xy2s(x + 1, y)] += 0.7\n",
        "                    T[s, 1, xy2s(x - 1, y)] += 0.1\n",
        "                    T[s, 1, xy2s(x, y - 1)] += 0.1\n",
        "                    T[s, 1, xy2s(x, y + 1)] += 0.1\n",
        "                elif a == 'up':\n",
        "                    T[s, 2, xy2s(x, y + 1)] += 0.7\n",
        "                    T[s, 2, xy2s(x, y - 1)] += 0.1\n",
        "                    T[s, 2, xy2s(x - 1, y)] += 0.1\n",
        "                    T[s, 2, xy2s(x + 1, y)] += 0.1\n",
        "                elif a == 'down':\n",
        "                    T[s, 3, xy2s(x, y - 1)] += 0.7\n",
        "                    T[s, 3, xy2s(x, y + 1)] += 0.1\n",
        "                    T[s, 3, xy2s(x - 1, y)] += 0.1\n",
        "                    T[s, 3, xy2s(x + 1, y)] += 0.1\n",
        "\n",
        "    for a, c_x, c_y in [(0,0,0), (0,0,9),(1,9,0),(1,9,9),(2,0,9),(2,9,9),(3,0,0),(3,9,0)]:\n",
        "        R[xy2s(c_x,c_y),a] = -0.8\n",
        "\n",
        "    discount = 0.9\n",
        "\n",
        "    nextStates = {}\n",
        "    for si in range(len(S)):\n",
        "        for ai in range(len(A)):\n",
        "            nextStates[(si,ai)] = np.where((T[si, ai, :] != 0) == True)[0]\n",
        "\n",
        "    return {'S':S, 'A':A, 'T':T, 'R':R, 'discount':discount, 'nextStates':nextStates, 'gridPlot':gridPlot, 'xy2s':xy2s, 's2xy':s2xy}"
      ]
    },
    {
      "cell_type": "code",
      "execution_count": 4,
      "metadata": {
        "id": "BylriiRqsAvv"
      },
      "outputs": [],
      "source": [
        "class MDP():\n",
        "    def __init__(self):\n",
        "        pass\n",
        "\n",
        "    def inbuilt_init(self, mdp_dict):\n",
        "        self.S = mdp_dict['S']\n",
        "        self.A = mdp_dict['A']\n",
        "        self.T = mdp_dict['T']\n",
        "        self.R = mdp_dict['R']\n",
        "        self.discount = mdp_dict['discount']\n",
        "        self.nextStates = mdp_dict['nextStates']\n",
        "        self.gridPlot = mdp_dict['gridPlot']\n",
        "        self.xy2s = mdp_dict['xy2s']\n",
        "        self.s2xy = mdp_dict['s2xy']"
      ]
    },
    {
      "cell_type": "code",
      "execution_count": 9,
      "metadata": {
        "colab": {
          "base_uri": "https://localhost:8080/",
          "height": 1000
        },
        "id": "QGcCuJpasAvy",
        "outputId": "9036f750-5755-4c90-c871-eda38fe297e6"
      },
      "outputs": [
        {
          "output_type": "display_data",
          "data": {
            "text/plain": [
              "<Figure size 300x300 with 2 Axes>"
            ],
            "image/png": "[encoded data removed]"
          },
          "metadata": {}
        },
        {
          "output_type": "display_data",
          "data": {
            "text/plain": [
              "<Figure size 1500x300 with 8 Axes>"
            ],
            "image/png": "[encoded data removed]"
          },
          "metadata": {}
        },
        {
          "output_type": "display_data",
          "data": {
            "text/plain": [
              "<Figure size 1500x300 with 8 Axes>"
            ],
            "image/png": "[encoded data removed]"
          },
          "metadata": {}
        },
        {
          "output_type": "display_data",
          "data": {
            "text/plain": [
              "<Figure size 1500x300 with 8 Axes>"
            ],
            "image/png": "[encoded data removed]"
          },
          "metadata": {}
        }
      ],
      "source": [
        "#Define the MDP\n",
        "mdp = MDP()\n",
        "mdp.inbuilt_init(mdp_dict=createGrid10World())\n",
        "\n",
        "#Plot states\n",
        "pl.figure(figsize=(3,3))\n",
        "mdp.gridPlot(ax=pl.gca(), im=mdp.S.reshape((10,10)), title='States', cmap='Greys')\n",
        "\n",
        "#Plot rewards\n",
        "pl.figure(figsize=(15,3))\n",
        "pl.suptitle('Rewards', fontsize=15)\n",
        "for a in range(4):\n",
        "    pl.subplot(1,4,a+1)\n",
        "    mdp.gridPlot(ax=pl.gca(), im=mdp.R[:,a].reshape((10,10)), title='a='+mdp.A[a], cmap='jet')\n",
        "pl.show()\n",
        "\n",
        "#Plot rewards\n",
        "pl.figure(figsize=(15,3))\n",
        "pl.suptitle('Rewards - clipped larger +ve values for visualizing the edges', fontsize=15)\n",
        "for a in range(4):\n",
        "    pl.subplot(1,4,a+1)\n",
        "    mdp.gridPlot(ax=pl.gca(), im=np.clip(mdp.R[:,a].reshape((10,10)), -1, -0.5), title='a='+mdp.A[a], cmap='jet')\n",
        "pl.show()\n",
        "\n",
        "#Plot rewards\n",
        "s0_x, s0_y = 3, 5\n",
        "s0 = mdp.xy2s(s0_x, s0_y)\n",
        "pl.figure(figsize=(15,3))\n",
        "pl.suptitle('Transition probabilities T(s1|s0=({},{}),a)'.format(s0_x, s0_y), fontsize=15)\n",
        "for a in range(4):\n",
        "    pl.subplot(1,4,a+1)\n",
        "    mdp.gridPlot(ax=pl.gca(), im=mdp.T[s0,a,:].reshape((10,10)), title='a='+mdp.A[a], cmap='Blues')\n",
        "pl.show()"
      ]
    },
    {
      "cell_type": "code",
      "execution_count": 6,
      "metadata": {
        "colab": {
          "base_uri": "https://localhost:8080/",
          "height": 632,
          "referenced_widgets": [
            "9bd28e6c1eec4da9b92489ad39faaa62",
            "ebcdba869ef74bc5b11695b01c61b2c6",
            "2740924cf08347ce85084d3007224f0d",
            "890f24eefb264886aa141b85edd42364",
            "90e266ba09654f10a11b9b7ee0422e85",
            "a0cafaa07e0b473295e3f4dd9fe53259",
            "a8e2f882badb44708db7df1413c67f54",
            "7de1d8b6997a415eb2ee40fe7d29e07f",
            "4b74da91a515471d81c40c1c97131614",
            "7656cc4aabdf4c3f932b940d7a8e274e",
            "8d31d856c1c4471d97c1b1a2831e13bc",
            "a90e0b9f3dd24c008220c147f846b18d",
            "6c5b1bf52e4242e390adbb0d8d360f93"
          ]
        },
        "id": "WSh9F6O2sAv1",
        "outputId": "c825b644-d04c-4f70-981d-5673ab5bfc5e"
      },
      "outputs": [
        {
          "output_type": "display_data",
          "data": {
            "text/plain": [
              "interactive(children=(Text(value='4', description='s0_x'), Text(value='5', description='s0_y'), ToggleButtons(…"
            ],
            "application/vnd.jupyter.widget-view+json": {
              "version_major": 2,
              "version_minor": 0,
              "model_id": "9bd28e6c1eec4da9b92489ad39faaa62"
            }
          },
          "metadata": {}
        }
      ],
      "source": [
        "#An interactive plot of transition probabilities\n",
        "def f(s0_x, s0_y, action):\n",
        "    a = mdp.A.index(action)\n",
        "    s0 = mdp.xy2s(int(s0_x), int(s0_y))\n",
        "    pl.figure(figsize=(6,6))\n",
        "    title = 'Transition probabilities T(s1|s0=({},{}),a={})'.format(int(s0_x),int(s0_y),action)\n",
        "    mdp.gridPlot(ax=pl.gca(), im=mdp.T[s0,a,:].reshape((10,10)), title=title, cmap='Blues')\n",
        "    pl.show()\n",
        "\n",
        "interactive_plot = interactive(f, s0_x='4', s0_y='5', action=widgets.ToggleButtons(options=['left', 'right', 'up', 'down']))\n",
        "interactive_plot"
      ]
    },
    {
      "cell_type": "markdown",
      "metadata": {
        "id": "CRtcTdgOsAv4"
      },
      "source": [
        "### 1. Policy evaluation\n",
        "\n",
        "Computing the utility, U.\n",
        "\n",
        "$U^\\pi_k(s) = R(s, \\pi(s)) + \\gamma \\sum_{s'} T(s' \\mid s, \\pi(s))U^\\pi_{k-1}(s')$"
      ]
    },
    {
      "cell_type": "code",
      "source": [
        "def iterativePolicyEvaluation(mdp, policy, numIterations=10):\n",
        "    U = np.zeros(len(mdp.S))  # Initialize utility array\n",
        "    for t in range(numIterations):\n",
        "        U_old = U.copy()  # Store the previous utility values\n",
        "        for s in range(len(mdp.S)):\n",
        "            a = policy  # The action defined by the policy\n",
        "            U[s] = mdp.R[s, a] + mdp.discount * np.sum(mdp.T[s, a, :] * U_old)  # Bellman update\n",
        "    return U\n",
        "\n",
        "# Number of iterations for the evaluation\n",
        "numIterations = 5\n",
        "pl.figure(figsize=(15, 3))\n",
        "pl.suptitle('Utilities', fontsize=15)\n",
        "\n",
        "# Evaluate utilities for each action policy\n",
        "for a in range(4):\n",
        "    pl.subplot(1, 4, a + 1)\n",
        "    U = iterativePolicyEvaluation(mdp=mdp, policy=a, numIterations=numIterations)\n",
        "    mdp.gridPlot(ax=pl.gca(), im=U.reshape(10, 10), title='a=' + mdp.A[a], cmap='jet')\n",
        "\n",
        "pl.show()"
      ],
      "metadata": {
        "id": "wq7QjvEihHwU",
        "outputId": "58457413-aa4d-4536-8b8e-c9d82163f787",
        "colab": {
          "base_uri": "https://localhost:8080/",
          "height": 327
        }
      },
      "execution_count": 12,
      "outputs": [
        {
          "output_type": "display_data",
          "data": {
            "text/plain": [
              "<Figure size 1500x300 with 8 Axes>"
            ],
            "image/png": "[encoded data removed]"
          },
          "metadata": {}
        }
      ]
    },
    {
      "cell_type": "code",
      "execution_count": 13,
      "metadata": {
        "colab": {
          "base_uri": "https://localhost:8080/",
          "height": 367,
          "referenced_widgets": [
            "97d90995d8c54ec1a1903de761414a05",
            "0fc134486fa2404a8a24fcc038744caa",
            "6e2b5ca042bf44c189c174bf8b87b8ac",
            "e369e014a4814c63b26b95c1b1ae64e8",
            "9150b90e40a444d79a38b1686241a9d7",
            "2f7ab9561e724a808b4e0d6f13928ee1",
            "977f30fb9a2b41c2aeabc2985ab5212c",
            "c12209032924441787bc4bebb4d4fa07",
            "2374ba8688884de7abd1666ba70df51f",
            "607b71be085c46d386f599d8bd570e6c"
          ]
        },
        "id": "XcMijKgbsAv7",
        "outputId": "fef8eede-da48-4f62-e8a9-8375a22e6871"
      },
      "outputs": [
        {
          "output_type": "display_data",
          "data": {
            "text/plain": [
              "interactive(children=(ToggleButtons(description='action', options=('left', 'right', 'up', 'down'), value='left…"
            ],
            "application/vnd.jupyter.widget-view+json": {
              "version_major": 2,
              "version_minor": 0,
              "model_id": "97d90995d8c54ec1a1903de761414a05"
            }
          },
          "metadata": {}
        }
      ],
      "source": [
        "def f(action, numIter=1):\n",
        "    U = iterativePolicyEvaluation(mdp, policy=mdp.A.index(action), numIterations=numIter)\n",
        "    pl.figure(figsize=(3,3))\n",
        "    mdp.gridPlot(ax=pl.gca(), im=U.reshape(10,10), title='Utility', cmap='jet')\n",
        "    pl.show()\n",
        "\n",
        "interactive_plot = interactive(f, action=widgets.ToggleButtons(options=['left', 'right', 'up', 'down']),\n",
        "                               numIter=widgets.IntSlider(min=0, max=20, step=1, value=0))\n",
        "interactive_plot"
      ]
    },
    {
      "cell_type": "code",
      "source": [
        "# Value iteration\n",
        "def valueIteration(mdp, numIterations=1):\n",
        "    U = np.zeros(len(mdp.S))  # Initialize utility array\n",
        "    for t in range(numIterations):\n",
        "        U_old = U.copy()  # Store the previous utility values\n",
        "        for s in range(len(mdp.S)):\n",
        "            U[s] = np.max([\n",
        "                mdp.R[s, a] + mdp.discount * np.sum(mdp.T[s, a, :] * U_old)\n",
        "                for a in range(len(mdp.A))\n",
        "            ])  # Bellman update using the max over actions\n",
        "    return U\n",
        "\n",
        "# Policy extraction\n",
        "def policyExtration(mdp, U):\n",
        "    policy = np.zeros(len(mdp.S), dtype=int)  # Initialize policy array\n",
        "    for s in range(len(mdp.S)):\n",
        "        policy[s] = np.argmax([\n",
        "            mdp.R[s, a] + mdp.discount * np.sum(mdp.T[s, a, :] * U)\n",
        "            for a in range(len(mdp.A))\n",
        "        ])  # Choose the action that maximizes expected utility\n",
        "    return policy\n",
        "\n",
        "# Run value iteration and policy extraction\n",
        "U = valueIteration(mdp, numIterations=2)\n",
        "policy = policyExtration(mdp, U=U)\n",
        "\n",
        "# Plot the utility\n",
        "pl.figure(figsize=(3, 3))\n",
        "mdp.gridPlot(ax=pl.gca(), im=U.reshape(10, 10), title='Utility', cmap='jet')\n",
        "\n",
        "# Plot the policy\n",
        "for s in range(100):\n",
        "    x, y = mdp.s2xy(s)\n",
        "    if policy[s] == 0:\n",
        "        m = '\\u02C2'  # Left\n",
        "    elif policy[s] == 1:\n",
        "        m = '\\u02C3'  # Right\n",
        "    elif policy[s] == 2:\n",
        "        m = '\\u02C4'  # Up\n",
        "    elif policy[s] == 3:\n",
        "        m = '\\u02C5'  # Down\n",
        "    pl.text(x - 0.5, y - 1, m, color='k', size=20)\n",
        "\n",
        "pl.show()\n"
      ],
      "metadata": {
        "id": "_vg_me3Chp99",
        "outputId": "8e1c6fd2-4e9b-4a12-da75-2893feca51ca",
        "colab": {
          "base_uri": "https://localhost:8080/",
          "height": 302
        }
      },
      "execution_count": 16,
      "outputs": [
        {
          "output_type": "display_data",
          "data": {
            "text/plain": [
              "<Figure size 300x300 with 2 Axes>"
            ],
            "image/png": "[encoded data removed]"
          },
          "metadata": {}
        }
      ]
    },
    {
      "cell_type": "code",
      "execution_count": null,
      "metadata": {
        "colab": {
          "base_uri": "https://localhost:8080/",
          "height": 250,
          "referenced_widgets": [
            "b4b68c77bd10486583d85ff7dfb4c1b3",
            "f76eb29faf0d42ffad04dad74a0f3c30",
            "74cc0a30f72a4b1bba3ed0cd3b8bc688",
            "147b601574034dbc9d61a39b89df4724",
            "7fcfd4b3037e43cc97aab46fd81435ba",
            "34a6a2a4506441cdb8618cdc45e9c4e8",
            "8f7140557f8c48ab8b68338ca7b49821"
          ]
        },
        "id": "W7Hvi7YdsAv_",
        "outputId": "faed5248-4785-4148-e966-d0fe91816094"
      },
      "outputs": [
        {
          "data": {
            "application/vnd.jupyter.widget-view+json": {
              "model_id": "b4b68c77bd10486583d85ff7dfb4c1b3",
              "version_major": 2,
              "version_minor": 0
            },
            "text/plain": [
              "interactive(children=(IntSlider(value=0, description='numIter', max=20), Output()), _dom_classes=('widget-inte…"
            ]
          },
          "metadata": {
            "tags": []
          },
          "output_type": "display_data"
        }
      ],
      "source": [
        "def f(numIter=1):\n",
        "    start_time = timeit.default_timer()\n",
        "    U = valueIteration(mdp, numIterations=numIter)\n",
        "    policy = policyExtration(mdp, U=U)\n",
        "    elapsed = timeit.default_timer() - start_time\n",
        "    print('time=', np.round(elapsed*1000,2))\n",
        "    pl.figure(figsize=(3,3))\n",
        "    mdp.gridPlot(ax=pl.gca(), im=U.reshape(10,10), title='Utility', cmap='jet')\n",
        "    for s in range(100):\n",
        "        x, y = mdp.s2xy(s)\n",
        "        if policy[s] == 0:\n",
        "            m='\\u02C2'\n",
        "        elif policy[s] == 1:\n",
        "            m='\\u02C3'\n",
        "        elif policy[s] == 2:\n",
        "            m='\\u02C4'\n",
        "        elif policy[s] == 3:\n",
        "            m='\\u02C5'\n",
        "        pl.text(x-0.5,y-1,m,color='k',size=20)\n",
        "    pl.show()\n",
        "\n",
        "interactive_plot = interactive(f, numIter=widgets.IntSlider(min=0, max=20, step=1, value=0))\n",
        "interactive_plot"
      ]
    },
    {
      "cell_type": "markdown",
      "metadata": {
        "id": "6il1i5CesAwB"
      },
      "source": [
        "### 2. Policy iteration\n",
        "\n",
        "Policy evaluation can be used in policy iteration:\n",
        "1. Given the current policy, compute U\n",
        "2. Using U, compute a new policy"
      ]
    },
    {
      "cell_type": "code",
      "source": [
        "def policyIteration(mdp, numIterations=1):\n",
        "    U_pi_k = np.zeros(len(mdp.S))  # Initial values for utilities\n",
        "    pi_k = np.random.randint(low=0, high=4, size=len(mdp.S), dtype=int)  # Initial random policy\n",
        "    pi_kp1 = copy.copy(pi_k)  # Policy for the next iteration\n",
        "\n",
        "    for t in range(numIterations):\n",
        "        # Policy evaluation: compute U_pi_k\n",
        "        for _ in range(100):  # Iterate until convergence (or a fixed number of times)\n",
        "            U_old = U_pi_k.copy()  # Store previous utilities\n",
        "            for s in range(len(mdp.S)):\n",
        "                a = pi_k[s]  # Action according to the current policy\n",
        "                U_pi_k[s] = mdp.R[s, a] + mdp.discount * np.sum(mdp.T[s, a, :] * U_old)  # Bellman update\n",
        "\n",
        "        # Policy improvement\n",
        "        for s in range(len(mdp.S)):\n",
        "            # Update the policy to be the action that maximizes expected utility\n",
        "            pi_kp1[s] = np.argmax([\n",
        "                mdp.R[s, a] + mdp.discount * np.sum(mdp.T[s, a, :] * U_pi_k)\n",
        "                for a in range(len(mdp.A))\n",
        "            ])\n",
        "\n",
        "        # Check for convergence (if policy hasn't changed)\n",
        "        if np.array_equal(pi_k, pi_kp1):\n",
        "            break  # Stop if the policy is stable\n",
        "\n",
        "        pi_k = copy.copy(pi_kp1)  # Update policy for the next iteration\n",
        "\n",
        "    return U_pi_k, pi_kp1\n",
        "\n",
        "# Run policy iteration\n",
        "U_pi_k, pi_kp1 = policyIteration(mdp, numIterations=2)\n"
      ],
      "metadata": {
        "id": "tSewlS3TiXjg"
      },
      "execution_count": null,
      "outputs": []
    },
    {
      "cell_type": "code",
      "source": [
        "def f(numIter=1):\n",
        "    start_time = timeit.default_timer()  # Start timing the policy iteration\n",
        "    # Perform policy iteration\n",
        "    value, policy = policyIteration(mdp, numIterations=numIter)\n",
        "    elapsed = timeit.default_timer() - start_time  # Calculate elapsed time\n",
        "    print('Time taken for {} iterations: {:.2f} ms'.format(numIter, elapsed * 1000))  # Print elapsed time\n",
        "\n",
        "    # Plotting the utility\n",
        "    pl.figure(figsize=(3, 3))\n",
        "    mdp.gridPlot(ax=pl.gca(), im=value.reshape(10, 10), title='Utility', cmap='jet')\n",
        "\n",
        "    # Plotting the policy\n",
        "    for s in range(100):\n",
        "        x, y = mdp.s2xy(s)\n",
        "        if policy[s] == 0:\n",
        "            m = '\\u02C2'  # Left\n",
        "        elif policy[s] == 1:\n",
        "            m = '\\u02C3'  # Right\n",
        "        elif policy[s] == 2:\n",
        "            m = '\\u02C4'  # Up\n",
        "        elif policy[s] == 3:\n",
        "            m = '\\u02C5'  # Down\n",
        "        pl.text(x - 0.5, y - 1, m, color='k', size=20)  # Add the policy marker to the plot\n",
        "\n",
        "    pl.show()  # Display the plot\n",
        "\n",
        "# Create the interactive plot\n",
        "interactive_plot = interactive(f, numIter=widgets.IntSlider(min=0, max=20, step=1, value=0))\n",
        "interactive_plot"
      ],
      "metadata": {
        "id": "7ZF3kcv0i17P"
      },
      "execution_count": null,
      "outputs": []
    },
    {
      "cell_type": "code",
      "execution_count": null,
      "metadata": {
        "colab": {
          "base_uri": "https://localhost:8080/",
          "height": 250,
          "referenced_widgets": [
            "8a13c74d0ab54f26804dc9867dac2509",
            "3ff4bab33c3242239a6fcde127aeee66",
            "eb1db9f1466d474cb78392a799b38037",
            "11b6fc4071534633bb3b2669301d8245",
            "e273173433714f5b89a435ef652ef5dc",
            "6b5e6cb1b6c8418abd22f846b361fe69",
            "2b93ba302f0c4b0190af5281b82deabd"
          ]
        },
        "id": "lSHVZ0CwsAwE",
        "outputId": "9c92d88c-542a-4e1c-f61a-2a4ff5c31e97"
      },
      "outputs": [
        {
          "data": {
            "application/vnd.jupyter.widget-view+json": {
              "model_id": "8a13c74d0ab54f26804dc9867dac2509",
              "version_major": 2,
              "version_minor": 0
            },
            "text/plain": [
              "interactive(children=(IntSlider(value=0, description='numIter', max=20), Output()), _dom_classes=('widget-inte…"
            ]
          },
          "metadata": {
            "tags": []
          },
          "output_type": "display_data"
        }
      ],
      "source": [
        "def f(numIter=1):\n",
        "    start_time = timeit.default_timer()  # Start timing the policy iteration\n",
        "    # Perform policy iteration\n",
        "    value, policy = policyIteration(mdp, numIterations=numIter)\n",
        "    elapsed = timeit.default_timer() - start_time  # Calculate elapsed time\n",
        "    print('Time taken for {} iterations: {:.2f} ms'.format(numIter, elapsed * 1000))  # Print elapsed time\n",
        "\n",
        "    # Plotting the utility\n",
        "    pl.figure(figsize=(3, 3))\n",
        "    mdp.gridPlot(ax=pl.gca(), im=value.reshape(10, 10), title='Utility', cmap='jet')\n",
        "\n",
        "    # Plotting the policy\n",
        "    for s in range(100):\n",
        "        x, y = mdp.s2xy(s)\n",
        "        if policy[s] == 0:\n",
        "            m = '\\u02C2'  # Left\n",
        "        elif policy[s] == 1:\n",
        "            m = '\\u02C3'  # Right\n",
        "        elif policy[s] == 2:\n",
        "            m = '\\u02C4'  # Up\n",
        "        elif policy[s] == 3:\n",
        "            m = '\\u02C5'  # Down\n",
        "        pl.text(x - 0.5, y - 1, m, color='k', size=20)  # Add the policy marker to the plot\n",
        "\n",
        "    pl.show()  # Display the plot\n",
        "\n",
        "# Create the interactive plot\n",
        "interactive_plot = interactive(f, numIter=widgets.IntSlider(min=0, max=20, step=1, value=0))\n",
        "interactive_plot\n"
      ]
    }
  ],
  "metadata": {
    "@webio": {
      "lastCommId": "21E8675012EB469B8DD225E5191E1594",
      "lastKernelId": "ec90fbfa-47cf-4656-a1ce-4ca4670e6701"
    },
    "colab": {
      "provenance": [],
      "include_colab_link": true
    },
    "kernelspec": {
      "display_name": "Python 3",
      "language": "python",
      "name": "python3"
    },
    "language_info": {
      "codemirror_mode": {
        "name": "ipython",
        "version": 3
      },
      "file_extension": ".py",
      "mimetype": "text/x-python",
      "name": "python",
      "nbconvert_exporter": "python",
      "pygments_lexer": "ipython3",
      "version": "3.8.8"
    },
    "widgets": {
      "application/vnd.jupyter.widget-state+json": {
        "11b6fc4071534633bb3b2669301d8245": {
          "model_module": "@jupyter-widgets/output",
          "model_module_version": "1.0.0",
          "model_name": "OutputModel",
          "state": {
            "_dom_classes": [],
            "_model_module": "@jupyter-widgets/output",
            "_model_module_version": "1.0.0",
            "_model_name": "OutputModel",
            "_view_count": null,
            "_view_module": "@jupyter-widgets/output",
            "_view_module_version": "1.0.0",
            "_view_name": "OutputView",
            "layout": "IPY_MODEL_2b93ba302f0c4b0190af5281b82deabd",
            "msg_id": "",
            "outputs": [
              {
                "metadata": {
                  "tags": []
                },
                "output_type": "stream",
                "stream": "stdout",
                "text": "time= 29.8\n"
              },
              {
                "image/png": "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\n",
                "metadata": {
                  "needs_background": "light",
                  "tags": []
                },
                "output_type": "display_data",
                "text/plain": "<Figure size 216x216 with 2 Axes>"
              }
            ]
          }
        },
        "147b601574034dbc9d61a39b89df4724": {
          "model_module": "@jupyter-widgets/output",
          "model_module_version": "1.0.0",
          "model_name": "OutputModel",
          "state": {
            "_dom_classes": [],
            "_model_module": "@jupyter-widgets/output",
            "_model_module_version": "1.0.0",
            "_model_name": "OutputModel",
            "_view_count": null,
            "_view_module": "@jupyter-widgets/output",
            "_view_module_version": "1.0.0",
            "_view_name": "OutputView",
            "layout": "IPY_MODEL_8f7140557f8c48ab8b68338ca7b49821",
            "msg_id": "",
            "outputs": [
              {
                "metadata": {
                  "tags": []
                },
                "output_type": "stream",
                "stream": "stdout",
                "text": "time= 75.74\n"
              },
              {
                "image/png": "iVBORw0KGgoAAAANSUhEUgAAANEAAAC3CAYAAACMl7uoAAAABHNCSVQICAgIfAhkiAAAAAlwSFlzAAALEgAACxIB0t1+/AAAADh0RVh0U29mdHdhcmUAbWF0cGxvdGxpYiB2ZXJzaW9uMy4yLjIsIGh0dHA6Ly9tYXRwbG90bGliLm9yZy+WH4yJAAAgAElEQVR4nO2deXwV1dnHv0/Y9z2KLAmERSBEkKAskSAquAbcweJb22poRV5JzKtpSUrq0irSqo2FShV3cEFIpKACAgEVkbCZsO87YSdhDZDn/WMmEELunSULCc738zmfzJ07z5wzN/fcOXPO7/yOqCoeHh7uCbjcBfDwqOh4lcjDo5h4lcjDo5h4lcjDo5h4lcjDo5h4lcjDo5h4lcjjikFEJorIPhHJLLCvoYjMFpEN5t8GPmJ/bR6zQUR+7SRfrxJ5XEm8B9xeaF888K2qtgW+NV9fhIg0BEYDNwI3AKN9Vbai8CqRxxWDqi4ADhXaPRB439x+HxhUROgAYLaqHlLVw8BsLq2MPqnsoqwefhCRPwGtVfVxEQkGtgBVVPWsiHwFfKKq7/s7xy+VNiJ6ws/7e2AVcKrArgmqOsHitFep6h5zey9wVRHHNAN2FHi909xnC68S+UFEFGirqhsL7EsC2qjqUBHpC3ykqs3z31fVv/o6n6reUeA8jwGPq2pEKRS9QnISGO7n/QQ4parhbs+vqmr+T0sUrznnUW4QoIqf5JIsEWkKYP7dV8Qxu4AWBV43N/fZwqtELhGRWsBXwDUicsxM14hIkoh85CNmvog8LiIdgH8DPc24IyLSXUSyRKRSgePvE5GVZXNFl58AoIaf5JIvgfzetl8DqUUc8w3QX0QamB0K/c19tsvt4QJVPQ7cAexW1dpm2m0zdg3we2CRGVdfVZcABzH+gfk8CnxQ0mUvrwjG84WvZBkvMhlYBLQXkZ0i8jvgZeA2EdkA3Gq+RkTCReRtAFU9BLwALDHT8+Y+W3jPROWL94GhwFdmt+sA4MnLW6SyI/9O5BZVHeLjrVuKODYdeLzA64nARDf5epXIP+e4tDleBThTSvl9BKwxm4oPAQsL9Cxd8eQ/E1U0vOacf7YDwYX2tQK2mdvF6em5JFZVd2E0R+7DaMp9WIzzVzhK6Zmo1PHuRP75FEgQkQxgN9APuAfoab6fBTQSkXqqetThubOA5iJSVVVzC+z/AGNUPQiYWqzSVzCE8l1ZfOHdifzzPPAD8B1wGBgD/EpVMwFUdS0wGdhs9rBd4+DcczEGD/eKyIEC+6dhVKBpqn7HHq84SqmLu9QRz2Oh/CEim4BhqjrncpelLLlWRN/x834ELC3OYGtp4TXnyhkicj/G89Lcy12Wsia/i7uiURHLfMUiIvOBjsCjqpp3mYtT5hS3i/ty4VWicoSq9r3cZbicVNQubq8SeZQbvDsRICL3APfUqVPniXbt2pXkqT0qOFvXLOXAcRV/x1TULu4SrUSqOh2YHh4e/sT96Tc5iv0jr/ERDziKGcoUvqOboxiACJaSfa6qo5i6lXLhe7/fgaLprTDGYdyzCnc5jJmhZFd3Xr66p9zlxV+dxYT/y/oYAar4+0aedZRlmeE15zzKDQEBUKOanwPKaSWyNdgqIk+LSKaIrBKRkaVdKI9fJiJQubLvVF6xrEQiEgo8gWHgcB1wt4i0sXPyw9uyOZV92nGhDmw7zslsZxrPvdtOczz7nKOY7duU7Gzng83b9kL2cYcxhyH7lPVxl8SdBIcfRYlw/CxscniNAMdzYdNBd3mKQJVqvpN1vLQXkRUFUnbhH30R6SsiRwsc82d3pb2AnTtRB2Cxqp5Q1bNAGoZA0pItaTsZEzSROUmLOHnY/jdobdoBRgZ9xdSk1Rw/nGsdAKxIO8YDQZlMTNpNzmF79/3vFyihrc/yt7+c4/Bh+5UpbTkE3Q9J78DhbJsxmyHoZUiaDYcdiHnSDkLQPEhaD4dtVKY8hbFn4ecCo0wZeca+PBuXmHMWXt4EwfNhxn775cw5DS+nQfCrMGOd/biLKOaEIlVdp6pdVLUL0A04gSGjKszC/ONU9XmXpT2PnUqUCdwkIo1EpCZwJxdPpfVJl6EdGDjuZjKnbGRM8ERmjfqeE4esK1OvoS15bFxXfpqyi5jgr/h8VCbHDvmvTP2HNuSZcS2YP+UIDwZnMmHULrIP+a9MD/9K+MeblUidmkdYyFmeTzjHoUPW37ShA2DcMzBlPgQ/CKPegkMWlWloVxg3CKZkQPDLMOprOGSjMg1tBuNCYcpeCJ4Ho9aBv48iQGCvwjMFLj3urLEvwE9fQPYZeGGDkcfEHTCmPTzZ0rp82afghblG5Zm4FMbcDk/eaB1XJAJU95OccQuwSVW3WR5ZTCzrt6quEZFXgFnAcWAFxjybixCRaCAaoGVL49MPCBCuG3ItYYPb89OEDKYPn0etJjXoPfJ6v3kGBAg9h7Sgx+DmzJuwhfeHr6BOk2rcPrKt35hbhzTklsEN+HLCAV4bvoP6Tarw0MhAvzEPDBbuf1h49z95xI3Io3ETePLpSj5jjDgYchsMvhUmpMLw16BJAxj5kEVMFxh8HUxYDMNToUktGGnRiRkgMOQaGNwUJuyA4augSVUY2cp3zLOVoUsuzDhnfC8zFD60GMWcmgWjN8Cr1xrnrmSz823qahg9F169HUb2gkrFkTQHADaabTYZjCEOLoqe5rT73UCcqq4qTka2HtdU9R3gHQAR+SuGpVDhYyYAEwDCw8PP/5znZB3nu7HLWDz+Z64KbURQhD0noqNZp5g5dj3fjt9M89C6tItobBlzKOsMk8dmkTr+AK1CaxAWUcsyZl+W8s+/5zHxrTw6hkKP3va+PVmHYOxkGJ8Coa0gIsxGTA6MXQDjf4TQqyDCT0W4KO40jN0M47dDaG2IsLAVDBT4QyV4wfyp+0MlY58/utczUsJ62HoSnmsNzW0M2nRvZqSE2bD1MDzXB5rXs3ddl2AtnmssIukFXhdpmSUiVYEo4I9FnGMZEKSqx0TkTiAF8P3rbANblUhEAlV1n4i0xHge6mEnbuOc7XwY9SVXdW7Ew5Nup0NUiK1CZc7J4rWoRTTvXJcnJ93A9VHWMwzS52QTH7WJ1p1r8OdJwURE1beMmTcnjyH3nqNjqPD2R5W48x57P6NzlkBUPHRuDZNGQ5QN06s5GyDqfeh8NUwaAlEdbWXFnAMQlQ6d68CkLhBVlGtaEfxvJXjn3IVtKzrVgcW9YdZ+eHEjhKTBJ13g3qst4q6CxX+AWRvgxfkQ8nf45GG4t5O9cl6EYHUnOmBTxX0HsExVswq/oarZBbZnisg4EWmsqgcKH2sXux2HX4hII4xp0cNV9YidoCo1K/OraXfTbkCwo0JVrVmZp6f1IGyAxX+wANVqBvDStBBuHFDXdkzNmvDRlErcOsBZG6RmdZj2VxjgoO1fswpMexQGtHeUFTUrwbRuMKCJs7h6AltdNI36NzFS2kE456Djsn9bI6VtgXNupbMlJ+Mego+mnIhcDWSZHnQ3YDQiXfYnGthtzjmTH5gE9XIyR+0C7Xo1chzTuVdtxzE39nLXgO/V2UVMsKus6GXbEbpkiXT+LzDibDZRi8T6TmR9CsOf4jZgWIF9vwdQ1X8DDwB/EJGzGH6Rg7WYk+rK8RCWxy+OErgTmVZmjQrt+3eB7TeBN4uXy8WU6MzWfAFqmzZtntiwYUOJndej4hPeSEg/6F+AGl5PNN3P86XM/AXMbC0oQH2fhx3F/ppP+Zq+jmJuZz7b8N2F7Ysg9sEOh6LLFgrvuRCgPqbwqMO4D5UTtZ3F1DymJInz8iWpu7x4xMVnYUUAbsaDLjtec86j/CCAjZ7E8oZXiTzKD/mKhQqGXRV3jKngzhSRySJi61LdCEkBsrad4ni2M937zm3nyMl21re6bSdk5zgKMeIOQPZJhzHHINueDPAitueBC43sReRy6cpXVhxX2Oyiq/r4Wdjk4jMFLtyJfKVyih0VdzPgf4FwVQ3FuJzBdk6+Lm0/zwT9l2lJmbaFpAAZaUd4LGgxHyVtJceO6hJYnHaG3kGHeC3pOEcP2/vvp/0IQT0h6R9w2NbIlxm3DoLiICkFDttUOqftg6AUSFoJhx0I2xeegw4n4KVccKCRBeA0hmHeG4Ddbp4chbG50PEEfO1AFJ9zBl5eDcFfwgxbtv5FkP9MVDLauTLD7kBJZaCGiFQGamJojizpOTSI/xnXjfQpO4kLnsGUURkcO2T9Deo39CqGj2vLd1P281jwYt4btYWcQ/4r071Dq/HCuNp8NeU0EcGHeHXUcY4c8l+Zht4H416CKTMhuDeMGgOHbFSmoT1h3KMwJR2C/w9GfQGHjlnEtIJx3WHKdghOgVErwMZHwZDK8Fo1mHbW+GIn5YKVRvY0htT+DWA5xlII3S3yyVZ42aw8H56FF6pCtI3GfvYZeCHTqDwTN8OYLvBkcUQ0xVkW4jJhWYlMf+ixGL7Ue4Cjqjqr8HEiEi0i6SKSvn+/oaEPCBB6DGnJixkDeGhMGDNfWcv3H1iLagMChL5DAhmfEc7vxrTm81e2M+eDSxQcl8QMHFKdbzIaED+mFv9+5QRffOBfMR4QAEMGQsZsGPNHeGU8fDDFsnhGXA/IeAHGPAivzIQPfrCIERjSCjLuhjFd4ZVV8MFmG3kJPFQZltSAF6vCP87AJIuW7hpgPhCBsfJcV6z/0aln4cUzEFcVltWA/6kClW10wE3dAaMz4E8dYc2d8JvWUNmtCDVfgOorlVMs67e56NFADCP3I8DnIjJUVS9ayMqXAPVo1im+GruOeeM30Sy0ni0hKcDhrFy+GLuDGeN3Exxai04R1qrG/Vl5/GfsCT4af5J2oZXoHmFtwJS1H8ZOgPEfQmh7iLD6yc6POwpjv4bx8yC0GUTY+PXNOgljV8P4DRBaHyJs9s5nKbxxBt4+Ax0DwEpocQ3GgqPzMP5hEYCVGKpbJegWAM/nGs9hsVWgmY3K0L2RkRIyYOtxeK4jNK9p56qKoAQUC5cDOzfJW4EtqrofQESmAr0wlgHxy6o5WbwR9R3NO9fj95NupGuUPQX38jmH+UtUJsGda/HcpA70iLKueN/NyeXxqKO071yZNybV5bYo6//GnIUQ9TvofC1M+idE9bcMMeJWQdQ/oXNzmDQMorraiNkDUfOhc32Y1BuibM3Igrnn4KFT0CkA3q0Gd9n4jwViLLyzCVgA/BO4H2N2pS86BkBaDZhzFsacgdCT8H41iLLIr1M9WNwfZu2BF1dByHT4pBfca/P6LqKCWqDaKfJ2oIc5Ie8kxmSndP8hBlVrVmLEtN50diAkBUNMmjitE90GNLQdU6Om8Na0ekQOsO/iU7MGTPsPDIh0VDxqVoVpT8EABxq6mpVhWiQMcCgnrAlMrga3ufhyhZhpK/bXgLm1spEWniti0pgf+jc1Utq+YghQr9TBVlVdLCJTMOZhnMV4VrVa9hyAtr3sNd0K07GX8wkp3Xo5987s5VJA0svFg3MvhyrsfHqUQNdusIuYm1zmG+lcQHIx5bgr2xd2VdyjgdGlXBaPXzpX6p3Iw6NMqYB3Ik/F7VEmhLcQ0ndYqLiDRdMTfb8vj1uruEVkK5CD8Uh3tvDxIiIYQ2h3YrgBPaaqy+xcgy9KTcX9Ofc4in2Q6Y4tgSNYymaaOooBaM0eTh13pkKuXksh3YVyOVzh7w7jnlG4z2HMVOdqbDAV2VEO4750cU12KDmjkpv9TPe+A8NToS1wIzDe/Osab7lJj/JF6SsWBgIfqMGPQH0Rcf5LXAA72jlLV0lf7N92ghMuBKhu3EwLc+J4Hts2+R/a37Ydsm2aL14UtweyLWQ+l8QccueAWtE4fho2ubX8sFYsNM5XxZgpuoizKDBLRJb6eL8ZsKPA653mPtfYkf3YdZW8hNVphxgeNJfPktZxzIEA1Y2baT7HcvL498vHiAzez7wZ/sVp330H7TvCiy/B4cP280hbBkFRkDTBoQPqS5D0jTMH1IpCzil4eS4E/xVmrHF5EmsH1AOqGl4gFTXUEqGq12M024aLSB+XpbGN0+acI1fJm4Y243fjQlk8ZS/Dg+cyedRaSydTcOdmmpOdR/ILRuX5fOJJnhtTh6FP+tefDBkMr/8DpqXAtZ1gdBIcsjFnYOgdMO45mPItBEfBqHFw6KhFzPUw7j6Y8rPxRRv1lT0H1HySNxnJCePPGMkpyVuMZIfsU/DCbOOaJv4EY+6CJ3s5zxO4IPsphnbO1HqiqvswfuxvKHTILi528G1u7nON05amT1fJSx1QmxIQIEQMaUbvwdcwZ8J23hmeSd0mVblrZGu/mbhxM/1m6ineGH2M+Ffr8JuRNalkw8IzIAAefggeehDemQgjY6FxExgx3DpuyAAY3B8mTIPhY6BJfRj5iEVMVxjcBSb8CMOnmQ6oNn4n0w5AXCaoQlg9iLQxhr3wHPwp12jbhAbYHzxNOwBxq8286ljnNTUDRs+CV+8yrqVYDqjFlP2YTj8BqppjbvcHCnttfwk8JSKfYHQoHFXVPe5zdVBkC1dJnwLUI1mnmT52E7PGb6NFaB2ujbAn5XHqZhrWvQph3avwj4Qcdm49x7DnatG0ufU3JysLXv8n/Odt6NQRevW0VTyyDsLYj2D8FxDaGiK62IjJgbHzYfwiCL3avgNqfCZEB1/YXtTXOubPufDbyhe259lcgi5+LUS3vLC9yMKYsnsL6N4cEr42HVBvhubWvplFU3wB6lXANKMXm8rAJFX9upBl1kyM7u2NGI8mvylWjjir9z5dJX3x85z9jIlaQsvOdXl6UlfCo+xp6Ny4mbbrVIWpixuxcNZp/vXiMfqF7Of1T+oz4F7fQ+Bz58EDD0GnTvDeRLj7LnvXNWcxRD0DndvApBcgyob2bs56iHrXdED9FUTZdAhN2Q0Z2ZBqVu6QWca+QX40eNPPwqo8+NS89M4njH33WPy3U/aYeZlK9pBvjX2D/PRddboaFj8Ns9bBi3Mg5G/wyVC414U3X3EVC6q6GWP5n8L7C1pmKcYMkRLDSSXy6Srpi2o1KxE3LZwuA5wJqty4meZzU/9q3NS/GovTcjlnYeFZowZ8Ohluu9VZHjWrw7RXYYDNuxaYotXHnDmg5ikkrIaYNhBo/kLHtjH2RTUtepWHPIW/5MJTVS74b4+oYuy7q5LvlSHyFBLWQUzrAnmFGPuirva/ogRA//ZGSttULhxQyxS7XtyXuEraoX0v+yrsgrhxMy3MjZHWau6ethzFL6XXJb91NmKCnccECGQWquB/6WAkfzHphfpTEqoayTKvvoXyam8kJ0Tas1svmit4PlGRrpIeHiXOlXwn8vAoEyroncgToHqUCeEdhPQ1FgLU60TTv/b9vlzzC7MRnoifQZMi+C2TSGWAo5iBfONYtAqGcHUJzrqPupPhWLQKLoWrbkWrv3EhCn3XZV6LS0GAKqAV8E7kNec8yg0aALnepDwPD/eowFm/kge3feeli10b4foiMkVE1orIGhGxNULi1kZ437aTnHBoI+yGPdtyOeZCLe5W/e3hHxUht1o1n6m8Ylfp9AbwtapeizEibEunuz5tH88GpZKalOHIRnhV2mGeCFrA5KSNHLNpI5zPlOR9TEneZ+vYZWnHGRi0jglJWWQftl+Z3Kq/AZI/NZJTkr8zkqOYNUYqk7w+M1JxUIRzVPKZyit2zBvrAX2AxwBUNRfDI92SHkODqVRF+O9Lq5n92jr6PdWW/s9cS+2G/n9VIoc2pVIVYcpLm5n+2nbufKoFA58Jpk5D/44+y9NyGBe3C1UICatB18g6fo+/Y2h9KlcR3n1pP5NfO8iDTzXiV880ol5D/x/LkMFQuTKMeRWS/wW/j4an/xcaWowtpy2FuDdMcWcbiLTZJ5K2CeKmG2LSsKb2BjTT9kLcEjOmAUTadC1zldcyiEsucF3X28urMIpw2m8ft8NJXGWEnTtRK2A/8K6ILBeRt00Fw0X4shG+cUgwz2fcwQNjuvDVK2tY9IG1xj4gQOgzpClvZPTi12PaMvWVrcz7wNr++6343dwT3ZioYY15K976+IAAYcCQ+kzOaMOIMVfz4Sv7mfmBtRl3vvo7/Sd46QX4+2vwsQ1BVPy/IPpeGHafsW2X+JkQ3QOG9TC2bcUsheh2MKydsV2qeY2D6IEwbJCx7ZYr9k5kHnM9MML0oHsDiAcuspTwbSN8km/GrmX++I00C61H2wh7BmxHsk6TMnYrX4/fScvQ2nSM8C9CXZByhM0ZJ/lbqjHN4uGQVSxIOUKfQf7jDmad5eOxB/hi/CFah1bnOgu1eD5O1d8p8yFjI6SONV6H3GvsG9TXIi4TMvZA6mNm3MvGvkGhfmK2QcZhSO1nxnxh7BsUVAp5pUHGJkgdY8Y8YOwb5NAQE4xKlIt9883ygp070U5gp6ouNl9PwahUlqyes5f4VtNZv2A/0ZN6krTiDoLDrdVDK+ccJLrVQlYtOEzspM68vqInbcJ9Gzrm5SlvJ+zmoZhAGgRWoUFgFR6ODeTthN3k5fkeTP5pzjEGtVrH8gXHeWFScz5e0YaO4dZzBubOgw6h8N33hvp78SLo5ucTycuDhPEQMwQCGxop9hFjX56fDqe8PEj4CmL6QGAdI8X2Mfb5istTSFgOMR0hsIaRYjsZ+/x8FO7yyoOEtyBmcIHrGmLs83ddvlCEs1TymawQkRYiMk9EVpvraT1dxDF9ReRoAbuDPzsvaaFz2lEsiMhC4HFVXSciSUAtVf0/X8eHh4frk+nt2PjDfk7lnCV0gLUPRMHB1rU/HOFkzlm6DvA/I6y4g60//3CC4znn6DnA/7MTXDzYuuhHOHbMnvrbG2w1CH8MS8VCp/DqOjnd9+3yOlnvV7FgGo40VdVlIlIHWAoMUtXVBY7pC8Sp6t2OLsAPdseJRgAfmxPzNmNzIlMbl9651/ZyO6vLGWG93C1f4Fb97eGfPITTxWjOmTNU95jbOSKyBsOEZLXfwGJiV8W9Aih3miWPKw3hnP+vZGMRKbiYwgQfZiWISDDG0kyLi3i7p4isxFisLk5VV7krr5mXJ0D1KAvsCFCvDa+lE9J992JEyk+2BKgiUhtjscCXVHVqoffqAnmqekxE7gTeUNXirO1XegLUf/Cko9hYxvE+DzuK+TWfMpU7HcUA3MdMvqavo5jbmU+aC6PMSBZz/LSz7tla1c7BCofPKV0UPnfxTPSgusor+5yzZte5WtZ55HdxFwcRqQJ8AXxcuAIBqGp2ge2ZIjJORBr7cUy1xNPOeZQbrAdb/WP6bL8DrFHVf/g45mogS1VVRG7A6KE+6DpTvErkUY4ogTtRb+BRIENEVpj7/gS0hPOGJQ8AfxCRsxiL1g3WYj7T2PVY2Iofp31fHNqWQ80G1ahet+INoHmUPVr83rnvMObH+jvmTeBN15kUgROrvZtNO2HbvXSb03bzYtCHfJO0hBOHbaw3X4jZyRuYneysg2Jm8lZmJm91nFdq8i5Sk50ZYU5N3svU5L2OYsaPU8aPc/7DlzzZSI5ivjJSWeT11pvneOvN4vmn5xFALtV8pvJKqTbnrh/ajoAqAXz70lIWvPYzvZ8Kpe8z11GzofXMq7Vp+/g0biWq0CKsHtfaWMdwVdpB3o9bCwpBYXXoFGnPW+XntCO8HbcJFFqF1SIs0nqcakVaNuPjdqAKrcNq0iXS2t5r4QJlVLyiCqGhcFMfew/0aekQ95op8GwLkTZ+xtJWQ9yHZkwQRHa0lZWrvL5LyyPh2TxUoVNnISLSvQ1qedbI+cJuJcp32lfgraL65i+1ETYEntcPaUvXwW34ccJqpg5fSO0m1ekz0tpz6vP4DCKjW5/fTlx0i2XMR/Hruc207/wofj1/W2TPGO7d+M3cEd30/PZri6xVTRPid3B3dJPz2+MWWbsxjk5UfvO7C9tz0+xVovh/QvR9F7YXfWAj5mOIvvXC9qKXbGXlKq+kP+Xx2BMB57fnfO+uEuURUKyOhcuF3UoUoaq7RCQQmC0ia1V1QcEDfAlQc7JOMH/sCn4Yv4qrQxvSKsJaArQ0ZRc7M47ydGpvAJ4NmcnSlF10G+R7BYzFKVlsz8ghPtWoAE+GpLE4JYsbB13lN68fUg6wNeM4o1ON8YnfhvzEDykH6DXIt+RoYcphNmec5KXUdgA8ErKShSmHuWlQA58x079UVmXCJ2Y3dFhHZfqXyj0WC2ylzDOFq68br0PuMfYNutlPzE+QsR1SnzVjRhj7BhW2di+BvP6bmsfqTGXyNOMO0qXdWf6bmsfdA91VpIp4J7J1pTac9otk/ZydvNTqYzYv2MOvJt3KMyseokW4/2ZZXp4yNSGD/jFtqRtYnbqB1RkQ246pCRk+xaR5ecrkhPXcHRNMvcBq1Ausxj2xrZicsN6vADUvT/kgYQv3xjSnfmBV6gdW5d7Y5nyQsMVvXu8k7OTBmKvPi10fir2adxJ2+o15PkkZPgICA4XAQOGp/4Xnk9SifJDwL4j5VQGB51Bjn19R6KcQcxcE1jNS7N3GPkuxq+O8lBf/fI4nnw6gSaDQJFAYPjKAF/98zu91+SwDAeRS1Wcqr1gqFopw2p8NPK+qPs2NwsPD9ZH0G9jyw15O5+Ry7YCWlgXxBlsvcCUOtkbeeJbl6Xl+M2oZ3kSfSb/P5/sjZUKFtcwq0mnfzslb9bI5ndLDgwu9cxUNy0rky2nfw6OkKe440eXCUyx4lBvUWsVdLinREhdQcROL88n2v8a5Dc592DQCKMTtzHccE1mkqt6aWtVcDEJ2caFEedClesVFXnUr2XdvAjiO9cTHijo9vNRU3In8yVHsC/wVN8rv//CooxiAJ/iQN5ytEsPTvMV4w/DIEX/gPVedGLscLsLRjIOOrZHBmLHrJq/Z3OQ4LztUxC7uinfv9LhiudIHWxGRSkA6sKsk56d7eBSkIt6JnAwrP41N59N8jmw7yuls58JTj18mxp2oqs9kBxG5XUTWichGEYkv4v1qIvKp+f5icxp5sbDrxd0cuAt428nJt6dtJzloHGlJCzl5+KTjwi1MzmBhcoajmLnJa5mbvNZxXguSM1mQnOkoZl7yGuY59Ol1oxYHmJh8ionJpxzFfJp8kE+TnQqR1HYAABtZSURBVM83c5NXSvJuUpKtDTP9YXQsuFdxm62lf2Es0t0RGCIihaW3vwMOq2ob4DXglWIVGvvNudeBZ8FGF0sBOg8NJaBKAN+/9AM/vbaE8Ke60eOZG6jR0NrbbVPabqbH/QAK14Q1IiTSz3LZJuvSspgStwxVaBbWgPaR/nVz+WxM201q3I9mXg1pYyOv9Wl7mRaXfj6vdjZ8et2oxQEWpZ3hxbgTqEKHsEr0jPRvpwyGz/g/4/aiCm3DqnN9pD1TSjd5/Zx2lP/EbTEV7bUIi/TtEeiPEpiUdwOw0RzbREQ+AQZysdvPQCDJ3J4CvCkiUpyJeZZ3IhG5G9inqn7NaIuyEZYAIXRIJ6IzHqffmJv54ZVF/PyBvTvLjPgf6RHdkR7DOjIj/kdbMdPil3NTdFv6DGvLtPjltmIApsf/RK/oDvQa1oHp8T/ZikmNX0bv6HZEDGtHavwyWzH5avE7hjXl3fjNtsv3t/gTPBJdjV8Nq8bf4k/Yinkzfi+Dohtw77AGvBlvf86Tm7zeid/KndFXc9ewq3knfqvtvAqTP9jqpznXOP87ZqboQqdoBuwo8Hqnua/IY1T1LHCUYq5HbOdO1BuIMp1RqgN1ReQjVR1a8CBfKu5jWcf5cexilo5fRmBoE1pEtLDMMCNlC3syDvKb1NsB+FvIJDJSttB5UCufMctTdrAr4whPpvYFYFRICstTdtB1kP/8fk7Zyp6MQzyeahhHvhjyCT+nbCVsULDPmBUp29mdcZjfpxry5j+HTGVFyna6DPKtEXSjFgf4OiWXtRnnmJhqNAJ6hxzh65Rcbh/k+xlhfko2mzJOMzbVMEK8L2Q981Oy6TvI/5wnN3l9n3KQLRnHSUo1ljR/LGQp36ccpPcg599LG4OtB8qjds7yTqSqf1TV5qoaDAwG5hauQL7YPGcLb7Yax/YF27l30kCeWPE7rgn3PxUiL0/5OmExfWKuo05gTeoE1qRPbBhfJyz2q5JOTVjBrTHXnld+3xbbgdSEFZYq7pkJS+gb05k6gTWoE1iDvrGdmZmwxG9e0xOW0y+m4/mYW2I7MT1hud8Yp2rx/LhXE07yREx1GgcG0DgwgCdiq/Nqwkm/ef07IYshMY1oGFiZhoGVeSS2Ef9OyCqVvN5L2MZ9Mc1oEFiVBoFVuT/2Gt5L2OZKxZ0/2FoMFfcuoOCvZnNzX5HHiEhloB7FNCpx5Dtn14I1PDxc70jvz44fdpKbk0vIgNaW5/YGWy9wJQ62Dg9fwfr0HL8q7nrhbbR3+hif738l91vZCFcG1gO3YFSWJcAjBc0ZRWQ40FlVfy8ig4H7VPUhRxdTCEeDrao6H+zrZVr0au6wOB6/ZPJ751zHq54VkaeAb4BKwERVXSUizwPpqvolhqXWhyKyETiE0boqFp5iwaPcUBIqblWdCRcLKlX1zwW2TwEPFiuTQng2wh5lQovwQHak7/PbnKsd3l7D0v/t8/1F0q/CTsqzTUEB6gh8t22LIpln+QvPOYoZzSu8SJyjGIAExuKmfHKv46zQaTguYwJj+RPOls35K89jrHrjDNUkV3k5fX61VRZPxe3hUTxKwov7cuBVIo9yQ3G9uC8XdhQL1UXkJxFZaS7h9xe7J8/edpjcbGcaLI9fLhV14WM7AtTTQD9VvQ7oAtwuIrbWitudtpn3g15mcdJsTh22JyEpyOLkpSxOdrD0NfBj8jJ+TLYnwynIyuTvWZn8vbOgTclGcoDb8qUn/0R6sj1J0gUWU/QaVyWflxuxcGFsyH7KJXaMShQ4Zr6sYiZbXXrth3YloEol0l+ay8rXFtL5qV50faYP1RtaL/O4NW07s+Lmo6pcFdaE4Ehr260taTv4Om4BmDGtIq0lRgC70jbzfdwMUGgc1pRmkdaDwxxIg1Vxht9uvTBobL1cttvybU/bxty4OagqgWFX0TLSYhlwALZiuJsphmFTcKnl5UYsXBTFHSe6XNidClHJXKpiHzC7wEriBY8pQoAaQLshXRiSEUOvMXey7JU01n5g784yJ34B3aKvI3xYF+bEL7AOAGbHLyQ8ujPhw8KYHb/QVgzAD/Ff0Sn6RjoNu5Ef4m06wK+Kh6BoCB5mbJdi+ebFf0uX6OvpOqwb8+K/tRn1LcYi793M7dLLy41YuCiu5OYcqnpOVbtgaJFuEJFL1gRU1QmqGq6q4U2aXFjw+ERWDj88O5Pvn5lBo9CraBrhW0Saz5qUDWRl7KdPYk/6JPZkX+Z+1qT4H3danbKBrIwD9E3sSd/EnmRlHmC1RQzA5pRVHMrYS/fEW+ieeAuHMveyOcViCc/dKZCdAdcmGikn09hXCuVbn7KW/Rn76J14E70Tb+JA5n7Wp1jNl1oLZAGRZtpn7iv5vPLFwrclduO2xG7szTxERsoWy7yKQlU4nVvVZyqvODJMVtUjwDzgdjvH75izgQ9avcLuBVvoP2kIg1eM5Kpw/1KgvDxlbsJCesaEUzuwFrUDa9EztjtzExb6FUJ+m/A9PWO6UTuwJrUDa9IrthvfJnzvVwipeXn8mPAN18VEUDOwNjUDa9Ml9iZ+TPgG9eWdq3mwJgFCYqBaoJFCYo19WnSM+/IpaQnz6R5zI7UCa1ErsBbdY28kLWE+6jNOgblAD6CWmXqY+0o2LzdiYX+oCufOVvaZyit2bISbAGdU9YiI1ABmAa+o6n99xYSHh2vP9IfY88NWcnNOEzSgvWVBvMHWC1yJg62vhU+xVCwEdOmqVeam+Xw/t1G9CqtYaAq8b069DQA+81eBLgrsFVyMonn80lAVzp4pv88+vrDTO/cz0LUMyuLxS0eFvNMVr3eu/DY0PX555AmcKp2vpIi8CtwD5AKbgN+Yz/iFj9uKw/WJPRW3R5nQODyIA+nb/D4TSWi48lm67wM6ietnIhHpjzEr+6yIvAKgqpc8hJuVKFxVD9g9d6mpuB93uEDz2zxFDH9zFPMaf+Q5bKuQzvMKo3FTvnv43HFe03mQR5joKGYSv2UYbziKeYun6YhzJcRqrneV12OMd5yXJXlAKanEVHVWgZc/Ag+U1Lndr1Dr4VHSKHDGTyo5fgv4GlXPX594aRFuQkViR4DaQkTmichqU4D6tN2S5mw7RG62c9PGy8WZ46fJ3rTfcdzZ46c4vsm+LVVZk3f8JLmbdlgfeLlRDKWmr2RhmSUic0Qks4g0sMAxo4CzwMc+ShGhqtdjGEAOF5E+VsW2cyc6Czyjqh0xRu2GF+EqWSR70zbwadBoliXN5LQLAWpZkZtzipUvz+Kz4CR2zLBQKxTgbM5JNr6cwtzg4eyb4bwpVdqcyznOgZffZWPw3Ryb8d3lLo41ivFt85VMy6wC6aJV7FX1VlUNLSKlAojIY8DdwK98mTW6WZ/YThf3HmCPuZ0jImswDPBW+w0E2gztTkCVSqx4aRaZr82j41N96PxMP6o1tOfGuSL5BwC6jOhl63iApcmGrK/bCOv1VXOzT7LqjTRWvT6Pao1q0X3MQNo82t0y7kz2Cba8MZMtr8+kaqM6dBgzlGaPWv5gAbA+2dCjtRtxi63j88lMNvSDoSOs8zmXfYxDb0zm8OuTqdSoHoFjnqbeo/bXtnWSVz5rkucB0GGEn6XGrSjFZyIRuR3DxTdSVYv8RS9ifeL+wPNW53bUsWCaf3elCH29eWuNBmjZ0lBcS0AAIUPCaT24G+smfM8Pwz+nepPahI60/qB3pm1mYdxXqELjsKtpbkNZvT1tK/PjZqGqNAm7ipaRwX6P3zp1JctGz+SGVwfSaeTNBFSy94i4d+pPrB/9OR1eHUrrkXchNuP2pa1jedxnoEr9sOYERlorOQB2p23kx7hUUGgYdg3XRLbxe3zO1LkcGP0Wga8+TcORjyCV7A9gOs0LYG/aetLjpoEqDcKacXVkO9v5XYRSapUIeBOoBsw21x/+0bTNugZ4W1XvxOX6xE6WVqkNfAGMVNXswu/7ckA9mZVNxti5rBm/kAahTbkqIsRWft/Ff0NodPfz24MX/cEyZkH8HK6L7nZ+e+iix/0e36R7EE26t2RpwgyObT1E2HO3Uqt5A8t86ncPoX73ENYlfMLJrfsJeW4gNZpbe7etiJ9CSHSf89v9F42yjAH4KX46HaJ7nd8etCjG7/E1uneieveO7E8Yz5mte2j03K+p0tyeL7nTvACWxafSLrr3+e07F/2frbwuIb9joRQwDeyL2r8bjCXo3a5PbHcqRBWMCvSxqk61e/Jdc9byaask9i7YSN9Jj3HviniahFvPC9qYspqDGVncmNiPGxP7cTAzi40p/luPG1LWsD8ji56JfeiZ2If9mfvYkOJ/xYYGnZoStTiOW1Of4ODKXXwW8jxbp620LF+dTi2IWPxXuqc+S/bKbcwLGcGeaf4nse1MWcbRjF2EJt5DaOI9HM3cxc4U6+eorSk/cyhjD9cn9uf6xP4cztzL1pSf/cZU6xRCq8Uf0Dz175xauZ5NIQPJnja3VPLanrKCwxm7CUu8k7DEOzmcuZvtKSss8yqSPKw6FsollnciMe5t7wBrVPUfjk5esyq3TnuC5gM62I7RvDwWJcyia0xvagbWBuD62AgWJcwiJOpaJODSeq95eSxMmEt4TE9qmTHdY3uyMGEubaLaFxlTkOb9O9C8fwf2pG1Az/lQbxdBk/7X0aT/dRxMW+03TvPy+DlhGu1jbqN6oOGHfW1sf35OmEazqC4+y6d5eSxJmEnnmL7UCDT8sTvH9mVJwkyCokItr6t2/57U7t+T42lL4Zz/dWPd5KV5eSxPmE7HmH7nYzrF3sLyhOm0iAqzLN+lJyS/A6FCYUfFHQEsBDIwfisA/mSa5BVJeHi4dkl/zFFBvMHWC1yJg63/DX/ZWrEQFK4850exMNy9YqE0sdM79x3g9+I9PEqECnon8gSoHuWHPKDijM2fxxOgepQJ9cNDOJK+yX9zrlm4MsxPc250BW3OOaGgAPUBPnIUO4WhrtrmTmPy45y26d/jDzi9JjCu62HedxTzKb9mEJMdxaQwxPUzm9M4NzG28JpzHh7FpII257xK5FF+UIypcBUMOyruiSKyT0ScrU8PHN92gDO/EBX3sU1ZpVCikqG8q8zPky/78ZXKKXZGw97DpkVWYQ6kreWroJGsTppK7uHjjuMzkxecF0OWZsyZnFNkvPwNXwQnsmuG/d+KMzknWffydL4KjmXvDHuj9BuSZ7Mhebaj8gFsTv6GzcnfOIpxqzLfkvwVW5JtmlgWI+YSym4+UYliZ5xogSk8dUzLob0IqFKJtS+lsuG1rwl56jbaPXMHVRvWtox1I4R0GpObfZI1b8xjjani7jbmXkIetVS+cyb7JBvf+IaNr39D1Ua16TxmMC0f7W0Zty9tLSvjPgVV6oW1IDDyWssYgANpa1gV9zGqSt2wljSO9K8AKY7K/GDaatbEfWjmFUSjSOtZL25iiiRf9lPBKLFnosIq7mAMFXeLIT1pPrgHWybMY8Xw96nWpA5tR1rf2NwIIZ3GbJ+6ghWjZxD+6r10GNnPtop719QlrB49lc6vDqbtyNttq7gz4j+ndXTk+e1bFiXailsdP5mg6H7nt/ss8q/Od6syB1gT/zEto289vx2x6KVSiSkSpUJ2LJTY9HBfNsKnso6S8ewn/PzMJOqGNqdxhLVM3o0Q0k1Mo+5BNO4exPKE6SwZ+TnHdx62da0Nu7emQfdWrEqYwsqRH3Fi5yHLmF0pSzmasZOOiQPpmDiQo5m72JVi7Uu+J2UJ2Rk7aJ94L+0T7yU7cyd7Upb4jSmoMl818j1O7rS3wvzelJ/IydhO28T7aZt4PzmZO9ib4l9Y6ybGJ/kdC75SOaVUPRay5mTydatYDixYyw2TnuTWFS/RINz/vKDCQsgagXXOCyF9Wfu6iQFo0Oka7lr8LDenDuPQyl1MDRnNtmnWzzZ1OzWn3+K/0Cs1hqMrt/NNyDPsmuZ7kFDz8shImErbmP5UD6xL9cC6tIsdQEbCVL/l07w81iR8TkjMHVQLrEe1wHq0ib2TNQmf+41zozLXvDzWJXxK65i7zufVOvZu1iV86vdzdxrjl/xJeaXQsSAiSSKyS0RWmKnIWYoicruIrBORjSJia6UCW4oF85nov6p6iZF9UYSHh2tw+kgO/rCeMzmnuHpAmGVMeRhs3Zu2Hj2nNO136WQ5f4Ot+9PWoOfyCOzX6ZL3ysNga77KvHG/S/99ZTXYujA83lqxUDdcudGPYmFOsSyzkoBjqjrWzzGVgPXAbcBOYAkwRFX9zsOxMxViMtAXwyRiJzBaVd+xU/BGvVzOcLxMuJ2R2cTiQf9y4/pBv6zJNyq5fNwAbDQn5yEinwADsbBCsNM7N6REiufhYYW17KexiBS8VU0obFZiwVMi8j9AOob5TuGH4GZAQVuknYClWYcnQPUoE2wJUGuGK9f6ac4t99+cE5E5wNVFvDUKw7DxAEZVfQFoqqq/LRT/AHC7qj5uvn4UuFFVn/JX7lIToA4g1VHsNwx0LPCcwlDHE97AmPRWlgLPO7E9ox6AmdznKsbpZw7G5+7mf3UTzgaMba10V0yjElW91c5xIvIfoKiVTXYBBdcAbW7u84vngOpRfihFxYKINC3w8l6gKGnKEqCtiLQSkarAYOBLq3N7AlSP8kPpKhbGiEgXjKq6FRgGUNAyyzS7fwr4BqgETFRVSzdPW5XINL57wzzx26r6sqvL8PCwopTmE6nqoz72n7fMMl/PBHz6hxSFnS7uSsC/KNB3LiJfWvWdF2R7stH8bDnibidlY2OyYeTfZkR/2zFuHUbzxZ2tRwywHZMvuGw14g7bMVuTjf9P8Aj7jqRu49x+7m7idicbCz9fM2KQo7wuohQdUEsTO3ciV33n+RxKy2Rd3HugUDssmIaRtsZr2Z+2hoy4yagp1rQzFuPWYdSpwBPcCjVXsTbufVCoExZEo8hLB2dLKs7t5+4m7mjaz2yJ+w+oUiusNfUirQfXi6SCzmy107FQVN95s8IHiUh0vlv//v0X5uRsiP+Q5tH9aT6sPxviP7RdsMz4z2gVfTOth/UjM/4zWzH5DqMhwyJZET/Fdl75As/gYbewOt5er12+6DJo2G2sife1wMDFrI//iJbRt9Fy2G2sj7ffE+kmzu3n7iZua/w7XB19J1cPu4ut8bbG4Ysmf2arr1ROKVUB6r6UHzmWsY3WiQ/ROvEhjmVuY1/Kj5bn2pWSztGMHVybOJBrEweSnbmTXSl+xg9w7zDqRuDpRnSZlbKYnIzthCQ+SEjig+Rkbicr5RJL8xKJc/u5u4k7mPI9xzO20CLxEVokPsKJzK0cTPneMi+f+F8VolxipxK56jvXvDw2JEwiKOYeqgXWp1pgfYJiB7IhYZKl6HJ1whTaxtxO9cB6VA+sR9vY21mdMMWvELKgw2j1wLrnHUZLWuDpVqi5PmEywTF3n49pFXsP6xMmW5bPaVxxPnencZqXx7aE92gWcx9VAxtQNbAB18Tez7aE99wJUCsodhxQK2OI8m7BqDxLgEf8df2Fh4dro3R7c2Xy8QZbL3AlDrauCB9OTvp6/4oFCVdDkePziIppmeW279zDwzmluCxEKWJrnMhN37mHh3MqpmeWp1jwKEdUzD7uUlFxA78CilocqDGGkrYo6gFHfbznK85NjL+4ki5fWeZV3svXVlXr+YgBQCRM/Td4WpTLZyJUtcQTxjyPovanO43xF+cmpizL530W9mIuHNNZYYuf5LtMlzOVVnNuejmOuVLzugLK5z0TnUeNeUXlMuZKzevKKJ9XiezgZCpvcePKKuZKzassy2dSel3cIvIpkC+mrA8cUdUuRRy3FcjBMOk6qzaewUq0Y8HDoziItFd4y88RN5dIx4KI/B04qqqXuGCalShcVX11qlyC18XtUY4o/S5ucyHvh4B+JXVOrxJ5lCMsfYSL6/YDcBOQpaq+nHQUmCUiCrxl5/xl5rHgylnSxbIuItJCROaJyGoRWSUiT9uIqS4iP4nISjPG9pLkIlJJRJaLSFHGF75itopIhunE6V+efiGmvohMEZG1IrJGRHraiGlfwPFzhYhki8hIG3Ex5ueQKSKTRaS6jZinzeNX2cmjaCxNFg6oOVPATBd9wUVkjlmGwmlggcOGgF/hZISqXg/cAQwXEeuVAMqiHx1Dc7cJaA1UBVYCHW3E9QGuBzId5NUUuN7croMhnvWbF8bq6LXN7SrAYqCHzfxigUkYDrF2y7gVaOzwM3wfeNzcrgrUd/E/2AsEWRzXDNgC1DBffwY8ZhETimH8UROjdTMHaOP8e9JK4SM/qXjjRGbZsoDmNo9PAuKsjiurO9H52bGqmgvkz471i6ouAKzd4i+O2aOqy8ztHAzlxCWTCAvFqKoeM19WMZNlj4uINAfuAt52UkaniEg9jB+UdwBUNVdVjzg8zS3AJlXdZuPYykANU8FfE9htcXwHYLGqnlDVs0AacJ/D8lEGs/JuBdaq6s6i3hSRWiJSJ38b6E/RrkAXUVaVyNbs2JLG9BDvinFnsTq2koisAPYBs1XVesYcvA48i/Hfd0J+u3upuSSNFa2A/cC7ZtPxbfOf7ITB+G/GGAVT3QWMBbYDezB6sWZZhGUCN4lIIxGpiWH80cIipqjcKeVVvi75DETkGhHJ1xpdBXwnIiuBn4AZqvq11UmvWN85EakNfAGMVNVsq+NV9Zwa4wbNgRtExK+5gIjcDexTVev1US7Fabu7MkazdryqdgWOA7aeK82yVgWiwHpClIg0wGgltAKuAWqJyFB/Maq6BngFmAV8DazA1WIopXsnUtXHVPXfhfbtVtU7ze3NqnqdmTqpqq2FlsqqErmaHesWEamCUYE+VlVHs9vMZtI8rJfY7A1EmeMKnwD9RMTWrELz1x5V3QdMw2ju+mMnsLPA3XEKRqWyyx3AMlW1s7DsrcAWVd2vqmeAqUAvqyBVfUdVu6lqH+AwxrOoQ/K7uCvW/PCy6uI+7yyJUXkGA4+URkbmOMA7wBpV/YfNmCbAGVU9IiI1MOzBXvEXo6p/BP5oxvfFeAD1+4ttHlsLCFDVnALtbr9L36nqXhHZISLtVXUdxvONbcsyrHukCrId6GE2y06aeVn2IIpIoKruE5GWGM9DPRyUz2TXN/BcYz8H2B4ALVOK09vhsGfkToxfp03AKJsxkzHa5Wcwfo1/ZyMmAuMn7WeMZsUK4E6LmDBguRmTCfzZ4bX1xWbvHEYP5UozrXLwWXTB+DL/DKQADWzG1QIOAvUcXM9fgLXmZ/EhUM1GzEKMir0SuKWsvlflIXmyHw+PYnLFdix4eJQVXiXy8CgmXiXy8CgmXiXy8CgmXiXy8CgmXiXy8CgmXiXy8Cgm/w9CsARlZjg/CwAAAABJRU5ErkJggg==\n",
                "metadata": {
                  "needs_background": "light",
                  "tags": []
                },
                "output_type": "display_data",
                "text/plain": "<Figure size 216x216 with 2 Axes>"
              }
            ]
          }
        },
        "2b93ba302f0c4b0190af5281b82deabd": {
          "model_module": "@jupyter-widgets/base",
          "model_module_version": "1.2.0",
          "model_name": "LayoutModel",
          "state": {
            "_model_module": "@jupyter-widgets/base",
            "_model_module_version": "1.2.0",
            "_model_name": "LayoutModel",
            "_view_count": null,
            "_view_module": "@jupyter-widgets/base",
            "_view_module_version": "1.2.0",
            "_view_name": "LayoutView",
            "align_content": null,
            "align_items": null,
            "align_self": null,
            "border": null,
            "bottom": null,
            "display": null,
            "flex": null,
            "flex_flow": null,
            "grid_area": null,
            "grid_auto_columns": null,
            "grid_auto_flow": null,
            "grid_auto_rows": null,
            "grid_column": null,
            "grid_gap": null,
            "grid_row": null,
            "grid_template_areas": null,
            "grid_template_columns": null,
            "grid_template_rows": null,
            "height": null,
            "justify_content": null,
            "justify_items": null,
            "left": null,
            "margin": null,
            "max_height": null,
            "max_width": null,
            "min_height": null,
            "min_width": null,
            "object_fit": null,
            "object_position": null,
            "order": null,
            "overflow": null,
            "overflow_x": null,
            "overflow_y": null,
            "padding": null,
            "right": null,
            "top": null,
            "visibility": null,
            "width": null
          }
        },
        "34a6a2a4506441cdb8618cdc45e9c4e8": {
          "model_module": "@jupyter-widgets/base",
          "model_module_version": "1.2.0",
          "model_name": "LayoutModel",
          "state": {
            "_model_module": "@jupyter-widgets/base",
            "_model_module_version": "1.2.0",
            "_model_name": "LayoutModel",
            "_view_count": null,
            "_view_module": "@jupyter-widgets/base",
            "_view_module_version": "1.2.0",
            "_view_name": "LayoutView",
            "align_content": null,
            "align_items": null,
            "align_self": null,
            "border": null,
            "bottom": null,
            "display": null,
            "flex": null,
            "flex_flow": null,
            "grid_area": null,
            "grid_auto_columns": null,
            "grid_auto_flow": null,
            "grid_auto_rows": null,
            "grid_column": null,
            "grid_gap": null,
            "grid_row": null,
            "grid_template_areas": null,
            "grid_template_columns": null,
            "grid_template_rows": null,
            "height": null,
            "justify_content": null,
            "justify_items": null,
            "left": null,
            "margin": null,
            "max_height": null,
            "max_width": null,
            "min_height": null,
            "min_width": null,
            "object_fit": null,
            "object_position": null,
            "order": null,
            "overflow": null,
            "overflow_x": null,
            "overflow_y": null,
            "padding": null,
            "right": null,
            "top": null,
            "visibility": null,
            "width": null
          }
        },
        "3ff4bab33c3242239a6fcde127aeee66": {
          "model_module": "@jupyter-widgets/base",
          "model_module_version": "1.2.0",
          "model_name": "LayoutModel",
          "state": {
            "_model_module": "@jupyter-widgets/base",
            "_model_module_version": "1.2.0",
            "_model_name": "LayoutModel",
            "_view_count": null,
            "_view_module": "@jupyter-widgets/base",
            "_view_module_version": "1.2.0",
            "_view_name": "LayoutView",
            "align_content": null,
            "align_items": null,
            "align_self": null,
            "border": null,
            "bottom": null,
            "display": null,
            "flex": null,
            "flex_flow": null,
            "grid_area": null,
            "grid_auto_columns": null,
            "grid_auto_flow": null,
            "grid_auto_rows": null,
            "grid_column": null,
            "grid_gap": null,
            "grid_row": null,
            "grid_template_areas": null,
            "grid_template_columns": null,
            "grid_template_rows": null,
            "height": null,
            "justify_content": null,
            "justify_items": null,
            "left": null,
            "margin": null,
            "max_height": null,
            "max_width": null,
            "min_height": null,
            "min_width": null,
            "object_fit": null,
            "object_position": null,
            "order": null,
            "overflow": null,
            "overflow_x": null,
            "overflow_y": null,
            "padding": null,
            "right": null,
            "top": null,
            "visibility": null,
            "width": null
          }
        },
        "6b5e6cb1b6c8418abd22f846b361fe69": {
          "model_module": "@jupyter-widgets/base",
          "model_module_version": "1.2.0",
          "model_name": "LayoutModel",
          "state": {
            "_model_module": "@jupyter-widgets/base",
            "_model_module_version": "1.2.0",
            "_model_name": "LayoutModel",
            "_view_count": null,
            "_view_module": "@jupyter-widgets/base",
            "_view_module_version": "1.2.0",
            "_view_name": "LayoutView",
            "align_content": null,
            "align_items": null,
            "align_self": null,
            "border": null,
            "bottom": null,
            "display": null,
            "flex": null,
            "flex_flow": null,
            "grid_area": null,
            "grid_auto_columns": null,
            "grid_auto_flow": null,
            "grid_auto_rows": null,
            "grid_column": null,
            "grid_gap": null,
            "grid_row": null,
            "grid_template_areas": null,
            "grid_template_columns": null,
            "grid_template_rows": null,
            "height": null,
            "justify_content": null,
            "justify_items": null,
            "left": null,
            "margin": null,
            "max_height": null,
            "max_width": null,
            "min_height": null,
            "min_width": null,
            "object_fit": null,
            "object_position": null,
            "order": null,
            "overflow": null,
            "overflow_x": null,
            "overflow_y": null,
            "padding": null,
            "right": null,
            "top": null,
            "visibility": null,
            "width": null
          }
        },
        "74cc0a30f72a4b1bba3ed0cd3b8bc688": {
          "model_module": "@jupyter-widgets/controls",
          "model_module_version": "1.5.0",
          "model_name": "IntSliderModel",
          "state": {
            "_dom_classes": [],
            "_model_module": "@jupyter-widgets/controls",
            "_model_module_version": "1.5.0",
            "_model_name": "IntSliderModel",
            "_view_count": null,
            "_view_module": "@jupyter-widgets/controls",
            "_view_module_version": "1.5.0",
            "_view_name": "IntSliderView",
            "continuous_update": true,
            "description": "numIter",
            "description_tooltip": null,
            "disabled": false,
            "layout": "IPY_MODEL_34a6a2a4506441cdb8618cdc45e9c4e8",
            "max": 20,
            "min": 0,
            "orientation": "horizontal",
            "readout": true,
            "readout_format": "d",
            "step": 1,
            "style": "IPY_MODEL_7fcfd4b3037e43cc97aab46fd81435ba",
            "value": 10
          }
        },
        "7fcfd4b3037e43cc97aab46fd81435ba": {
          "model_module": "@jupyter-widgets/controls",
          "model_module_version": "1.5.0",
          "model_name": "SliderStyleModel",
          "state": {
            "_model_module": "@jupyter-widgets/controls",
            "_model_module_version": "1.5.0",
            "_model_name": "SliderStyleModel",
            "_view_count": null,
            "_view_module": "@jupyter-widgets/base",
            "_view_module_version": "1.2.0",
            "_view_name": "StyleView",
            "description_width": "",
            "handle_color": null
          }
        },
        "8a13c74d0ab54f26804dc9867dac2509": {
          "model_module": "@jupyter-widgets/controls",
          "model_module_version": "1.5.0",
          "model_name": "VBoxModel",
          "state": {
            "_dom_classes": [
              "widget-interact"
            ],
            "_model_module": "@jupyter-widgets/controls",
            "_model_module_version": "1.5.0",
            "_model_name": "VBoxModel",
            "_view_count": null,
            "_view_module": "@jupyter-widgets/controls",
            "_view_module_version": "1.5.0",
            "_view_name": "VBoxView",
            "box_style": "",
            "children": [
              "IPY_MODEL_eb1db9f1466d474cb78392a799b38037",
              "IPY_MODEL_11b6fc4071534633bb3b2669301d8245"
            ],
            "layout": "IPY_MODEL_3ff4bab33c3242239a6fcde127aeee66"
          }
        },
        "8f7140557f8c48ab8b68338ca7b49821": {
          "model_module": "@jupyter-widgets/base",
          "model_module_version": "1.2.0",
          "model_name": "LayoutModel",
          "state": {
            "_model_module": "@jupyter-widgets/base",
            "_model_module_version": "1.2.0",
            "_model_name": "LayoutModel",
            "_view_count": null,
            "_view_module": "@jupyter-widgets/base",
            "_view_module_version": "1.2.0",
            "_view_name": "LayoutView",
            "align_content": null,
            "align_items": null,
            "align_self": null,
            "border": null,
            "bottom": null,
            "display": null,
            "flex": null,
            "flex_flow": null,
            "grid_area": null,
            "grid_auto_columns": null,
            "grid_auto_flow": null,
            "grid_auto_rows": null,
            "grid_column": null,
            "grid_gap": null,
            "grid_row": null,
            "grid_template_areas": null,
            "grid_template_columns": null,
            "grid_template_rows": null,
            "height": null,
            "justify_content": null,
            "justify_items": null,
            "left": null,
            "margin": null,
            "max_height": null,
            "max_width": null,
            "min_height": null,
            "min_width": null,
            "object_fit": null,
            "object_position": null,
            "order": null,
            "overflow": null,
            "overflow_x": null,
            "overflow_y": null,
            "padding": null,
            "right": null,
            "top": null,
            "visibility": null,
            "width": null
          }
        },
        "b4b68c77bd10486583d85ff7dfb4c1b3": {
          "model_module": "@jupyter-widgets/controls",
          "model_module_version": "1.5.0",
          "model_name": "VBoxModel",
          "state": {
            "_dom_classes": [
              "widget-interact"
            ],
            "_model_module": "@jupyter-widgets/controls",
            "_model_module_version": "1.5.0",
            "_model_name": "VBoxModel",
            "_view_count": null,
            "_view_module": "@jupyter-widgets/controls",
            "_view_module_version": "1.5.0",
            "_view_name": "VBoxView",
            "box_style": "",
            "children": [
              "IPY_MODEL_74cc0a30f72a4b1bba3ed0cd3b8bc688",
              "IPY_MODEL_147b601574034dbc9d61a39b89df4724"
            ],
            "layout": "IPY_MODEL_f76eb29faf0d42ffad04dad74a0f3c30"
          }
        },
        "e273173433714f5b89a435ef652ef5dc": {
          "model_module": "@jupyter-widgets/controls",
          "model_module_version": "1.5.0",
          "model_name": "SliderStyleModel",
          "state": {
            "_model_module": "@jupyter-widgets/controls",
            "_model_module_version": "1.5.0",
            "_model_name": "SliderStyleModel",
            "_view_count": null,
            "_view_module": "@jupyter-widgets/base",
            "_view_module_version": "1.2.0",
            "_view_name": "StyleView",
            "description_width": "",
            "handle_color": null
          }
        },
        "eb1db9f1466d474cb78392a799b38037": {
          "model_module": "@jupyter-widgets/controls",
          "model_module_version": "1.5.0",
          "model_name": "IntSliderModel",
          "state": {
            "_dom_classes": [],
            "_model_module": "@jupyter-widgets/controls",
            "_model_module_version": "1.5.0",
            "_model_name": "IntSliderModel",
            "_view_count": null,
            "_view_module": "@jupyter-widgets/controls",
            "_view_module_version": "1.5.0",
            "_view_name": "IntSliderView",
            "continuous_update": true,
            "description": "numIter",
            "description_tooltip": null,
            "disabled": false,
            "layout": "IPY_MODEL_6b5e6cb1b6c8418abd22f846b361fe69",
            "max": 20,
            "min": 0,
            "orientation": "horizontal",
            "readout": true,
            "readout_format": "d",
            "step": 1,
            "style": "IPY_MODEL_e273173433714f5b89a435ef652ef5dc",
            "value": 4
          }
        },
        "f76eb29faf0d42ffad04dad74a0f3c30": {
          "model_module": "@jupyter-widgets/base",
          "model_module_version": "1.2.0",
          "model_name": "LayoutModel",
          "state": {
            "_model_module": "@jupyter-widgets/base",
            "_model_module_version": "1.2.0",
            "_model_name": "LayoutModel",
            "_view_count": null,
            "_view_module": "@jupyter-widgets/base",
            "_view_module_version": "1.2.0",
            "_view_name": "LayoutView",
            "align_content": null,
            "align_items": null,
            "align_self": null,
            "border": null,
            "bottom": null,
            "display": null,
            "flex": null,
            "flex_flow": null,
            "grid_area": null,
            "grid_auto_columns": null,
            "grid_auto_flow": null,
            "grid_auto_rows": null,
            "grid_column": null,
            "grid_gap": null,
            "grid_row": null,
            "grid_template_areas": null,
            "grid_template_columns": null,
            "grid_template_rows": null,
            "height": null,
            "justify_content": null,
            "justify_items": null,
            "left": null,
            "margin": null,
            "max_height": null,
            "max_width": null,
            "min_height": null,
            "min_width": null,
            "object_fit": null,
            "object_position": null,
            "order": null,
            "overflow": null,
            "overflow_x": null,
            "overflow_y": null,
            "padding": null,
            "right": null,
            "top": null,
            "visibility": null,
            "width": null
          }
        },
        "9bd28e6c1eec4da9b92489ad39faaa62": {
          "model_module": "@jupyter-widgets/controls",
          "model_name": "VBoxModel",
          "model_module_version": "1.5.0",
          "state": {
            "_dom_classes": [
              "widget-interact"
            ],
            "_model_module": "@jupyter-widgets/controls",
            "_model_module_version": "1.5.0",
            "_model_name": "VBoxModel",
            "_view_count": null,
            "_view_module": "@jupyter-widgets/controls",
            "_view_module_version": "1.5.0",
            "_view_name": "VBoxView",
            "box_style": "",
            "children": [
              "IPY_MODEL_ebcdba869ef74bc5b11695b01c61b2c6",
              "IPY_MODEL_2740924cf08347ce85084d3007224f0d",
              "IPY_MODEL_890f24eefb264886aa141b85edd42364",
              "IPY_MODEL_90e266ba09654f10a11b9b7ee0422e85"
            ],
            "layout": "IPY_MODEL_a0cafaa07e0b473295e3f4dd9fe53259"
          }
        },
        "ebcdba869ef74bc5b11695b01c61b2c6": {
          "model_module": "@jupyter-widgets/controls",
          "model_name": "TextModel",
          "model_module_version": "1.5.0",
          "state": {
            "_dom_classes": [],
            "_model_module": "@jupyter-widgets/controls",
            "_model_module_version": "1.5.0",
            "_model_name": "TextModel",
            "_view_count": null,
            "_view_module": "@jupyter-widgets/controls",
            "_view_module_version": "1.5.0",
            "_view_name": "TextView",
            "continuous_update": true,
            "description": "s0_x",
            "description_tooltip": null,
            "disabled": false,
            "layout": "IPY_MODEL_a8e2f882badb44708db7df1413c67f54",
            "placeholder": "​",
            "style": "IPY_MODEL_7de1d8b6997a415eb2ee40fe7d29e07f",
            "value": "4"
          }
        },
        "2740924cf08347ce85084d3007224f0d": {
          "model_module": "@jupyter-widgets/controls",
          "model_name": "TextModel",
          "model_module_version": "1.5.0",
          "state": {
            "_dom_classes": [],
            "_model_module": "@jupyter-widgets/controls",
            "_model_module_version": "1.5.0",
            "_model_name": "TextModel",
            "_view_count": null,
            "_view_module": "@jupyter-widgets/controls",
            "_view_module_version": "1.5.0",
            "_view_name": "TextView",
            "continuous_update": true,
            "description": "s0_y",
            "description_tooltip": null,
            "disabled": false,
            "layout": "IPY_MODEL_4b74da91a515471d81c40c1c97131614",
            "placeholder": "​",
            "style": "IPY_MODEL_7656cc4aabdf4c3f932b940d7a8e274e",
            "value": "5"
          }
        },
        "890f24eefb264886aa141b85edd42364": {
          "model_module": "@jupyter-widgets/controls",
          "model_name": "ToggleButtonsModel",
          "model_module_version": "1.5.0",
          "state": {
            "_dom_classes": [],
            "_model_module": "@jupyter-widgets/controls",
            "_model_module_version": "1.5.0",
            "_model_name": "ToggleButtonsModel",
            "_options_labels": [
              "left",
              "right",
              "up",
              "down"
            ],
            "_view_count": null,
            "_view_module": "@jupyter-widgets/controls",
            "_view_module_version": "1.5.0",
            "_view_name": "ToggleButtonsView",
            "button_style": "",
            "description": "action",
            "description_tooltip": null,
            "disabled": false,
            "icons": [],
            "index": 0,
            "layout": "IPY_MODEL_8d31d856c1c4471d97c1b1a2831e13bc",
            "style": "IPY_MODEL_a90e0b9f3dd24c008220c147f846b18d",
            "tooltips": []
          }
        },
        "90e266ba09654f10a11b9b7ee0422e85": {
          "model_module": "@jupyter-widgets/output",
          "model_name": "OutputModel",
          "model_module_version": "1.0.0",
          "state": {
            "_dom_classes": [],
            "_model_module": "@jupyter-widgets/output",
            "_model_module_version": "1.0.0",
            "_model_name": "OutputModel",
            "_view_count": null,
            "_view_module": "@jupyter-widgets/output",
            "_view_module_version": "1.0.0",
            "_view_name": "OutputView",
            "layout": "IPY_MODEL_6c5b1bf52e4242e390adbb0d8d360f93",
            "msg_id": "",
            "outputs": [
              {
                "output_type": "display_data",
                "data": {
                  "text/plain": "<Figure size 600x600 with 2 Axes>",
                  "image/png": "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\n"
                },
                "metadata": {}
              }
            ]
          }
        },
        "a0cafaa07e0b473295e3f4dd9fe53259": {
          "model_module": "@jupyter-widgets/base",
          "model_name": "LayoutModel",
          "model_module_version": "1.2.0",
          "state": {
            "_model_module": "@jupyter-widgets/base",
            "_model_module_version": "1.2.0",
            "_model_name": "LayoutModel",
            "_view_count": null,
            "_view_module": "@jupyter-widgets/base",
            "_view_module_version": "1.2.0",
            "_view_name": "LayoutView",
            "align_content": null,
            "align_items": null,
            "align_self": null,
            "border": null,
            "bottom": null,
            "display": null,
            "flex": null,
            "flex_flow": null,
            "grid_area": null,
            "grid_auto_columns": null,
            "grid_auto_flow": null,
            "grid_auto_rows": null,
            "grid_column": null,
            "grid_gap": null,
            "grid_row": null,
            "grid_template_areas": null,
            "grid_template_columns": null,
            "grid_template_rows": null,
            "height": null,
            "justify_content": null,
            "justify_items": null,
            "left": null,
            "margin": null,
            "max_height": null,
            "max_width": null,
            "min_height": null,
            "min_width": null,
            "object_fit": null,
            "object_position": null,
            "order": null,
            "overflow": null,
            "overflow_x": null,
            "overflow_y": null,
            "padding": null,
            "right": null,
            "top": null,
            "visibility": null,
            "width": null
          }
        },
        "a8e2f882badb44708db7df1413c67f54": {
          "model_module": "@jupyter-widgets/base",
          "model_name": "LayoutModel",
          "model_module_version": "1.2.0",
          "state": {
            "_model_module": "@jupyter-widgets/base",
            "_model_module_version": "1.2.0",
            "_model_name": "LayoutModel",
            "_view_count": null,
            "_view_module": "@jupyter-widgets/base",
            "_view_module_version": "1.2.0",
            "_view_name": "LayoutView",
            "align_content": null,
            "align_items": null,
            "align_self": null,
            "border": null,
            "bottom": null,
            "display": null,
            "flex": null,
            "flex_flow": null,
            "grid_area": null,
            "grid_auto_columns": null,
            "grid_auto_flow": null,
            "grid_auto_rows": null,
            "grid_column": null,
            "grid_gap": null,
            "grid_row": null,
            "grid_template_areas": null,
            "grid_template_columns": null,
            "grid_template_rows": null,
            "height": null,
            "justify_content": null,
            "justify_items": null,
            "left": null,
            "margin": null,
            "max_height": null,
            "max_width": null,
            "min_height": null,
            "min_width": null,
            "object_fit": null,
            "object_position": null,
            "order": null,
            "overflow": null,
            "overflow_x": null,
            "overflow_y": null,
            "padding": null,
            "right": null,
            "top": null,
            "visibility": null,
            "width": null
          }
        },
        "7de1d8b6997a415eb2ee40fe7d29e07f": {
          "model_module": "@jupyter-widgets/controls",
          "model_name": "DescriptionStyleModel",
          "model_module_version": "1.5.0",
          "state": {
            "_model_module": "@jupyter-widgets/controls",
            "_model_module_version": "1.5.0",
            "_model_name": "DescriptionStyleModel",
            "_view_count": null,
            "_view_module": "@jupyter-widgets/base",
            "_view_module_version": "1.2.0",
            "_view_name": "StyleView",
            "description_width": ""
          }
        },
        "4b74da91a515471d81c40c1c97131614": {
          "model_module": "@jupyter-widgets/base",
          "model_name": "LayoutModel",
          "model_module_version": "1.2.0",
          "state": {
            "_model_module": "@jupyter-widgets/base",
            "_model_module_version": "1.2.0",
            "_model_name": "LayoutModel",
            "_view_count": null,
            "_view_module": "@jupyter-widgets/base",
            "_view_module_version": "1.2.0",
            "_view_name": "LayoutView",
            "align_content": null,
            "align_items": null,
            "align_self": null,
            "border": null,
            "bottom": null,
            "display": null,
            "flex": null,
            "flex_flow": null,
            "grid_area": null,
            "grid_auto_columns": null,
            "grid_auto_flow": null,
            "grid_auto_rows": null,
            "grid_column": null,
            "grid_gap": null,
            "grid_row": null,
            "grid_template_areas": null,
            "grid_template_columns": null,
            "grid_template_rows": null,
            "height": null,
            "justify_content": null,
            "justify_items": null,
            "left": null,
            "margin": null,
            "max_height": null,
            "max_width": null,
            "min_height": null,
            "min_width": null,
            "object_fit": null,
            "object_position": null,
            "order": null,
            "overflow": null,
            "overflow_x": null,
            "overflow_y": null,
            "padding": null,
            "right": null,
            "top": null,
            "visibility": null,
            "width": null
          }
        },
        "7656cc4aabdf4c3f932b940d7a8e274e": {
          "model_module": "@jupyter-widgets/controls",
          "model_name": "DescriptionStyleModel",
          "model_module_version": "1.5.0",
          "state": {
            "_model_module": "@jupyter-widgets/controls",
            "_model_module_version": "1.5.0",
            "_model_name": "DescriptionStyleModel",
            "_view_count": null,
            "_view_module": "@jupyter-widgets/base",
            "_view_module_version": "1.2.0",
            "_view_name": "StyleView",
            "description_width": ""
          }
        },
        "8d31d856c1c4471d97c1b1a2831e13bc": {
          "model_module": "@jupyter-widgets/base",
          "model_name": "LayoutModel",
          "model_module_version": "1.2.0",
          "state": {
            "_model_module": "@jupyter-widgets/base",
            "_model_module_version": "1.2.0",
            "_model_name": "LayoutModel",
            "_view_count": null,
            "_view_module": "@jupyter-widgets/base",
            "_view_module_version": "1.2.0",
            "_view_name": "LayoutView",
            "align_content": null,
            "align_items": null,
            "align_self": null,
            "border": null,
            "bottom": null,
            "display": null,
            "flex": null,
            "flex_flow": null,
            "grid_area": null,
            "grid_auto_columns": null,
            "grid_auto_flow": null,
            "grid_auto_rows": null,
            "grid_column": null,
            "grid_gap": null,
            "grid_row": null,
            "grid_template_areas": null,
            "grid_template_columns": null,
            "grid_template_rows": null,
            "height": null,
            "justify_content": null,
            "justify_items": null,
            "left": null,
            "margin": null,
            "max_height": null,
            "max_width": null,
            "min_height": null,
            "min_width": null,
            "object_fit": null,
            "object_position": null,
            "order": null,
            "overflow": null,
            "overflow_x": null,
            "overflow_y": null,
            "padding": null,
            "right": null,
            "top": null,
            "visibility": null,
            "width": null
          }
        },
        "a90e0b9f3dd24c008220c147f846b18d": {
          "model_module": "@jupyter-widgets/controls",
          "model_name": "ToggleButtonsStyleModel",
          "model_module_version": "1.5.0",
          "state": {
            "_model_module": "@jupyter-widgets/controls",
            "_model_module_version": "1.5.0",
            "_model_name": "ToggleButtonsStyleModel",
            "_view_count": null,
            "_view_module": "@jupyter-widgets/base",
            "_view_module_version": "1.2.0",
            "_view_name": "StyleView",
            "button_width": "",
            "description_width": "",
            "font_weight": ""
          }
        },
        "6c5b1bf52e4242e390adbb0d8d360f93": {
          "model_module": "@jupyter-widgets/base",
          "model_name": "LayoutModel",
          "model_module_version": "1.2.0",
          "state": {
            "_model_module": "@jupyter-widgets/base",
            "_model_module_version": "1.2.0",
            "_model_name": "LayoutModel",
            "_view_count": null,
            "_view_module": "@jupyter-widgets/base",
            "_view_module_version": "1.2.0",
            "_view_name": "LayoutView",
            "align_content": null,
            "align_items": null,
            "align_self": null,
            "border": null,
            "bottom": null,
            "display": null,
            "flex": null,
            "flex_flow": null,
            "grid_area": null,
            "grid_auto_columns": null,
            "grid_auto_flow": null,
            "grid_auto_rows": null,
            "grid_column": null,
            "grid_gap": null,
            "grid_row": null,
            "grid_template_areas": null,
            "grid_template_columns": null,
            "grid_template_rows": null,
            "height": null,
            "justify_content": null,
            "justify_items": null,
            "left": null,
            "margin": null,
            "max_height": null,
            "max_width": null,
            "min_height": null,
            "min_width": null,
            "object_fit": null,
            "object_position": null,
            "order": null,
            "overflow": null,
            "overflow_x": null,
            "overflow_y": null,
            "padding": null,
            "right": null,
            "top": null,
            "visibility": null,
            "width": null
          }
        },
        "97d90995d8c54ec1a1903de761414a05": {
          "model_module": "@jupyter-widgets/controls",
          "model_name": "VBoxModel",
          "model_module_version": "1.5.0",
          "state": {
            "_dom_classes": [
              "widget-interact"
            ],
            "_model_module": "@jupyter-widgets/controls",
            "_model_module_version": "1.5.0",
            "_model_name": "VBoxModel",
            "_view_count": null,
            "_view_module": "@jupyter-widgets/controls",
            "_view_module_version": "1.5.0",
            "_view_name": "VBoxView",
            "box_style": "",
            "children": [
              "IPY_MODEL_0fc134486fa2404a8a24fcc038744caa",
              "IPY_MODEL_6e2b5ca042bf44c189c174bf8b87b8ac",
              "IPY_MODEL_e369e014a4814c63b26b95c1b1ae64e8"
            ],
            "layout": "IPY_MODEL_9150b90e40a444d79a38b1686241a9d7"
          }
        },
        "0fc134486fa2404a8a24fcc038744caa": {
          "model_module": "@jupyter-widgets/controls",
          "model_name": "ToggleButtonsModel",
          "model_module_version": "1.5.0",
          "state": {
            "_dom_classes": [],
            "_model_module": "@jupyter-widgets/controls",
            "_model_module_version": "1.5.0",
            "_model_name": "ToggleButtonsModel",
            "_options_labels": [
              "left",
              "right",
              "up",
              "down"
            ],
            "_view_count": null,
            "_view_module": "@jupyter-widgets/controls",
            "_view_module_version": "1.5.0",
            "_view_name": "ToggleButtonsView",
            "button_style": "",
            "description": "action",
            "description_tooltip": null,
            "disabled": false,
            "icons": [],
            "index": 0,
            "layout": "IPY_MODEL_2f7ab9561e724a808b4e0d6f13928ee1",
            "style": "IPY_MODEL_977f30fb9a2b41c2aeabc2985ab5212c",
            "tooltips": []
          }
        },
        "6e2b5ca042bf44c189c174bf8b87b8ac": {
          "model_module": "@jupyter-widgets/controls",
          "model_name": "IntSliderModel",
          "model_module_version": "1.5.0",
          "state": {
            "_dom_classes": [],
            "_model_module": "@jupyter-widgets/controls",
            "_model_module_version": "1.5.0",
            "_model_name": "IntSliderModel",
            "_view_count": null,
            "_view_module": "@jupyter-widgets/controls",
            "_view_module_version": "1.5.0",
            "_view_name": "IntSliderView",
            "continuous_update": true,
            "description": "numIter",
            "description_tooltip": null,
            "disabled": false,
            "layout": "IPY_MODEL_c12209032924441787bc4bebb4d4fa07",
            "max": 20,
            "min": 0,
            "orientation": "horizontal",
            "readout": true,
            "readout_format": "d",
            "step": 1,
            "style": "IPY_MODEL_2374ba8688884de7abd1666ba70df51f",
            "value": 0
          }
        },
        "e369e014a4814c63b26b95c1b1ae64e8": {
          "model_module": "@jupyter-widgets/output",
          "model_name": "OutputModel",
          "model_module_version": "1.0.0",
          "state": {
            "_dom_classes": [],
            "_model_module": "@jupyter-widgets/output",
            "_model_module_version": "1.0.0",
            "_model_name": "OutputModel",
            "_view_count": null,
            "_view_module": "@jupyter-widgets/output",
            "_view_module_version": "1.0.0",
            "_view_name": "OutputView",
            "layout": "IPY_MODEL_607b71be085c46d386f599d8bd570e6c",
            "msg_id": "",
            "outputs": [
              {
                "output_type": "display_data",
                "data": {
                  "text/plain": "<Figure size 300x300 with 2 Axes>",
                  "image/png": "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\n"
                },
                "metadata": {}
              }
            ]
          }
        },
        "9150b90e40a444d79a38b1686241a9d7": {
          "model_module": "@jupyter-widgets/base",
          "model_name": "LayoutModel",
          "model_module_version": "1.2.0",
          "state": {
            "_model_module": "@jupyter-widgets/base",
            "_model_module_version": "1.2.0",
            "_model_name": "LayoutModel",
            "_view_count": null,
            "_view_module": "@jupyter-widgets/base",
            "_view_module_version": "1.2.0",
            "_view_name": "LayoutView",
            "align_content": null,
            "align_items": null,
            "align_self": null,
            "border": null,
            "bottom": null,
            "display": null,
            "flex": null,
            "flex_flow": null,
            "grid_area": null,
            "grid_auto_columns": null,
            "grid_auto_flow": null,
            "grid_auto_rows": null,
            "grid_column": null,
            "grid_gap": null,
            "grid_row": null,
            "grid_template_areas": null,
            "grid_template_columns": null,
            "grid_template_rows": null,
            "height": null,
            "justify_content": null,
            "justify_items": null,
            "left": null,
            "margin": null,
            "max_height": null,
            "max_width": null,
            "min_height": null,
            "min_width": null,
            "object_fit": null,
            "object_position": null,
            "order": null,
            "overflow": null,
            "overflow_x": null,
            "overflow_y": null,
            "padding": null,
            "right": null,
            "top": null,
            "visibility": null,
            "width": null
          }
        },
        "2f7ab9561e724a808b4e0d6f13928ee1": {
          "model_module": "@jupyter-widgets/base",
          "model_name": "LayoutModel",
          "model_module_version": "1.2.0",
          "state": {
            "_model_module": "@jupyter-widgets/base",
            "_model_module_version": "1.2.0",
            "_model_name": "LayoutModel",
            "_view_count": null,
            "_view_module": "@jupyter-widgets/base",
            "_view_module_version": "1.2.0",
            "_view_name": "LayoutView",
            "align_content": null,
            "align_items": null,
            "align_self": null,
            "border": null,
            "bottom": null,
            "display": null,
            "flex": null,
            "flex_flow": null,
            "grid_area": null,
            "grid_auto_columns": null,
            "grid_auto_flow": null,
            "grid_auto_rows": null,
            "grid_column": null,
            "grid_gap": null,
            "grid_row": null,
            "grid_template_areas": null,
            "grid_template_columns": null,
            "grid_template_rows": null,
            "height": null,
            "justify_content": null,
            "justify_items": null,
            "left": null,
            "margin": null,
            "max_height": null,
            "max_width": null,
            "min_height": null,
            "min_width": null,
            "object_fit": null,
            "object_position": null,
            "order": null,
            "overflow": null,
            "overflow_x": null,
            "overflow_y": null,
            "padding": null,
            "right": null,
            "top": null,
            "visibility": null,
            "width": null
          }
        },
        "977f30fb9a2b41c2aeabc2985ab5212c": {
          "model_module": "@jupyter-widgets/controls",
          "model_name": "ToggleButtonsStyleModel",
          "model_module_version": "1.5.0",
          "state": {
            "_model_module": "@jupyter-widgets/controls",
            "_model_module_version": "1.5.0",
            "_model_name": "ToggleButtonsStyleModel",
            "_view_count": null,
            "_view_module": "@jupyter-widgets/base",
            "_view_module_version": "1.2.0",
            "_view_name": "StyleView",
            "button_width": "",
            "description_width": "",
            "font_weight": ""
          }
        },
        "c12209032924441787bc4bebb4d4fa07": {
          "model_module": "@jupyter-widgets/base",
          "model_name": "LayoutModel",
          "model_module_version": "1.2.0",
          "state": {
            "_model_module": "@jupyter-widgets/base",
            "_model_module_version": "1.2.0",
            "_model_name": "LayoutModel",
            "_view_count": null,
            "_view_module": "@jupyter-widgets/base",
            "_view_module_version": "1.2.0",
            "_view_name": "LayoutView",
            "align_content": null,
            "align_items": null,
            "align_self": null,
            "border": null,
            "bottom": null,
            "display": null,
            "flex": null,
            "flex_flow": null,
            "grid_area": null,
            "grid_auto_columns": null,
            "grid_auto_flow": null,
            "grid_auto_rows": null,
            "grid_column": null,
            "grid_gap": null,
            "grid_row": null,
            "grid_template_areas": null,
            "grid_template_columns": null,
            "grid_template_rows": null,
            "height": null,
            "justify_content": null,
            "justify_items": null,
            "left": null,
            "margin": null,
            "max_height": null,
            "max_width": null,
            "min_height": null,
            "min_width": null,
            "object_fit": null,
            "object_position": null,
            "order": null,
            "overflow": null,
            "overflow_x": null,
            "overflow_y": null,
            "padding": null,
            "right": null,
            "top": null,
            "visibility": null,
            "width": null
          }
        },
        "2374ba8688884de7abd1666ba70df51f": {
          "model_module": "@jupyter-widgets/controls",
          "model_name": "SliderStyleModel",
          "model_module_version": "1.5.0",
          "state": {
            "_model_module": "@jupyter-widgets/controls",
            "_model_module_version": "1.5.0",
            "_model_name": "SliderStyleModel",
            "_view_count": null,
            "_view_module": "@jupyter-widgets/base",
            "_view_module_version": "1.2.0",
            "_view_name": "StyleView",
            "description_width": "",
            "handle_color": null
          }
        },
        "607b71be085c46d386f599d8bd570e6c": {
          "model_module": "@jupyter-widgets/base",
          "model_name": "LayoutModel",
          "model_module_version": "1.2.0",
          "state": {
            "_model_module": "@jupyter-widgets/base",
            "_model_module_version": "1.2.0",
            "_model_name": "LayoutModel",
            "_view_count": null,
            "_view_module": "@jupyter-widgets/base",
            "_view_module_version": "1.2.0",
            "_view_name": "LayoutView",
            "align_content": null,
            "align_items": null,
            "align_self": null,
            "border": null,
            "bottom": null,
            "display": null,
            "flex": null,
            "flex_flow": null,
            "grid_area": null,
            "grid_auto_columns": null,
            "grid_auto_flow": null,
            "grid_auto_rows": null,
            "grid_column": null,
            "grid_gap": null,
            "grid_row": null,
            "grid_template_areas": null,
            "grid_template_columns": null,
            "grid_template_rows": null,
            "height": null,
            "justify_content": null,
            "justify_items": null,
            "left": null,
            "margin": null,
            "max_height": null,
            "max_width": null,
            "min_height": null,
            "min_width": null,
            "object_fit": null,
            "object_position": null,
            "order": null,
            "overflow": null,
            "overflow_x": null,
            "overflow_y": null,
            "padding": null,
            "right": null,
            "top": null,
            "visibility": null,
            "width": null
          }
        }
      }
    }
  },
  "nbformat": 4,
  "nbformat_minor": 0
}