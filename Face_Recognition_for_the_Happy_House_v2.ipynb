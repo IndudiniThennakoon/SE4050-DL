{
  "cells": [
    {
      "cell_type": "markdown",
      "metadata": {
        "id": "LuA-4GIPekX2"
      },
      "source": [
        "# Face Recognition for the Happy House\n",
        "\n",
        "Welcome to the first assignment of week 4! Here you will build a face recognition system. Many of the ideas presented here are from [FaceNet](https://arxiv.org/pdf/1503.03832.pdf). In lecture, we also talked about [DeepFace](https://research.fb.com/wp-content/uploads/2016/11/deepface-closing-the-gap-to-human-level-performance-in-face-verification.pdf).\n",
        "\n",
        "Face recognition problems commonly fall into two categories:\n",
        "\n",
        "- **Face Verification** - \"is this the claimed person?\". For example, at some airports, you can pass through customs by letting a system scan your passport and then verifying that you (the person carrying the passport) are the correct person. A mobile phone that unlocks using your face is also using face verification. This is a 1:1 matching problem.\n",
        "- **Face Recognition** - \"who is this person?\". For example, the video lecture showed a face recognition video (https://www.youtube.com/watch?v=wr4rx0Spihs) of Baidu employees entering the office without needing to otherwise identify themselves. This is a 1:K matching problem.\n",
        "\n",
        "FaceNet learns a neural network that encodes a face image into a vector of 128 numbers. By comparing two such vectors, you can then determine if two pictures are of the same person.\n",
        "    \n",
        "**In this assignment, you will:**\n",
        "- Implement the triplet loss function\n",
        "- Use a pretrained model to map face images into 128-dimensional encodings\n",
        "- Use these encodings to perform face verification and face recognition\n",
        "\n",
        "In this exercise, we will be using a pre-trained model which represents ConvNet activations using a \"channels first\" convention, as opposed to the \"channels last\" convention used in lecture and previous programming assignments. In other words, a batch of images will be of shape $(m, n_C, n_H, n_W)$ instead of $(m, n_H, n_W, n_C)$. Both of these conventions have a reasonable amount of traction among open-source implementations; there isn't a uniform standard yet within the deep learning community.\n",
        "\n",
        "Let's load the required packages.\n"
      ]
    },
    {
      "cell_type": "code",
      "source": [
        "pip install tensorflow"
      ],
      "metadata": {
        "colab": {
          "base_uri": "https://localhost:8080/"
        },
        "id": "LypEuv8mQ1AR",
        "outputId": "6ca65607-919b-4a45-ee95-4a199132856c"
      },
      "execution_count": null,
      "outputs": [
        {
          "output_type": "stream",
          "name": "stdout",
          "text": [
            "Requirement already satisfied: tensorflow in /usr/local/lib/python3.10/dist-packages (2.17.0)\n",
            "Requirement already satisfied: absl-py>=1.0.0 in /usr/local/lib/python3.10/dist-packages (from tensorflow) (1.4.0)\n",
            "Requirement already satisfied: astunparse>=1.6.0 in /usr/local/lib/python3.10/dist-packages (from tensorflow) (1.6.3)\n",
            "Requirement already satisfied: flatbuffers>=24.3.25 in /usr/local/lib/python3.10/dist-packages (from tensorflow) (24.3.25)\n",
            "Requirement already satisfied: gast!=0.5.0,!=0.5.1,!=0.5.2,>=0.2.1 in /usr/local/lib/python3.10/dist-packages (from tensorflow) (0.6.0)\n",
            "Requirement already satisfied: google-pasta>=0.1.1 in /usr/local/lib/python3.10/dist-packages (from tensorflow) (0.2.0)\n",
            "Requirement already satisfied: h5py>=3.10.0 in /usr/local/lib/python3.10/dist-packages (from tensorflow) (3.11.0)\n",
            "Requirement already satisfied: libclang>=13.0.0 in /usr/local/lib/python3.10/dist-packages (from tensorflow) (18.1.1)\n",
            "Requirement already satisfied: ml-dtypes<0.5.0,>=0.3.1 in /usr/local/lib/python3.10/dist-packages (from tensorflow) (0.4.0)\n",
            "Requirement already satisfied: opt-einsum>=2.3.2 in /usr/local/lib/python3.10/dist-packages (from tensorflow) (3.3.0)\n",
            "Requirement already satisfied: packaging in /usr/local/lib/python3.10/dist-packages (from tensorflow) (24.1)\n",
            "Requirement already satisfied: protobuf!=4.21.0,!=4.21.1,!=4.21.2,!=4.21.3,!=4.21.4,!=4.21.5,<5.0.0dev,>=3.20.3 in /usr/local/lib/python3.10/dist-packages (from tensorflow) (3.20.3)\n",
            "Requirement already satisfied: requests<3,>=2.21.0 in /usr/local/lib/python3.10/dist-packages (from tensorflow) (2.32.3)\n",
            "Requirement already satisfied: setuptools in /usr/local/lib/python3.10/dist-packages (from tensorflow) (71.0.4)\n",
            "Requirement already satisfied: six>=1.12.0 in /usr/local/lib/python3.10/dist-packages (from tensorflow) (1.16.0)\n",
            "Requirement already satisfied: termcolor>=1.1.0 in /usr/local/lib/python3.10/dist-packages (from tensorflow) (2.4.0)\n",
            "Requirement already satisfied: typing-extensions>=3.6.6 in /usr/local/lib/python3.10/dist-packages (from tensorflow) (4.12.2)\n",
            "Requirement already satisfied: wrapt>=1.11.0 in /usr/local/lib/python3.10/dist-packages (from tensorflow) (1.16.0)\n",
            "Requirement already satisfied: grpcio<2.0,>=1.24.3 in /usr/local/lib/python3.10/dist-packages (from tensorflow) (1.64.1)\n",
            "Requirement already satisfied: tensorboard<2.18,>=2.17 in /usr/local/lib/python3.10/dist-packages (from tensorflow) (2.17.0)\n",
            "Requirement already satisfied: keras>=3.2.0 in /usr/local/lib/python3.10/dist-packages (from tensorflow) (3.4.1)\n",
            "Requirement already satisfied: tensorflow-io-gcs-filesystem>=0.23.1 in /usr/local/lib/python3.10/dist-packages (from tensorflow) (0.37.1)\n",
            "Requirement already satisfied: numpy<2.0.0,>=1.23.5 in /usr/local/lib/python3.10/dist-packages (from tensorflow) (1.26.4)\n",
            "Requirement already satisfied: wheel<1.0,>=0.23.0 in /usr/local/lib/python3.10/dist-packages (from astunparse>=1.6.0->tensorflow) (0.44.0)\n",
            "Requirement already satisfied: rich in /usr/local/lib/python3.10/dist-packages (from keras>=3.2.0->tensorflow) (13.7.1)\n",
            "Requirement already satisfied: namex in /usr/local/lib/python3.10/dist-packages (from keras>=3.2.0->tensorflow) (0.0.8)\n",
            "Requirement already satisfied: optree in /usr/local/lib/python3.10/dist-packages (from keras>=3.2.0->tensorflow) (0.12.1)\n",
            "Requirement already satisfied: charset-normalizer<4,>=2 in /usr/local/lib/python3.10/dist-packages (from requests<3,>=2.21.0->tensorflow) (3.3.2)\n",
            "Requirement already satisfied: idna<4,>=2.5 in /usr/local/lib/python3.10/dist-packages (from requests<3,>=2.21.0->tensorflow) (3.7)\n",
            "Requirement already satisfied: urllib3<3,>=1.21.1 in /usr/local/lib/python3.10/dist-packages (from requests<3,>=2.21.0->tensorflow) (2.0.7)\n",
            "Requirement already satisfied: certifi>=2017.4.17 in /usr/local/lib/python3.10/dist-packages (from requests<3,>=2.21.0->tensorflow) (2024.7.4)\n",
            "Requirement already satisfied: markdown>=2.6.8 in /usr/local/lib/python3.10/dist-packages (from tensorboard<2.18,>=2.17->tensorflow) (3.6)\n",
            "Requirement already satisfied: tensorboard-data-server<0.8.0,>=0.7.0 in /usr/local/lib/python3.10/dist-packages (from tensorboard<2.18,>=2.17->tensorflow) (0.7.2)\n",
            "Requirement already satisfied: werkzeug>=1.0.1 in /usr/local/lib/python3.10/dist-packages (from tensorboard<2.18,>=2.17->tensorflow) (3.0.3)\n",
            "Requirement already satisfied: MarkupSafe>=2.1.1 in /usr/local/lib/python3.10/dist-packages (from werkzeug>=1.0.1->tensorboard<2.18,>=2.17->tensorflow) (2.1.5)\n",
            "Requirement already satisfied: markdown-it-py>=2.2.0 in /usr/local/lib/python3.10/dist-packages (from rich->keras>=3.2.0->tensorflow) (3.0.0)\n",
            "Requirement already satisfied: pygments<3.0.0,>=2.13.0 in /usr/local/lib/python3.10/dist-packages (from rich->keras>=3.2.0->tensorflow) (2.16.1)\n",
            "Requirement already satisfied: mdurl~=0.1 in /usr/local/lib/python3.10/dist-packages (from markdown-it-py>=2.2.0->rich->keras>=3.2.0->tensorflow) (0.1.2)\n"
          ]
        }
      ]
    },
    {
      "cell_type": "code",
      "source": [
        "import os\n",
        "\n",
        "# Create the images directory\n",
        "os.makedirs('/content/images', exist_ok=True)"
      ],
      "metadata": {
        "id": "Dq_lfLlfH3mO"
      },
      "execution_count": 1,
      "outputs": []
    },
    {
      "cell_type": "code",
      "source": [
        "from google.colab import drive\n",
        "drive.mount('/content/drive')"
      ],
      "metadata": {
        "id": "Q8OVHvN786GZ",
        "colab": {
          "base_uri": "https://localhost:8080/"
        },
        "outputId": "0ea51d3b-4793-4bea-b118-1dfb20f3d7f8"
      },
      "execution_count": 3,
      "outputs": [
        {
          "output_type": "stream",
          "name": "stdout",
          "text": [
            "Mounted at /content/drive\n"
          ]
        }
      ]
    },
    {
      "cell_type": "code",
      "execution_count": 4,
      "metadata": {
        "colab": {
          "base_uri": "https://localhost:8080/"
        },
        "id": "-DFr5cHPyBKq",
        "outputId": "3b9e48d7-d3ab-492b-b07f-94af537111e7"
      },
      "outputs": [
        {
          "output_type": "stream",
          "name": "stdout",
          "text": [
            "Colab only includes TensorFlow 2.x; %tensorflow_version has no effect.\n",
            "Archive:  weights.zip\n",
            "   creating: weights/\n",
            "  inflating: weights/bn1_b.csv       \n",
            "  inflating: weights/bn1_m.csv       \n",
            "  inflating: weights/bn1_v.csv       \n",
            "  inflating: weights/bn1_w.csv       \n",
            "  inflating: weights/bn2_b.csv       \n",
            "  inflating: weights/bn2_m.csv       \n",
            "  inflating: weights/bn2_v.csv       \n",
            "  inflating: weights/bn2_w.csv       \n",
            "  inflating: weights/bn3_b.csv       \n",
            "  inflating: weights/bn3_m.csv       \n",
            "  inflating: weights/bn3_v.csv       \n",
            "  inflating: weights/bn3_w.csv       \n",
            "  inflating: weights/conv1_b.csv     \n",
            "  inflating: weights/conv1_w.csv     \n",
            "  inflating: weights/conv2_b.csv     \n",
            "  inflating: weights/conv2_w.csv     \n",
            "  inflating: weights/conv3_b.csv     \n",
            "  inflating: weights/conv3_w.csv     \n",
            "  inflating: weights/dense_b.csv     \n",
            "  inflating: weights/dense_w.csv     \n",
            "  inflating: weights/inception_3a_1x1_bn_b.csv  \n",
            "  inflating: weights/inception_3a_1x1_bn_m.csv  \n",
            "  inflating: weights/inception_3a_1x1_bn_v.csv  \n",
            "  inflating: weights/inception_3a_1x1_bn_w.csv  \n",
            "  inflating: weights/inception_3a_1x1_conv_b.csv  \n",
            "  inflating: weights/inception_3a_1x1_conv_w.csv  \n",
            "  inflating: weights/inception_3a_3x3_bn1_b.csv  \n",
            "  inflating: weights/inception_3a_3x3_bn1_m.csv  \n",
            "  inflating: weights/inception_3a_3x3_bn1_v.csv  \n",
            "  inflating: weights/inception_3a_3x3_bn1_w.csv  \n",
            "  inflating: weights/inception_3a_3x3_bn2_b.csv  \n",
            "  inflating: weights/inception_3a_3x3_bn2_m.csv  \n",
            "  inflating: weights/inception_3a_3x3_bn2_v.csv  \n",
            "  inflating: weights/inception_3a_3x3_bn2_w.csv  \n",
            "  inflating: weights/inception_3a_3x3_conv1_b.csv  \n",
            "  inflating: weights/inception_3a_3x3_conv1_w.csv  \n",
            "  inflating: weights/inception_3a_3x3_conv2_b.csv  \n",
            "  inflating: weights/inception_3a_3x3_conv2_w.csv  \n",
            "  inflating: weights/inception_3a_5x5_bn1_b.csv  \n",
            "  inflating: weights/inception_3a_5x5_bn1_m.csv  \n",
            "  inflating: weights/inception_3a_5x5_bn1_v.csv  \n",
            "  inflating: weights/inception_3a_5x5_bn1_w.csv  \n",
            "  inflating: weights/inception_3a_5x5_bn2_b.csv  \n",
            "  inflating: weights/inception_3a_5x5_bn2_m.csv  \n",
            "  inflating: weights/inception_3a_5x5_bn2_v.csv  \n",
            "  inflating: weights/inception_3a_5x5_bn2_w.csv  \n",
            "  inflating: weights/inception_3a_5x5_conv1_b.csv  \n",
            "  inflating: weights/inception_3a_5x5_conv1_w.csv  \n",
            "  inflating: weights/inception_3a_5x5_conv2_b.csv  \n",
            "  inflating: weights/inception_3a_5x5_conv2_w.csv  \n",
            "  inflating: weights/inception_3a_pool_bn_b.csv  \n",
            "  inflating: weights/inception_3a_pool_bn_m.csv  \n",
            "  inflating: weights/inception_3a_pool_bn_v.csv  \n",
            "  inflating: weights/inception_3a_pool_bn_w.csv  \n",
            "  inflating: weights/inception_3a_pool_conv_b.csv  \n",
            "  inflating: weights/inception_3a_pool_conv_w.csv  \n",
            "  inflating: weights/inception_3b_1x1_bn_b.csv  \n",
            "  inflating: weights/inception_3b_1x1_bn_m.csv  \n",
            "  inflating: weights/inception_3b_1x1_bn_v.csv  \n",
            "  inflating: weights/inception_3b_1x1_bn_w.csv  \n",
            "  inflating: weights/inception_3b_1x1_conv_b.csv  \n",
            "  inflating: weights/inception_3b_1x1_conv_w.csv  \n",
            "  inflating: weights/inception_3b_3x3_bn1_b.csv  \n",
            "  inflating: weights/inception_3b_3x3_bn1_m.csv  \n",
            "  inflating: weights/inception_3b_3x3_bn1_v.csv  \n",
            "  inflating: weights/inception_3b_3x3_bn1_w.csv  \n",
            "  inflating: weights/inception_3b_3x3_bn2_b.csv  \n",
            "  inflating: weights/inception_3b_3x3_bn2_m.csv  \n",
            "  inflating: weights/inception_3b_3x3_bn2_v.csv  \n",
            "  inflating: weights/inception_3b_3x3_bn2_w.csv  \n",
            "  inflating: weights/inception_3b_3x3_conv1_b.csv  \n",
            "  inflating: weights/inception_3b_3x3_conv1_w.csv  \n",
            "  inflating: weights/inception_3b_3x3_conv2_b.csv  \n",
            "  inflating: weights/inception_3b_3x3_conv2_w.csv  \n",
            "  inflating: weights/inception_3b_5x5_bn1_b.csv  \n",
            "  inflating: weights/inception_3b_5x5_bn1_m.csv  \n",
            "  inflating: weights/inception_3b_5x5_bn1_v.csv  \n",
            "  inflating: weights/inception_3b_5x5_bn1_w.csv  \n",
            "  inflating: weights/inception_3b_5x5_bn2_b.csv  \n",
            "  inflating: weights/inception_3b_5x5_bn2_m.csv  \n",
            "  inflating: weights/inception_3b_5x5_bn2_v.csv  \n",
            "  inflating: weights/inception_3b_5x5_bn2_w.csv  \n",
            "  inflating: weights/inception_3b_5x5_conv1_b.csv  \n",
            "  inflating: weights/inception_3b_5x5_conv1_w.csv  \n",
            "  inflating: weights/inception_3b_5x5_conv2_b.csv  \n",
            "  inflating: weights/inception_3b_5x5_conv2_w.csv  \n",
            "  inflating: weights/inception_3b_pool_bn_b.csv  \n",
            "  inflating: weights/inception_3b_pool_bn_m.csv  \n",
            "  inflating: weights/inception_3b_pool_bn_v.csv  \n",
            "  inflating: weights/inception_3b_pool_bn_w.csv  \n",
            "  inflating: weights/inception_3b_pool_conv_b.csv  \n",
            "  inflating: weights/inception_3b_pool_conv_w.csv  \n",
            "  inflating: weights/inception_3c_3x3_bn1_b.csv  \n",
            "  inflating: weights/inception_3c_3x3_bn1_m.csv  \n",
            "  inflating: weights/inception_3c_3x3_bn1_v.csv  \n",
            "  inflating: weights/inception_3c_3x3_bn1_w.csv  \n",
            "  inflating: weights/inception_3c_3x3_bn2_b.csv  \n",
            "  inflating: weights/inception_3c_3x3_bn2_m.csv  \n",
            "  inflating: weights/inception_3c_3x3_bn2_v.csv  \n",
            "  inflating: weights/inception_3c_3x3_bn2_w.csv  \n",
            "  inflating: weights/inception_3c_3x3_conv1_b.csv  \n",
            "  inflating: weights/inception_3c_3x3_conv1_w.csv  \n",
            "  inflating: weights/inception_3c_3x3_conv2_b.csv  \n",
            "  inflating: weights/inception_3c_3x3_conv2_w.csv  \n",
            "  inflating: weights/inception_3c_5x5_bn1_b.csv  \n",
            "  inflating: weights/inception_3c_5x5_bn1_m.csv  \n",
            "  inflating: weights/inception_3c_5x5_bn1_v.csv  \n",
            "  inflating: weights/inception_3c_5x5_bn1_w.csv  \n",
            "  inflating: weights/inception_3c_5x5_bn2_b.csv  \n",
            "  inflating: weights/inception_3c_5x5_bn2_m.csv  \n",
            "  inflating: weights/inception_3c_5x5_bn2_v.csv  \n",
            "  inflating: weights/inception_3c_5x5_bn2_w.csv  \n",
            "  inflating: weights/inception_3c_5x5_conv1_b.csv  \n",
            "  inflating: weights/inception_3c_5x5_conv1_w.csv  \n",
            "  inflating: weights/inception_3c_5x5_conv2_b.csv  \n",
            "  inflating: weights/inception_3c_5x5_conv2_w.csv  \n",
            "  inflating: weights/inception_4a_1x1_bn_b.csv  \n",
            "  inflating: weights/inception_4a_1x1_bn_m.csv  \n",
            "  inflating: weights/inception_4a_1x1_bn_v.csv  \n",
            "  inflating: weights/inception_4a_1x1_bn_w.csv  \n",
            "  inflating: weights/inception_4a_1x1_conv_b.csv  \n",
            "  inflating: weights/inception_4a_1x1_conv_w.csv  \n",
            "  inflating: weights/inception_4a_3x3_bn1_b.csv  \n",
            "  inflating: weights/inception_4a_3x3_bn1_m.csv  \n",
            "  inflating: weights/inception_4a_3x3_bn1_v.csv  \n",
            "  inflating: weights/inception_4a_3x3_bn1_w.csv  \n",
            "  inflating: weights/inception_4a_3x3_bn2_b.csv  \n",
            "  inflating: weights/inception_4a_3x3_bn2_m.csv  \n",
            "  inflating: weights/inception_4a_3x3_bn2_v.csv  \n",
            "  inflating: weights/inception_4a_3x3_bn2_w.csv  \n",
            "  inflating: weights/inception_4a_3x3_conv1_b.csv  \n",
            "  inflating: weights/inception_4a_3x3_conv1_w.csv  \n",
            "  inflating: weights/inception_4a_3x3_conv2_b.csv  \n",
            "  inflating: weights/inception_4a_3x3_conv2_w.csv  \n",
            "  inflating: weights/inception_4a_5x5_bn1_b.csv  \n",
            "  inflating: weights/inception_4a_5x5_bn1_m.csv  \n",
            "  inflating: weights/inception_4a_5x5_bn1_v.csv  \n",
            "  inflating: weights/inception_4a_5x5_bn1_w.csv  \n",
            "  inflating: weights/inception_4a_5x5_bn2_b.csv  \n",
            "  inflating: weights/inception_4a_5x5_bn2_m.csv  \n",
            "  inflating: weights/inception_4a_5x5_bn2_v.csv  \n",
            "  inflating: weights/inception_4a_5x5_bn2_w.csv  \n",
            "  inflating: weights/inception_4a_5x5_conv1_b.csv  \n",
            "  inflating: weights/inception_4a_5x5_conv1_w.csv  \n",
            "  inflating: weights/inception_4a_5x5_conv2_b.csv  \n",
            "  inflating: weights/inception_4a_5x5_conv2_w.csv  \n",
            "  inflating: weights/inception_4a_pool_bn_b.csv  \n",
            "  inflating: weights/inception_4a_pool_bn_m.csv  \n",
            "  inflating: weights/inception_4a_pool_bn_v.csv  \n",
            "  inflating: weights/inception_4a_pool_bn_w.csv  \n",
            "  inflating: weights/inception_4a_pool_conv_b.csv  \n",
            "  inflating: weights/inception_4a_pool_conv_w.csv  \n",
            "  inflating: weights/inception_4e_3x3_bn1_b.csv  \n",
            "  inflating: weights/inception_4e_3x3_bn1_m.csv  \n",
            "  inflating: weights/inception_4e_3x3_bn1_v.csv  \n",
            "  inflating: weights/inception_4e_3x3_bn1_w.csv  \n",
            "  inflating: weights/inception_4e_3x3_bn2_b.csv  \n",
            "  inflating: weights/inception_4e_3x3_bn2_m.csv  \n",
            "  inflating: weights/inception_4e_3x3_bn2_v.csv  \n",
            "  inflating: weights/inception_4e_3x3_bn2_w.csv  \n",
            "  inflating: weights/inception_4e_3x3_conv1_b.csv  \n",
            "  inflating: weights/inception_4e_3x3_conv1_w.csv  \n",
            "  inflating: weights/inception_4e_3x3_conv2_b.csv  \n",
            "  inflating: weights/inception_4e_3x3_conv2_w.csv  \n",
            "  inflating: weights/inception_4e_5x5_bn1_b.csv  \n",
            "  inflating: weights/inception_4e_5x5_bn1_m.csv  \n",
            "  inflating: weights/inception_4e_5x5_bn1_v.csv  \n",
            "  inflating: weights/inception_4e_5x5_bn1_w.csv  \n",
            "  inflating: weights/inception_4e_5x5_bn2_b.csv  \n",
            "  inflating: weights/inception_4e_5x5_bn2_m.csv  \n",
            "  inflating: weights/inception_4e_5x5_bn2_v.csv  \n",
            "  inflating: weights/inception_4e_5x5_bn2_w.csv  \n",
            "  inflating: weights/inception_4e_5x5_conv1_b.csv  \n",
            "  inflating: weights/inception_4e_5x5_conv1_w.csv  \n",
            "  inflating: weights/inception_4e_5x5_conv2_b.csv  \n",
            "  inflating: weights/inception_4e_5x5_conv2_w.csv  \n",
            "  inflating: weights/inception_5a_1x1_bn_b.csv  \n",
            "  inflating: weights/inception_5a_1x1_bn_m.csv  \n",
            "  inflating: weights/inception_5a_1x1_bn_v.csv  \n",
            "  inflating: weights/inception_5a_1x1_bn_w.csv  \n",
            "  inflating: weights/inception_5a_1x1_conv_b.csv  \n",
            "  inflating: weights/inception_5a_1x1_conv_w.csv  \n",
            "  inflating: weights/inception_5a_3x3_bn1_b.csv  \n",
            "  inflating: weights/inception_5a_3x3_bn1_m.csv  \n",
            "  inflating: weights/inception_5a_3x3_bn1_v.csv  \n",
            "  inflating: weights/inception_5a_3x3_bn1_w.csv  \n",
            "  inflating: weights/inception_5a_3x3_bn2_b.csv  \n",
            "  inflating: weights/inception_5a_3x3_bn2_m.csv  \n",
            "  inflating: weights/inception_5a_3x3_bn2_v.csv  \n",
            "  inflating: weights/inception_5a_3x3_bn2_w.csv  \n",
            "  inflating: weights/inception_5a_3x3_conv1_b.csv  \n",
            "  inflating: weights/inception_5a_3x3_conv1_w.csv  \n",
            "  inflating: weights/inception_5a_3x3_conv2_b.csv  \n",
            "  inflating: weights/inception_5a_3x3_conv2_m.csv  \n",
            "  inflating: weights/inception_5a_3x3_conv2_v.csv  \n",
            "  inflating: weights/inception_5a_3x3_conv2_w.csv  \n",
            "  inflating: weights/inception_5a_pool_bn_b.csv  \n",
            "  inflating: weights/inception_5a_pool_bn_m.csv  \n",
            "  inflating: weights/inception_5a_pool_bn_v.csv  \n",
            "  inflating: weights/inception_5a_pool_bn_w.csv  \n",
            "  inflating: weights/inception_5a_pool_conv_b.csv  \n",
            "  inflating: weights/inception_5a_pool_conv_w.csv  \n",
            "  inflating: weights/inception_5b_1x1_bn_b.csv  \n",
            "  inflating: weights/inception_5b_1x1_bn_m.csv  \n",
            "  inflating: weights/inception_5b_1x1_bn_v.csv  \n",
            "  inflating: weights/inception_5b_1x1_bn_w.csv  \n",
            "  inflating: weights/inception_5b_1x1_conv_b.csv  \n",
            "  inflating: weights/inception_5b_1x1_conv_w.csv  \n",
            "  inflating: weights/inception_5b_3x3_bn1_b.csv  \n",
            "  inflating: weights/inception_5b_3x3_bn1_m.csv  \n",
            "  inflating: weights/inception_5b_3x3_bn1_v.csv  \n",
            "  inflating: weights/inception_5b_3x3_bn1_w.csv  \n",
            "  inflating: weights/inception_5b_3x3_bn2_b.csv  \n",
            "  inflating: weights/inception_5b_3x3_bn2_m.csv  \n",
            "  inflating: weights/inception_5b_3x3_bn2_v.csv  \n",
            "  inflating: weights/inception_5b_3x3_bn2_w.csv  \n",
            "  inflating: weights/inception_5b_3x3_conv1_b.csv  \n",
            "  inflating: weights/inception_5b_3x3_conv1_w.csv  \n",
            "  inflating: weights/inception_5b_3x3_conv2_b.csv  \n",
            "  inflating: weights/inception_5b_3x3_conv2_w.csv  \n",
            "  inflating: weights/inception_5b_pool_bn_b.csv  \n",
            "  inflating: weights/inception_5b_pool_bn_m.csv  \n",
            "  inflating: weights/inception_5b_pool_bn_v.csv  \n",
            "  inflating: weights/inception_5b_pool_bn_w.csv  \n",
            "  inflating: weights/inception_5b_pool_conv_b.csv  \n",
            "  inflating: weights/inception_5b_pool_conv_w.csv  \n"
          ]
        }
      ],
      "source": [
        "%tensorflow_version 2.x\n",
        "\n",
        "!unzip weights.zip\n"
      ]
    },
    {
      "cell_type": "code",
      "execution_count": null,
      "metadata": {
        "id": "h06smg0Ef9RV"
      },
      "outputs": [],
      "source": [
        "#!pip install fr_utils"
      ]
    },
    {
      "cell_type": "code",
      "source": [
        "from keras.models import Sequential\n",
        "from keras.layers import Conv2D, ZeroPadding2D, Activation, Input, concatenate\n",
        "from keras.models import Model\n",
        "# from keras.layers.normalization import BatchNormalization\n",
        "from tensorflow.keras.layers import BatchNormalization\n",
        "from tensorflow.keras.layers import MaxPooling2D, AveragePooling2D\n",
        "# from keras.layers.merge import Concatenate\n",
        "from tensorflow.keras.layers import concatenate\n",
        "from tensorflow.keras.layers import Lambda, Flatten, Dense\n",
        "#from tensorflow.keras.initializers import glorot_uniform\n",
        "from keras.initializers import glorot_uniform\n",
        "# from keras.engine.topology import Layer\n",
        "from tensorflow.keras.layers import Layer, InputSpec\n",
        "from keras import backend as K\n",
        "K.set_image_data_format('channels_first')\n",
        "import cv2\n",
        "import os\n",
        "import numpy as np\n",
        "from numpy import genfromtxt\n",
        "import pandas as pd\n",
        "import tensorflow as tf\n",
        "from fr_utils import *\n",
        "from inception_blocks_v2 import *\n",
        "\n",
        "%matplotlib inline\n",
        "%load_ext autoreload\n",
        "%autoreload 2\n",
        "\n",
        "import tensorflow\n",
        "print(tensorflow.__version__)\n",
        "\n",
        "# np.set_printoptions(threshold=np.nan)"
      ],
      "metadata": {
        "colab": {
          "base_uri": "https://localhost:8080/"
        },
        "id": "yDHZsLxbTiNj",
        "outputId": "1af86beb-3965-4dae-9423-c15deb5e6874"
      },
      "execution_count": 5,
      "outputs": [
        {
          "output_type": "stream",
          "name": "stdout",
          "text": [
            "2.17.0\n"
          ]
        }
      ]
    },
    {
      "cell_type": "markdown",
      "metadata": {
        "id": "S_AfxbFdekYA"
      },
      "source": [
        "## 0 - Naive Face Verification\n",
        "\n",
        "In Face Verification, you're given two images and you have to tell if they are of the same person. The simplest way to do this is to compare the two images pixel-by-pixel. If the distance between the raw images are less than a chosen threshold, it may be the same person!\n",
        "\n",
        "<img src=\"//github.com/enggen/Deep-Learning-Coursera/raw/1407e19c98833d2686a0748db26b594f3102301e/Convolutional Neural Networks/Week4/Face Recognition/images/pixel_comparison.png\" style=\"width:380px;height:150px;\">\n",
        "<caption><center> <u> <font color='purple'> </u></center></caption>"
      ]
    },
    {
      "cell_type": "markdown",
      "metadata": {
        "collapsed": true,
        "id": "PGNZGVAlekYB"
      },
      "source": [
        "Of course, this algorithm performs really poorly, since the pixel values change dramatically due to variations in lighting, orientation of the person's face, even minor changes in head position, and so on.\n",
        "\n",
        "You'll see that rather than using the raw image, you can learn an encoding $f(img)$ so that element-wise comparisons of this encoding gives more accurate judgements as to whether two pictures are of the same person."
      ]
    },
    {
      "cell_type": "markdown",
      "metadata": {
        "id": "b67v8ii_ekYB"
      },
      "source": [
        "## 1 - Encoding face images into a 128-dimensional vector\n",
        "\n",
        "### 1.1 - Using an ConvNet  to compute encodings\n",
        "\n",
        "The FaceNet model takes a lot of data and a long time to train. So following common practice in applied deep learning settings, let's just load weights that someone else has already trained. The network architecture follows the Inception model from [Szegedy *et al.*](https://arxiv.org/abs/1409.4842). We have provided an inception network implementation. You can look in the file `inception_blocks.py` to see how it is implemented (do so by going to \"File->Open...\" at the top of the Jupyter notebook).  \n"
      ]
    },
    {
      "cell_type": "markdown",
      "metadata": {
        "id": "Pwk8QR0iekYC"
      },
      "source": [
        "The key things you need to know are:\n",
        "\n",
        "- This network uses 96x96 dimensional RGB images as its input. Specifically, inputs a face image (or batch of $m$ face images) as a tensor of shape $(m, n_C, n_H, n_W) = (m, 3, 96, 96)$\n",
        "- It outputs a matrix of shape $(m, 128)$ that encodes each input face image into a 128-dimensional vector\n",
        "\n",
        "Run the cell below to create the model for face images."
      ]
    },
    {
      "cell_type": "code",
      "execution_count": 6,
      "metadata": {
        "id": "rgh0TInJekYD"
      },
      "outputs": [],
      "source": [
        "FRmodel = faceRecoModel(input_shape=(3, 96, 96))"
      ]
    },
    {
      "cell_type": "code",
      "execution_count": 7,
      "metadata": {
        "colab": {
          "base_uri": "https://localhost:8080/"
        },
        "id": "QlKMPb6nekYG",
        "outputId": "05de5904-73e8-4d0e-cb4c-b6e467aa00ca"
      },
      "outputs": [
        {
          "output_type": "stream",
          "name": "stdout",
          "text": [
            "Total Params: 3743280\n"
          ]
        }
      ],
      "source": [
        "print(\"Total Params:\", FRmodel.count_params())"
      ]
    },
    {
      "cell_type": "markdown",
      "metadata": {
        "id": "U6g2zkTvekYJ"
      },
      "source": [
        "** Expected Output **\n",
        "<table>\n",
        "<center>\n",
        "Total Params: 3743280\n",
        "</center>\n",
        "</table>\n"
      ]
    },
    {
      "cell_type": "markdown",
      "metadata": {
        "id": "oue9ViX-ekYK"
      },
      "source": [
        "By using a 128-neuron fully connected layer as its last layer, the model ensures that the output is an encoding vector of size 128. You then use the encodings the compare two face images as follows:\n",
        "\n",
        "<img src=\"//github.com/enggen/Deep-Learning-Coursera/raw/1407e19c98833d2686a0748db26b594f3102301e/Convolutional Neural Networks/Week4/Face Recognition/images/distance_kiank.png\" style=\"width:680px;height:250px;\">\n",
        "<caption><center> <u> <font color='purple'>  <br> </u> <font color='purple'> By computing a distance between two encodings and thresholding, you can determine if the two pictures represent the same person</center></caption>\n",
        "\n",
        "So, an encoding is a good one if:\n",
        "- The encodings of two images of the same person are quite similar to each other\n",
        "- The encodings of two images of different persons are very different\n",
        "\n",
        "The triplet loss function formalizes this, and tries to \"push\" the encodings of two images of the same person (Anchor and Positive) closer together, while \"pulling\" the encodings of two images of different persons (Anchor, Negative) further apart.\n",
        "\n",
        "<img src=\"//github.com/enggen/Deep-Learning-Coursera/raw/1407e19c98833d2686a0748db26b594f3102301e/Convolutional Neural Networks/Week4/Face Recognition/images/triplet_comparison.png\" style=\"width:280px;height:150px;\">\n",
        "<br>\n",
        "<caption><center> <u> <font color='purple'> <br> </u> <font color='purple'> In the next part, we will call the pictures from left to right: Anchor (A), Positive (P), Negative (N)  </center></caption>"
      ]
    },
    {
      "cell_type": "markdown",
      "metadata": {
        "id": "befDNuayekYL"
      },
      "source": [
        "\n",
        "\n",
        "### 1.2 - The Triplet Loss\n",
        "\n",
        "For an image $x$, we denote its encoding $f(x)$, where $f$ is the function computed by the neural network.\n",
        "\n",
        "<img src=\"//github.com/enggen/Deep-Learning-Coursera/raw/1407e19c98833d2686a0748db26b594f3102301e/Convolutional Neural Networks/Week4/Face Recognition/images/f_x.png\" style=\"width:380px;height:150px;\">\n",
        "\n",
        "<!--\n",
        "We will also add a normalization step at the end of our model so that $\\mid \\mid f(x) \\mid \\mid_2 = 1$ (means the vector of encoding should be of norm 1).\n",
        "!-->\n",
        "\n",
        "Training will use triplets of images $(A, P, N)$:  \n",
        "\n",
        "- A is an \"Anchor\" image--a picture of a person.\n",
        "- P is a \"Positive\" image--a picture of the same person as the Anchor image.\n",
        "- N is a \"Negative\" image--a picture of a different person than the Anchor image.\n",
        "\n",
        "These triplets are picked from our training dataset. We will write $(A^{(i)}, P^{(i)}, N^{(i)})$ to denote the $i$-th training example.\n",
        "\n",
        "You'd like to make sure that an image $A^{(i)}$ of an individual is closer to the Positive $P^{(i)}$ than to the Negative image $N^{(i)}$) by at least a margin $\\alpha$:\n",
        "\n",
        "$$\\mid \\mid f(A^{(i)}) - f(P^{(i)}) \\mid \\mid_2^2 + \\alpha < \\mid \\mid f(A^{(i)}) - f(N^{(i)}) \\mid \\mid_2^2$$\n",
        "\n",
        "You would thus like to minimize the following \"triplet cost\":\n",
        "\n",
        "$$\\mathcal{J} = \\sum^{N}_{i=1} \\large[ \\small \\underbrace{\\mid \\mid f(A^{(i)}) - f(P^{(i)}) \\mid \\mid_2^2}_\\text{(1)} - \\underbrace{\\mid \\mid f(A^{(i)}) - f(N^{(i)}) \\mid \\mid_2^2}_\\text{(2)} + \\alpha \\large ] \\small_+ \\tag{3}$$\n",
        "\n",
        "Here, we are using the notation \"$[z]_+$\" to denote $max(z,0)$.  \n",
        "\n",
        "Notes:\n",
        "- The term (1) is the squared distance between the anchor \"A\" and the positive \"P\" for a given triplet; you want this to be small.\n",
        "- The term (2) is the squared distance between the anchor \"A\" and the negative \"N\" for a given triplet, you want this to be relatively large, so it thus makes sense to have a minus sign preceding it.\n",
        "- $\\alpha$ is called the margin. It is a hyperparameter that you should pick manually. We will use $\\alpha = 0.2$.\n",
        "\n",
        "Most implementations also normalize the encoding vectors  to have norm equal one (i.e., $\\mid \\mid f(img)\\mid \\mid_2$=1); you won't have to worry about that here.\n",
        "\n",
        "**Exercise**: Implement the triplet loss as defined by formula (3). Here are the 4 steps:\n",
        "1. Compute the distance between the encodings of \"anchor\" and \"positive\": $\\mid \\mid f(A^{(i)}) - f(P^{(i)}) \\mid \\mid_2^2$\n",
        "2. Compute the distance between the encodings of \"anchor\" and \"negative\": $\\mid \\mid f(A^{(i)}) - f(N^{(i)}) \\mid \\mid_2^2$\n",
        "3. Compute the formula per training example: $ \\mid \\mid f(A^{(i)}) - f(P^{(i)}) \\mid - \\mid \\mid f(A^{(i)}) - f(N^{(i)}) \\mid \\mid_2^2 + \\alpha$\n",
        "3. Compute the full formula by taking the max with zero and summing over the training examples:\n",
        "$$\\mathcal{J} = \\sum^{N}_{i=1} \\large[ \\small \\mid \\mid f(A^{(i)}) - f(P^{(i)}) \\mid \\mid_2^2 - \\mid \\mid f(A^{(i)}) - f(N^{(i)}) \\mid \\mid_2^2+ \\alpha \\large ] \\small_+ \\tag{3}$$\n",
        "\n",
        "Useful functions: `tf.reduce_sum()`, `tf.square()`, `tf.subtract()`, `tf.add()`, `tf.reduce_mean`, `tf.maximum()`."
      ]
    },
    {
      "cell_type": "code",
      "execution_count": 8,
      "metadata": {
        "id": "WUrgBCMcekYM"
      },
      "outputs": [],
      "source": [
        "# GRADED FUNCTION: triplet_loss\n",
        "\n",
        "def triplet_loss(y_true, y_pred, alpha = 0.2):\n",
        "    \"\"\"\n",
        "    Implementation of the triplet loss as defined by formula (3)\n",
        "\n",
        "    Arguments:\n",
        "    y_true -- true labels, required when you define a loss in Keras, you don't need it in this function.\n",
        "    y_pred -- python list containing three objects:\n",
        "            anchor -- the encodings for the anchor images, of shape (None, 128)\n",
        "            positive -- the encodings for the positive images, of shape (None, 128)\n",
        "            negative -- the encodings for the negative images, of shape (None, 128)\n",
        "\n",
        "    Returns:\n",
        "    loss -- real number, value of the loss\n",
        "    \"\"\"\n",
        "\n",
        "    anchor, positive, negative = y_pred[0], y_pred[1], y_pred[2]\n",
        "\n",
        "    ### START CODE HERE ### (≈ 4 lines)\n",
        "    # Step 1: Compute the (encoding) distance between the anchor and the positive\n",
        "    pos_dist = tf.reduce_sum(tf.square(tf.subtract(anchor, positive)))\n",
        "    # Step 2: Compute the (encoding) distance between the anchor and the negative\n",
        "    neg_dist = tf.reduce_sum(tf.square(tf.subtract(anchor, negative)))\n",
        "    # Step 3: subtract the two previous distances and add alpha.\n",
        "    basic_loss = tf.add(tf.subtract(pos_dist, neg_dist), alpha)\n",
        "    # Step 4: Take the maximum of basic_loss and 0.0. Sum over the training examples.\n",
        "    loss = tf.maximum(tf.reduce_mean(basic_loss), 0.0)\n",
        "    ### END CODE HERE ###\n",
        "\n",
        "    return loss"
      ]
    },
    {
      "cell_type": "code",
      "execution_count": null,
      "metadata": {
        "colab": {
          "base_uri": "https://localhost:8080/"
        },
        "id": "TOO0syfFekYP",
        "outputId": "ddf1f60c-0906-4c7a-980a-69e80bef1e0c"
      },
      "outputs": [
        {
          "output_type": "stream",
          "name": "stdout",
          "text": [
            "loss = 350.02637\n"
          ]
        }
      ],
      "source": [
        "# with tf.Session() as test:\n",
        "with tf.compat.v1.Session() as test:\n",
        "#    tf.set_random_seed(1)\n",
        "    tf.random.set_seed(1)\n",
        "    y_true = (None, None, None)\n",
        "    y_pred = (tf.random.normal([3, 128], mean=6, stddev=0.1, seed = 1),\n",
        "              tf.random.normal([3, 128], mean=1, stddev=1, seed = 1),\n",
        "              tf.random.normal([3, 128], mean=3, stddev=4, seed = 1))\n",
        "    loss = triplet_loss(y_true, y_pred)\n",
        "\n",
        "    print(\"loss = \" + str(loss.eval()))\n",
        "\n"
      ]
    },
    {
      "cell_type": "markdown",
      "metadata": {
        "id": "OZL-BTeGekYS"
      },
      "source": [
        "**Expected Output**:\n",
        "\n",
        "<table>\n",
        "    <tr>\n",
        "        <td>\n",
        "            **loss**\n",
        "        </td>\n",
        "        <td>\n",
        "           350.026\n",
        "        </td>\n",
        "    </tr>\n",
        "\n",
        "</table>"
      ]
    },
    {
      "cell_type": "markdown",
      "metadata": {
        "id": "VQoiSWXyekYT"
      },
      "source": [
        "## 2 - Loading the trained model\n",
        "\n",
        "FaceNet is trained by minimizing the triplet loss. But since training requires a lot of data and a lot of computation, we won't train it from scratch here. Instead, we load a previously trained model. Load a model using the following cell; this might take a couple of minutes to run."
      ]
    },
    {
      "cell_type": "code",
      "execution_count": 9,
      "metadata": {
        "id": "V3_KBS1iekYU"
      },
      "outputs": [],
      "source": [
        "FRmodel.compile(optimizer = 'adam', loss = triplet_loss, metrics = ['accuracy'])\n",
        "load_weights_from_FaceNet(FRmodel)"
      ]
    },
    {
      "cell_type": "markdown",
      "metadata": {
        "id": "oemfQTSmekYX"
      },
      "source": [
        "Here're some examples of distances between the encodings between three individuals:\n",
        "\n",
        "<img src=\"//github.com/enggen/Deep-Learning-Coursera/raw/1407e19c98833d2686a0748db26b594f3102301e/Convolutional Neural Networks/Week4/Face Recognition/images/distance_matrix.png\" style=\"width:380px;height:200px;\">\n",
        "<br>\n",
        "<caption><center> <u> <font color='purple'> </u> <br>  <font color='purple'> Example of distance outputs between three individuals' encodings</center></caption>\n",
        "\n",
        "Let's now use this model to perform face verification and face recognition!"
      ]
    },
    {
      "cell_type": "markdown",
      "metadata": {
        "id": "FSQJZkyWekYX"
      },
      "source": [
        "## 3 - Applying the model"
      ]
    },
    {
      "cell_type": "markdown",
      "metadata": {
        "id": "3vI2FJ0tekYY"
      },
      "source": [
        "Back to the Happy House! Residents are living blissfully since you implemented happiness recognition for the house in an earlier assignment.  \n",
        "\n",
        "However, several issues keep coming up: The Happy House became so happy that every happy person in the neighborhood is coming to hang out in your living room. It is getting really crowded, which is having a negative impact on the residents of the house. All these random happy people are also eating all your food.\n",
        "\n",
        "So, you decide to change the door entry policy, and not just let random happy people enter anymore, even if they are happy! Instead, you'd like to build a **Face verification** system so as to only let people from a specified list come in. To get admitted, each person has to swipe an ID card (identification card) to identify themselves at the door. The face recognition system then checks that they are who they claim to be."
      ]
    },
    {
      "cell_type": "markdown",
      "metadata": {
        "id": "HUDhPZ_TekYY"
      },
      "source": [
        "### 3.1 - Face Verification\n",
        "\n",
        "Let's build a database containing one encoding vector for each person allowed to enter the happy house. To generate the encoding we use `img_to_encoding(image_path, model)` which basically runs the forward propagation of the model on the specified image.\n",
        "\n",
        "Run the following code to build the database (represented as a python dictionary). This database maps each person's name to a 128-dimensional encoding of their face."
      ]
    },
    {
      "cell_type": "code",
      "execution_count": 21,
      "metadata": {
        "id": "9wz8eTUQekYZ"
      },
      "outputs": [],
      "source": [
        "database = {}\n",
        "database[\"danielle\"] = img_to_encoding(\"images/danielle.png\", FRmodel)\n",
        "database[\"younes\"] = img_to_encoding(\"images/younes.jpg\", FRmodel)\n",
        "database[\"tian\"] = img_to_encoding(\"images/tian.jpg\", FRmodel)\n",
        "database[\"andrew\"] = img_to_encoding(\"images/andrew.jpg\", FRmodel)\n",
        "database[\"kian\"] = img_to_encoding(\"images/kian.jpg\", FRmodel)\n",
        "database[\"dan\"] = img_to_encoding(\"images/dan.jpg\", FRmodel)\n",
        "database[\"sebastiano\"] = img_to_encoding(\"images/sebastiano.jpg\", FRmodel)\n",
        "database[\"bertrand\"] = img_to_encoding(\"images/bertrand.jpg\", FRmodel)\n",
        "database[\"kevin\"] = img_to_encoding(\"images/kevin.jpg\", FRmodel)\n",
        "database[\"felix\"] = img_to_encoding(\"images/felix.jpg\", FRmodel)\n",
        "database[\"benoit\"] = img_to_encoding(\"images/benoit.jpg\", FRmodel)\n",
        "database[\"arnaud\"] = img_to_encoding(\"images/arnaud.jpg\", FRmodel)"
      ]
    },
    {
      "cell_type": "markdown",
      "metadata": {
        "id": "JQmV-qpKekYb"
      },
      "source": [
        "Now, when someone shows up at your front door and swipes their ID card (thus giving you their name), you can look up their encoding in the database, and use it to check if the person standing at the front door matches the name on the ID.\n",
        "\n",
        "**Exercise**: Implement the verify() function which checks if the front-door camera picture (`image_path`) is actually the person called \"identity\". You will have to go through the following steps:\n",
        "1. Compute the encoding of the image from image_path\n",
        "2. Compute the distance about this encoding and the encoding of the identity image stored in the database\n",
        "3. Open the door if the distance is less than 0.7, else do not open.\n",
        "\n",
        "As presented above, you should use the L2 distance (np.linalg.norm). (Note: In this implementation, compare the L2 distance, not the square of the L2 distance, to the threshold 0.7.)"
      ]
    },
    {
      "cell_type": "code",
      "execution_count": 11,
      "metadata": {
        "id": "loLof3vRekYc"
      },
      "outputs": [],
      "source": [
        "# GRADED FUNCTION: verify\n",
        "\n",
        "def verify(image_path, identity, database, model):\n",
        "    \"\"\"\n",
        "    Function that verifies if the person on the \"image_path\" image is \"identity\".\n",
        "\n",
        "    Arguments:\n",
        "    image_path -- path to an image\n",
        "    identity -- string, name of the person you'd like to verify the identity. Has to be a resident of the Happy house.\n",
        "    database -- python dictionary mapping names of allowed people's names (strings) to their encodings (vectors).\n",
        "    model -- your Inception model instance in Keras\n",
        "\n",
        "    Returns:\n",
        "    dist -- distance between the image_path and the image of \"identity\" in the database.\n",
        "    door_open -- True, if the door should open. False otherwise.\n",
        "    \"\"\"\n",
        "\n",
        "    ### START CODE HERE ###\n",
        "\n",
        "    # Step 1: Compute the encoding for the image. Use img_to_encoding() see example above. (≈ 1 line)\n",
        "    encoding = img_to_encoding(image_path, model)\n",
        "\n",
        "    # Step 2: Compute distance with identity's image (≈ 1 line)\n",
        "    dist = np.linalg.norm(encoding-database[identity])\n",
        "\n",
        "    # Step 3: Open the door if dist < 0.7, else don't open (≈ 3 lines)\n",
        "    if dist < 0.7:\n",
        "        print(\"It's \" + str(identity) + \", welcome home!\")\n",
        "        door_open = True\n",
        "    else:\n",
        "        print(\"It's not \" + str(identity) + \", please go away\")\n",
        "        door_open = False\n",
        "\n",
        "    ### END CODE HERE ###\n",
        "\n",
        "    return dist, door_open"
      ]
    },
    {
      "cell_type": "markdown",
      "metadata": {
        "id": "OF95_hYDekYi"
      },
      "source": [
        "Younes is trying to enter the Happy House and the camera takes a picture of him (\"images/camera_0.jpg\"). Let's run your verification algorithm on this picture:\n",
        "\n",
        "<img src=\"//github.com/enggen/Deep-Learning-Coursera/raw/1407e19c98833d2686a0748db26b594f3102301e/Convolutional Neural Networks/Week4/Face Recognition/images/camera_0.jpg\" style=\"width:100px;height:100px;\">"
      ]
    },
    {
      "cell_type": "code",
      "execution_count": 12,
      "metadata": {
        "colab": {
          "base_uri": "https://localhost:8080/"
        },
        "id": "E5d4AVPzekYi",
        "outputId": "cb908e67-ba11-421a-db63-65a197c89140"
      },
      "outputs": [
        {
          "output_type": "stream",
          "name": "stdout",
          "text": [
            "It's younes, welcome home!\n"
          ]
        },
        {
          "output_type": "execute_result",
          "data": {
            "text/plain": [
              "(0.6671399, True)"
            ]
          },
          "metadata": {},
          "execution_count": 12
        }
      ],
      "source": [
        "verify(\"images/camera_0.jpg\", \"younes\", database, FRmodel)"
      ]
    },
    {
      "cell_type": "markdown",
      "metadata": {
        "collapsed": true,
        "id": "iyn2aYMqekYl"
      },
      "source": [
        "**Expected Output**:\n",
        "\n",
        "<table>\n",
        "    <tr>\n",
        "        <td>\n",
        "            **It's younes, welcome home!**\n",
        "        </td>\n",
        "        <td>\n",
        "           (0.65939283, True)\n",
        "        </td>\n",
        "    </tr>\n",
        "\n",
        "</table>"
      ]
    },
    {
      "cell_type": "markdown",
      "metadata": {
        "collapsed": true,
        "id": "Vjk_QdZTekYm"
      },
      "source": [
        "Benoit, who broke the aquarium last weekend, has been banned from the house and removed from the database. He stole Kian's ID card and came back to the house to try to present himself as Kian. The front-door camera took a picture of Benoit (\"images/camera_2.jpg). Let's run the verification algorithm to check if benoit can enter.\n",
        "<img src=\"images/camera_2.jpg\" style=\"width:100px;height:100px;\">"
      ]
    },
    {
      "cell_type": "code",
      "execution_count": 13,
      "metadata": {
        "colab": {
          "base_uri": "https://localhost:8080/"
        },
        "id": "hAfG7SbQekYm",
        "outputId": "69255e6c-f6a8-42e2-ceda-af29cb26f08b"
      },
      "outputs": [
        {
          "output_type": "stream",
          "name": "stdout",
          "text": [
            "It's not kian, please go away\n"
          ]
        },
        {
          "output_type": "execute_result",
          "data": {
            "text/plain": [
              "(0.85868883, False)"
            ]
          },
          "metadata": {},
          "execution_count": 13
        }
      ],
      "source": [
        "verify(\"images/camera_2.jpg\", \"kian\", database, FRmodel)"
      ]
    },
    {
      "cell_type": "markdown",
      "metadata": {
        "id": "v60OtVDGekYp"
      },
      "source": [
        "**Expected Output**:\n",
        "\n",
        "<table>\n",
        "    <tr>\n",
        "        <td>\n",
        "            **It's not kian, please go away**\n",
        "        </td>\n",
        "        <td>\n",
        "           (0.86224014, False)\n",
        "        </td>\n",
        "    </tr>\n",
        "\n",
        "</table>"
      ]
    },
    {
      "cell_type": "markdown",
      "metadata": {
        "id": "oCwATPgaekYp"
      },
      "source": [
        "### 3.2 - Face Recognition\n",
        "\n",
        "Your face verification system is mostly working well. But since Kian got his ID card stolen, when he came back to the house that evening he couldn't get in!\n",
        "\n",
        "To reduce such shenanigans, you'd like to change your face verification system to a face recognition system. This way, no one has to carry an ID card anymore. An authorized person can just walk up to the house, and the front door will unlock for them!\n",
        "\n",
        "You'll implement a face recognition system that takes as input an image, and figures out if it is one of the authorized persons (and if so, who). Unlike the previous face verification system, we will no longer get a person's name as another input.\n",
        "\n",
        "**Exercise**: Implement `who_is_it()`. You will have to go through the following steps:\n",
        "1. Compute the target encoding of the image from image_path\n",
        "2. Find the encoding from the database that has smallest distance with the target encoding.\n",
        "    - Initialize the `min_dist` variable to a large enough number (100). It will help you keep track of what is the closest encoding to the input's encoding.\n",
        "    - Loop over the database dictionary's names and encodings. To loop use `for (name, db_enc) in database.items()`.\n",
        "        - Compute L2 distance between the target \"encoding\" and the current \"encoding\" from the database.\n",
        "        - If this distance is less than the min_dist, then set min_dist to dist, and identity to name."
      ]
    },
    {
      "cell_type": "code",
      "execution_count": 14,
      "metadata": {
        "id": "71ruCyQAekYq"
      },
      "outputs": [],
      "source": [
        "# GRADED FUNCTION: who_is_it\n",
        "\n",
        "def who_is_it(image_path, database, model):\n",
        "    \"\"\"\n",
        "    Implements face recognition for the happy house by finding who is the person on the image_path image.\n",
        "\n",
        "    Arguments:\n",
        "    image_path -- path to an image\n",
        "    database -- database containing image encodings along with the name of the person on the image\n",
        "    model -- your Inception model instance in Keras\n",
        "\n",
        "    Returns:\n",
        "    min_dist -- the minimum distance between image_path encoding and the encodings from the database\n",
        "    identity -- string, the name prediction for the person on image_path\n",
        "    \"\"\"\n",
        "\n",
        "    ### START CODE HERE ###\n",
        "\n",
        "    ## Step 1: Compute the target \"encoding\" for the image. Use img_to_encoding() see example above. ## (≈ 1 line)\n",
        "    encoding = img_to_encoding(image_path, model)\n",
        "\n",
        "    ## Step 2: Find the closest encoding ##\n",
        "\n",
        "    # Initialize \"min_dist\" to a large value, say 100 (≈1 line)\n",
        "    min_dist = 100\n",
        "\n",
        "    #save L2 distances to interpret results\n",
        "    output_data = {}\n",
        "\n",
        "    # Loop over the database dictionary's names and encodings.\n",
        "    for (name, db_enc) in database.items():\n",
        "\n",
        "        # Compute L2 distance between the target \"encoding\" and the current \"emb\" from the database. (≈ 1 line)\n",
        "        dist = np.linalg.norm(encoding-db_enc)\n",
        "\n",
        "        #save L2 distances to interpret results\n",
        "        output_data[f'{name}'] = dist\n",
        "\n",
        "        # If this distance is less than the min_dist, then set min_dist to dist, and identity to name. (≈ 3 lines)\n",
        "        if dist < min_dist:\n",
        "            min_dist = dist\n",
        "            identity = name\n",
        "\n",
        "    ### END CODE HERE ###\n",
        "\n",
        "    if min_dist > 0.7:\n",
        "        print(\"Not in the database.\")\n",
        "    else:\n",
        "        print (\"it's \" + str(identity) + \", the distance is \" + str(min_dist))\n",
        "\n",
        "    return min_dist, identity, output_data"
      ]
    },
    {
      "cell_type": "markdown",
      "metadata": {
        "id": "-fC65aokekYu"
      },
      "source": [
        "Younes is at the front-door and the camera takes a picture of him (\"images/camera_0.jpg\"). Let's see if your who_it_is() algorithm identifies Younes."
      ]
    },
    {
      "cell_type": "code",
      "execution_count": 15,
      "metadata": {
        "colab": {
          "base_uri": "https://localhost:8080/"
        },
        "id": "3SHxih8cekYu",
        "outputId": "ed2ac3ca-f320-4e71-cc6c-5eed4122df08",
        "scrolled": false
      },
      "outputs": [
        {
          "output_type": "stream",
          "name": "stdout",
          "text": [
            "it's bertrand, the distance is 0.46807358\n"
          ]
        }
      ],
      "source": [
        "output = who_is_it(\"images/camera_1.jpg\", database, FRmodel)"
      ]
    },
    {
      "cell_type": "markdown",
      "metadata": {
        "id": "7yNMrp3sekYx"
      },
      "source": [
        "**Expected Output**:\n",
        "\n",
        "<table>\n",
        "    <tr>\n",
        "        <td>\n",
        "            **it's younes, the distance is 0.659393**\n",
        "        </td>\n",
        "        <td>\n",
        "           (0.65939283, 'younes')\n",
        "        </td>\n",
        "    </tr>\n",
        "\n",
        "</table>"
      ]
    },
    {
      "cell_type": "code",
      "execution_count": 16,
      "metadata": {
        "id": "yb-utR5Q8XUV",
        "colab": {
          "base_uri": "https://localhost:8080/"
        },
        "outputId": "6c8d3c40-8f19-496a-abbf-8e1483c0ffae"
      },
      "outputs": [
        {
          "output_type": "execute_result",
          "data": {
            "text/plain": [
              "{'danielle': 1.0875257,\n",
              " 'younes': 0.9088758,\n",
              " 'tian': 0.969674,\n",
              " 'andrew': 0.77355546,\n",
              " 'kian': 0.96635693,\n",
              " 'dan': 0.64965636,\n",
              " 'sebastiano': 0.6934946,\n",
              " 'bertrand': 0.46807358,\n",
              " 'kevin': 1.1318141,\n",
              " 'felix': 0.9794289,\n",
              " 'benoit': 0.69366246,\n",
              " 'arnaud': 0.6776233}"
            ]
          },
          "metadata": {},
          "execution_count": 16
        }
      ],
      "source": [
        "#dictionary contains the L2 distance between target image encoding and database embeddings of other images\n",
        "output[2]"
      ]
    },
    {
      "cell_type": "markdown",
      "metadata": {
        "id": "YZP2jy5PekYy"
      },
      "source": [
        "You can change \"`camera_0.jpg`\" (picture of younes) to \"`camera_1.jpg`\" (picture of bertrand) and see the result."
      ]
    },
    {
      "cell_type": "markdown",
      "metadata": {
        "id": "4PmywOIMekYz"
      },
      "source": [
        "Your Happy House is running well. It only lets in authorized persons, and people don't need to carry an ID card around anymore!\n",
        "\n",
        "You've now seen how a state-of-the-art face recognition system works.\n",
        "\n",
        "Although we won't implement it here, here're some ways to further improve the algorithm:\n",
        "- Put more images of each person (under different lighting conditions, taken on different days, etc.) into the database. Then given a new image, compare the new face to multiple pictures of the person. This would increae accuracy.\n",
        "- Crop the images to just contain the face, and less of the \"border\" region around the face. This preprocessing removes some of the irrelevant pixels around the face, and also makes the algorithm more robust.\n"
      ]
    },
    {
      "cell_type": "markdown",
      "metadata": {
        "id": "JIeHHu5HekYz"
      },
      "source": [
        "<font color='blue'>\n",
        "**What you should remember**:\n",
        "- Face verification solves an easier 1:1 matching problem; face recognition addresses a harder 1:K matching problem.\n",
        "- The triplet loss is an effective loss function for training a neural network to learn an encoding of a face image.\n",
        "- The same encoding can be used for verification and recognition. Measuring distances between two images' encodings allows you to determine whether they are pictures of the same person."
      ]
    },
    {
      "cell_type": "markdown",
      "metadata": {
        "id": "sqA54eC4ekY0"
      },
      "source": [
        "Congrats on finishing this assignment!\n"
      ]
    },
    {
      "cell_type": "markdown",
      "metadata": {
        "id": "vs5o31H-ekY1"
      },
      "source": [
        "### References:\n",
        "\n",
        "- Florian Schroff, Dmitry Kalenichenko, James Philbin (2015). [FaceNet: A Unified Embedding for Face Recognition and Clustering](https://arxiv.org/pdf/1503.03832.pdf)\n",
        "- Yaniv Taigman, Ming Yang, Marc'Aurelio Ranzato, Lior Wolf (2014). [DeepFace: Closing the gap to human-level performance in face verification](https://research.fb.com/wp-content/uploads/2016/11/deepface-closing-the-gap-to-human-level-performance-in-face-verification.pdf)\n",
        "- The pretrained model we use is inspired by Victor Sy Wang's implementation and was loaded using his code: https://github.com/iwantooxxoox/Keras-OpenFace.\n",
        "- Our implementation also took a lot of inspiration from the official FaceNet github repository: https://github.com/davidsandberg/facenet\n"
      ]
    },
    {
      "cell_type": "markdown",
      "source": [
        "### LABSHEET 03 - TASK 06"
      ],
      "metadata": {
        "id": "GnhPp_htL0wg"
      }
    },
    {
      "cell_type": "code",
      "source": [
        "from fr_utils import img_to_encoding\n",
        "from inception_blocks_v2 import faceRecoModel\n",
        "FRmodel.compile(optimizer = 'adam', loss = triplet_loss, metrics = ['accuracy'])\n",
        "load_weights_from_FaceNet(FRmodel)"
      ],
      "metadata": {
        "id": "gf7eY2lh93RP"
      },
      "execution_count": 37,
      "outputs": []
    },
    {
      "cell_type": "code",
      "source": [
        "import tensorflow as tf\n",
        "import numpy as np\n",
        "import cv2\n",
        "\n",
        "img_path = \"images/IndudiniThennakoon.jpg\"\n",
        "img = tf.io.read_file(img_path)\n",
        "img = tf.image.decode_jpeg(img)\n",
        "img = tf.image.resize(img, (96, 96))\n",
        "img = np.array(img)"
      ],
      "metadata": {
        "id": "MFOmAfLE9TAf"
      },
      "execution_count": 38,
      "outputs": []
    },
    {
      "cell_type": "code",
      "source": [
        "import tensorflow as tf\n",
        "import numpy as np\n",
        "import cv2\n",
        "\n",
        "img_path = \"images/MadhushaSilva.jpg\"\n",
        "img = tf.io.read_file(img_path)\n",
        "img = tf.image.decode_jpeg(img)\n",
        "img = tf.image.resize(img, (96, 96))\n",
        "img = np.array(img)"
      ],
      "metadata": {
        "id": "ZtIGzIB69eqJ"
      },
      "execution_count": 39,
      "outputs": []
    },
    {
      "cell_type": "code",
      "source": [
        "database[\"Indudini\"] = img_to_encoding(\"images/IndudiniThennakoon.jpg\", FRmodel)\n",
        "database[\"Madhusha\"] = img_to_encoding(\"images/MadhushaSilva.jpg\", FRmodel)"
      ],
      "metadata": {
        "id": "ttYtG3yvKsye"
      },
      "execution_count": 52,
      "outputs": []
    },
    {
      "cell_type": "markdown",
      "source": [
        "### LABSHEET 03 - TASK 07"
      ],
      "metadata": {
        "id": "bDroD3d-L7V-"
      }
    },
    {
      "cell_type": "code",
      "source": [
        "database[\"younes\"] = img_to_encoding(\"images/MadhushaSilva.jpg\", FRmodel)"
      ],
      "metadata": {
        "id": "GSSZYsPpL8rd"
      },
      "execution_count": 53,
      "outputs": []
    },
    {
      "cell_type": "markdown",
      "source": [
        "##### Face verification"
      ],
      "metadata": {
        "id": "K3d-09suQAJ2"
      }
    },
    {
      "cell_type": "code",
      "source": [
        "verify(\"images/MadhushaSilva.jpg\", \"younes\", database, FRmodel)\n"
      ],
      "metadata": {
        "colab": {
          "base_uri": "https://localhost:8080/"
        },
        "id": "hOS3KNHkMY5P",
        "outputId": "88183220-3971-4451-f2c8-22c8e3d46d61"
      },
      "execution_count": 57,
      "outputs": [
        {
          "output_type": "stream",
          "name": "stdout",
          "text": [
            "It's younes, welcome home!\n"
          ]
        },
        {
          "output_type": "execute_result",
          "data": {
            "text/plain": [
              "(0.0, True)"
            ]
          },
          "metadata": {},
          "execution_count": 57
        }
      ]
    },
    {
      "cell_type": "markdown",
      "source": [
        "##### Face recognition"
      ],
      "metadata": {
        "id": "Bj5PY0mfQH2O"
      }
    },
    {
      "cell_type": "code",
      "source": [
        "output_2 = who_is_it(\"images/MadhushaSilva.jpg\", database, FRmodel)"
      ],
      "metadata": {
        "colab": {
          "base_uri": "https://localhost:8080/"
        },
        "id": "Wzp0GngGNHuG",
        "outputId": "18856140-7823-4561-84dc-147885dedb04"
      },
      "execution_count": 58,
      "outputs": [
        {
          "output_type": "stream",
          "name": "stdout",
          "text": [
            "it's younes, the distance is 0.0\n"
          ]
        }
      ]
    }
  ],
  "metadata": {
    "accelerator": "GPU",
    "colab": {
      "provenance": []
    },
    "coursera": {
      "course_slug": "convolutional-neural-networks",
      "graded_item_id": "IaknP",
      "launcher_item_id": "5UMr4"
    },
    "kernelspec": {
      "display_name": "Python 3",
      "language": "python",
      "name": "python3"
    },
    "language_info": {
      "codemirror_mode": {
        "name": "ipython",
        "version": 3
      },
      "file_extension": ".py",
      "mimetype": "text/x-python",
      "name": "python",
      "nbconvert_exporter": "python",
      "pygments_lexer": "ipython3",
      "version": "3.8.8"
    }
  },
  "nbformat": 4,
  "nbformat_minor": 0
}