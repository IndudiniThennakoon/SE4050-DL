{
  "cells": [
    {
      "cell_type": "markdown",
      "metadata": {
        "id": "view-in-github",
        "colab_type": "text"
      },
      "source": [
        "<a href=\"https://colab.research.google.com/github/IndudiniThennakoon/SE4050-DL/blob/labsheet7/lab_7_AE_CNN_Image_Denoising.ipynb\" target=\"_parent\"><img src=\"https://colab.research.google.com/assets/colab-badge.svg\" alt=\"Open In Colab\"/></a>"
      ]
    },
    {
      "cell_type": "code",
      "execution_count": 1,
      "id": "f4340427",
      "metadata": {
        "id": "f4340427"
      },
      "outputs": [],
      "source": [
        "import matplotlib.pyplot as plt\n",
        "import numpy as np\n",
        "import pandas as pd\n",
        "import tensorflow as tf\n",
        "\n",
        "from sklearn.metrics import accuracy_score, precision_score, recall_score\n",
        "from sklearn.model_selection import train_test_split\n",
        "from tensorflow.keras import layers, losses\n",
        "from tensorflow.keras.datasets import fashion_mnist\n",
        "from tensorflow.keras.models import Model"
      ]
    },
    {
      "cell_type": "code",
      "execution_count": 2,
      "id": "a661149f",
      "metadata": {
        "colab": {
          "base_uri": "https://localhost:8080/"
        },
        "id": "a661149f",
        "outputId": "2c1247c1-f95c-47ca-b919-287018f10599"
      },
      "outputs": [
        {
          "output_type": "stream",
          "name": "stdout",
          "text": [
            "Downloading data from https://storage.googleapis.com/tensorflow/tf-keras-datasets/train-labels-idx1-ubyte.gz\n",
            "\u001b[1m29515/29515\u001b[0m \u001b[32m━━━━━━━━━━━━━━━━━━━━\u001b[0m\u001b[37m\u001b[0m \u001b[1m0s\u001b[0m 0us/step\n",
            "Downloading data from https://storage.googleapis.com/tensorflow/tf-keras-datasets/train-images-idx3-ubyte.gz\n",
            "\u001b[1m26421880/26421880\u001b[0m \u001b[32m━━━━━━━━━━━━━━━━━━━━\u001b[0m\u001b[37m\u001b[0m \u001b[1m1s\u001b[0m 0us/step\n",
            "Downloading data from https://storage.googleapis.com/tensorflow/tf-keras-datasets/t10k-labels-idx1-ubyte.gz\n",
            "\u001b[1m5148/5148\u001b[0m \u001b[32m━━━━━━━━━━━━━━━━━━━━\u001b[0m\u001b[37m\u001b[0m \u001b[1m0s\u001b[0m 1us/step\n",
            "Downloading data from https://storage.googleapis.com/tensorflow/tf-keras-datasets/t10k-images-idx3-ubyte.gz\n",
            "\u001b[1m4422102/4422102\u001b[0m \u001b[32m━━━━━━━━━━━━━━━━━━━━\u001b[0m\u001b[37m\u001b[0m \u001b[1m0s\u001b[0m 0us/step\n"
          ]
        }
      ],
      "source": [
        "(x_train, _), (x_test, _) = fashion_mnist.load_data()\n"
      ]
    },
    {
      "cell_type": "code",
      "execution_count": 3,
      "id": "23fc6f78",
      "metadata": {
        "id": "23fc6f78"
      },
      "outputs": [],
      "source": [
        "x_train = x_train.astype('float32') / 255.\n",
        "x_test = x_test.astype('float32') / 255.\n",
        "\n"
      ]
    },
    {
      "cell_type": "code",
      "execution_count": 4,
      "id": "1bdf4e3c",
      "metadata": {
        "colab": {
          "base_uri": "https://localhost:8080/"
        },
        "id": "1bdf4e3c",
        "outputId": "f573b179-0a63-4ab4-dbc1-c00e91df4191"
      },
      "outputs": [
        {
          "output_type": "stream",
          "name": "stdout",
          "text": [
            "(60000, 28, 28, 1)\n",
            "(10000, 28, 28, 1)\n"
          ]
        }
      ],
      "source": [
        "x_train = x_train[..., tf.newaxis] #adds a additional axis (60000,28,28) --> (60000,28,28,1)\n",
        "x_test = x_test[..., tf.newaxis]\n",
        "print(x_train.shape)\n",
        "print(x_test.shape)"
      ]
    },
    {
      "cell_type": "code",
      "execution_count": 5,
      "id": "37a6b423",
      "metadata": {
        "collapsed": true,
        "colab": {
          "base_uri": "https://localhost:8080/"
        },
        "id": "37a6b423",
        "outputId": "d08cdc11-8723-4549-ee4f-8d16052a3745"
      },
      "outputs": [
        {
          "output_type": "execute_result",
          "data": {
            "text/plain": [
              "<tf.Tensor: shape=(60000, 28, 28, 1), dtype=float32, numpy=\n",
              "array([[[[ 4.55912739e-01],\n",
              "         [-3.63703787e-01],\n",
              "         [-1.32974422e+00],\n",
              "         ...,\n",
              "         [-1.02957773e+00],\n",
              "         [ 3.40139158e-02],\n",
              "         [ 1.28215015e+00]],\n",
              "\n",
              "        [[ 5.53111553e-01],\n",
              "         [ 1.67569137e+00],\n",
              "         [ 1.20323634e+00],\n",
              "         ...,\n",
              "         [ 1.19421279e+00],\n",
              "         [-1.15764511e+00],\n",
              "         [-1.89996064e-02]],\n",
              "\n",
              "        [[ 1.52798116e+00],\n",
              "         [-2.18880272e+00],\n",
              "         [ 1.59620094e+00],\n",
              "         ...,\n",
              "         [ 1.36842227e+00],\n",
              "         [-2.18425587e-01],\n",
              "         [-2.32906437e+00]],\n",
              "\n",
              "        ...,\n",
              "\n",
              "        [[ 1.01323283e+00],\n",
              "         [ 2.84242392e-01],\n",
              "         [-1.14704204e+00],\n",
              "         ...,\n",
              "         [-8.99999619e-01],\n",
              "         [ 1.57790577e+00],\n",
              "         [ 7.65520036e-01]],\n",
              "\n",
              "        [[-1.04272676e+00],\n",
              "         [ 2.79524595e-01],\n",
              "         [ 7.88599849e-01],\n",
              "         ...,\n",
              "         [ 5.78006841e-02],\n",
              "         [ 3.26827317e-01],\n",
              "         [ 2.30080318e-02]],\n",
              "\n",
              "        [[ 3.75175565e-01],\n",
              "         [-6.90883815e-01],\n",
              "         [-4.54951853e-01],\n",
              "         ...,\n",
              "         [ 8.68553042e-01],\n",
              "         [ 3.55117321e-01],\n",
              "         [ 9.07437086e-01]]],\n",
              "\n",
              "\n",
              "       [[[-1.26799917e+00],\n",
              "         [-4.33104128e-01],\n",
              "         [-9.18592587e-02],\n",
              "         ...,\n",
              "         [-9.60778773e-01],\n",
              "         [ 1.35971498e+00],\n",
              "         [ 1.07795246e-01]],\n",
              "\n",
              "        [[ 1.45590615e+00],\n",
              "         [ 3.56376857e-01],\n",
              "         [ 7.21724987e-01],\n",
              "         ...,\n",
              "         [ 6.28275499e-02],\n",
              "         [-4.37746555e-01],\n",
              "         [ 7.75929242e-02]],\n",
              "\n",
              "        [[-3.96260887e-01],\n",
              "         [-2.18304229e+00],\n",
              "         [ 4.85228822e-02],\n",
              "         ...,\n",
              "         [-3.99238557e-01],\n",
              "         [-5.32420218e-01],\n",
              "         [-1.50182807e+00]],\n",
              "\n",
              "        ...,\n",
              "\n",
              "        [[ 6.34816647e-01],\n",
              "         [-5.20550422e-02],\n",
              "         [ 1.14536595e+00],\n",
              "         ...,\n",
              "         [ 8.06460381e-01],\n",
              "         [-3.89186502e-01],\n",
              "         [-1.85251534e+00]],\n",
              "\n",
              "        [[-9.66813147e-01],\n",
              "         [ 5.73032796e-01],\n",
              "         [ 2.40768269e-01],\n",
              "         ...,\n",
              "         [ 3.01009983e-01],\n",
              "         [-1.27010763e-01],\n",
              "         [-6.87719703e-01]],\n",
              "\n",
              "        [[ 7.41750181e-01],\n",
              "         [-5.37535906e-01],\n",
              "         [-8.05745721e-01],\n",
              "         ...,\n",
              "         [ 1.79820880e-01],\n",
              "         [ 1.42616856e+00],\n",
              "         [ 5.94847500e-01]]],\n",
              "\n",
              "\n",
              "       [[[-1.66015282e-01],\n",
              "         [ 2.99350470e-01],\n",
              "         [-8.60650092e-03],\n",
              "         ...,\n",
              "         [-1.99837136e+00],\n",
              "         [-1.48199725e+00],\n",
              "         [-1.39662409e+00]],\n",
              "\n",
              "        [[ 8.42696905e-01],\n",
              "         [ 4.17206019e-01],\n",
              "         [ 1.32841599e+00],\n",
              "         ...,\n",
              "         [-8.49722028e-01],\n",
              "         [ 8.83062422e-01],\n",
              "         [-3.23674130e+00]],\n",
              "\n",
              "        [[ 1.06706810e+00],\n",
              "         [-1.18187821e+00],\n",
              "         [-1.61846042e+00],\n",
              "         ...,\n",
              "         [-1.29669476e+00],\n",
              "         [-3.87022376e-01],\n",
              "         [ 1.32303405e+00]],\n",
              "\n",
              "        ...,\n",
              "\n",
              "        [[-1.64541745e+00],\n",
              "         [ 2.23269415e+00],\n",
              "         [ 1.10365593e+00],\n",
              "         ...,\n",
              "         [-6.39851093e-02],\n",
              "         [ 1.01775265e+00],\n",
              "         [-2.19915316e-01]],\n",
              "\n",
              "        [[ 1.72986472e+00],\n",
              "         [ 1.04330826e+00],\n",
              "         [ 2.27219176e+00],\n",
              "         ...,\n",
              "         [-2.09368038e+00],\n",
              "         [ 5.41108370e-01],\n",
              "         [-4.04749483e-01]],\n",
              "\n",
              "        [[-1.08279777e+00],\n",
              "         [ 4.81083930e-01],\n",
              "         [-3.80012065e-01],\n",
              "         ...,\n",
              "         [-5.38820267e-01],\n",
              "         [-2.05256772e+00],\n",
              "         [-1.38763356e+00]]],\n",
              "\n",
              "\n",
              "       ...,\n",
              "\n",
              "\n",
              "       [[[-1.58928251e+00],\n",
              "         [ 1.14514422e+00],\n",
              "         [-2.17126623e-01],\n",
              "         ...,\n",
              "         [-2.20943522e+00],\n",
              "         [-1.35285081e-02],\n",
              "         [ 1.57933772e+00]],\n",
              "\n",
              "        [[ 8.65673482e-01],\n",
              "         [ 1.11160445e+00],\n",
              "         [-1.84314764e+00],\n",
              "         ...,\n",
              "         [ 1.49152920e-01],\n",
              "         [-4.85064983e-01],\n",
              "         [-1.79255428e-03]],\n",
              "\n",
              "        [[ 1.26537585e+00],\n",
              "         [-2.02773347e-01],\n",
              "         [ 1.06781852e+00],\n",
              "         ...,\n",
              "         [ 3.95416826e-01],\n",
              "         [ 2.17697597e+00],\n",
              "         [ 2.58230239e-01]],\n",
              "\n",
              "        ...,\n",
              "\n",
              "        [[-1.44157135e+00],\n",
              "         [-4.57707345e-01],\n",
              "         [-4.86046001e-02],\n",
              "         ...,\n",
              "         [-1.63210559e+00],\n",
              "         [ 2.00542510e-01],\n",
              "         [-1.93198872e+00]],\n",
              "\n",
              "        [[ 1.18532515e+00],\n",
              "         [ 1.99029863e-01],\n",
              "         [ 1.37064368e-01],\n",
              "         ...,\n",
              "         [-1.64594018e+00],\n",
              "         [ 4.21261251e-01],\n",
              "         [-2.08355963e-01]],\n",
              "\n",
              "        [[-4.31017101e-01],\n",
              "         [-1.93471029e-01],\n",
              "         [-1.42355788e+00],\n",
              "         ...,\n",
              "         [ 5.88493831e-02],\n",
              "         [-1.70525885e+00],\n",
              "         [-2.12492180e+00]]],\n",
              "\n",
              "\n",
              "       [[[-4.22587216e-01],\n",
              "         [ 1.56781459e+00],\n",
              "         [ 1.32409871e+00],\n",
              "         ...,\n",
              "         [ 2.07352445e-01],\n",
              "         [-9.54384625e-01],\n",
              "         [ 2.04919314e+00]],\n",
              "\n",
              "        [[-1.51602876e+00],\n",
              "         [-1.13069677e+00],\n",
              "         [ 1.04079366e+00],\n",
              "         ...,\n",
              "         [-6.79270685e-01],\n",
              "         [ 1.40785897e+00],\n",
              "         [-1.13512628e-01]],\n",
              "\n",
              "        [[-1.31597173e+00],\n",
              "         [ 4.76683229e-01],\n",
              "         [ 7.66582489e-02],\n",
              "         ...,\n",
              "         [ 9.95211363e-01],\n",
              "         [-1.16944146e+00],\n",
              "         [ 1.28979027e+00]],\n",
              "\n",
              "        ...,\n",
              "\n",
              "        [[-1.96583641e+00],\n",
              "         [-4.67779905e-01],\n",
              "         [ 1.01409271e-01],\n",
              "         ...,\n",
              "         [ 3.42150152e-01],\n",
              "         [-1.29745984e+00],\n",
              "         [-1.12802970e+00]],\n",
              "\n",
              "        [[ 5.69406271e-01],\n",
              "         [ 5.31724207e-02],\n",
              "         [-9.15827513e-01],\n",
              "         ...,\n",
              "         [ 2.79167980e-01],\n",
              "         [-1.38051319e+00],\n",
              "         [-7.70633817e-01]],\n",
              "\n",
              "        [[-7.40928352e-01],\n",
              "         [-4.92974259e-02],\n",
              "         [-1.60780418e+00],\n",
              "         ...,\n",
              "         [ 1.51665258e+00],\n",
              "         [ 1.07454193e+00],\n",
              "         [ 1.73806116e-01]]],\n",
              "\n",
              "\n",
              "       [[[-1.03857636e+00],\n",
              "         [-5.19079864e-01],\n",
              "         [ 4.96219844e-01],\n",
              "         ...,\n",
              "         [-1.53276816e-01],\n",
              "         [ 1.53400517e+00],\n",
              "         [ 4.97796744e-01]],\n",
              "\n",
              "        [[ 5.65310707e-03],\n",
              "         [ 6.35982037e-01],\n",
              "         [-5.36661208e-01],\n",
              "         ...,\n",
              "         [-4.62691367e-01],\n",
              "         [-1.68017037e-02],\n",
              "         [-7.46011198e-01]],\n",
              "\n",
              "        [[ 4.84030396e-01],\n",
              "         [ 3.38125318e-01],\n",
              "         [-7.86121562e-02],\n",
              "         ...,\n",
              "         [ 4.39835757e-01],\n",
              "         [-2.78919041e-01],\n",
              "         [-2.07679600e-01]],\n",
              "\n",
              "        ...,\n",
              "\n",
              "        [[ 2.62682486e+00],\n",
              "         [ 1.09268583e-01],\n",
              "         [-2.30945721e-01],\n",
              "         ...,\n",
              "         [-2.04747207e-02],\n",
              "         [-1.36165261e+00],\n",
              "         [-4.29221302e-01]],\n",
              "\n",
              "        [[ 3.42243642e-01],\n",
              "         [ 9.46712941e-02],\n",
              "         [-4.73940372e-01],\n",
              "         ...,\n",
              "         [-1.30776739e+00],\n",
              "         [-5.94849408e-01],\n",
              "         [-2.27865720e+00]],\n",
              "\n",
              "        [[ 1.63484561e+00],\n",
              "         [ 1.09953392e+00],\n",
              "         [ 3.08423758e-01],\n",
              "         ...,\n",
              "         [-1.27747488e+00],\n",
              "         [ 8.48893106e-01],\n",
              "         [-7.45436430e-01]]]], dtype=float32)>"
            ]
          },
          "metadata": {},
          "execution_count": 5
        }
      ],
      "source": [
        "tf.random.normal(shape=x_train.shape)"
      ]
    },
    {
      "cell_type": "code",
      "execution_count": 6,
      "id": "c72771a1",
      "metadata": {
        "id": "c72771a1"
      },
      "outputs": [],
      "source": [
        "noise_factor = 0.2\n",
        "x_train_noisy = x_train  +  noise_factor * tf.random.normal(shape=x_train.shape)\n",
        "# noise factor multiplication result in increased spread in noise distribution\n",
        "# result in 0.2^2 increase of variance, mean doesn't chnage (mean = 0)\n",
        "x_test_noisy = x_test  +  noise_factor * tf.random.normal(shape=x_test.shape)\n",
        "\n",
        "x_train_noisy = tf.clip_by_value(x_train_noisy, clip_value_min=0., clip_value_max=1.)\n",
        "x_test_noisy = tf.clip_by_value(x_test_noisy, clip_value_min=0., clip_value_max=1.)"
      ]
    },
    {
      "cell_type": "code",
      "execution_count": 7,
      "id": "ec07ada1",
      "metadata": {
        "colab": {
          "base_uri": "https://localhost:8080/"
        },
        "id": "ec07ada1",
        "outputId": "6d46d8d2-0dc2-46d1-9b9a-1bd138d8c13d"
      },
      "outputs": [
        {
          "output_type": "execute_result",
          "data": {
            "text/plain": [
              "TensorShape([10000, 28, 28, 1])"
            ]
          },
          "metadata": {},
          "execution_count": 7
        }
      ],
      "source": [
        "x_test_noisy.shape"
      ]
    },
    {
      "cell_type": "code",
      "execution_count": 8,
      "id": "161649e1",
      "metadata": {
        "colab": {
          "base_uri": "https://localhost:8080/",
          "height": 212
        },
        "id": "161649e1",
        "outputId": "7cbd9d3b-de27-462a-ced3-2dcc922c1b45"
      },
      "outputs": [
        {
          "output_type": "display_data",
          "data": {
            "text/plain": [
              "<Figure size 2000x200 with 10 Axes>"
            ],
            "image/png": "[encoded data removed]"
          },
          "metadata": {}
        }
      ],
      "source": [
        "n = 10\n",
        "plt.figure(figsize=(20, 2))\n",
        "for i in range(n):\n",
        "    ax = plt.subplot(1, n, i + 1)\n",
        "    plt.title(\"original + noise\")\n",
        "    plt.imshow(tf.squeeze(x_test_noisy[i]))\n",
        "    plt.gray()\n",
        "plt.show()"
      ]
    },
    {
      "cell_type": "code",
      "execution_count": 9,
      "id": "6c314ba6",
      "metadata": {
        "id": "6c314ba6"
      },
      "outputs": [],
      "source": [
        "class Denoise(Model):\n",
        "    def __init__(self):\n",
        "        super(Denoise, self).__init__()\n",
        "        self.encoder = tf.keras.Sequential([\n",
        "          layers.Input(shape=(28, 28, 1)),\n",
        "          layers.Conv2D(16, (3, 3), activation='relu', padding='same', strides=2),\n",
        "          layers.Conv2D(8, (3, 3), activation='relu', padding='same', strides=2)])\n",
        "\n",
        "        self.decoder = tf.keras.Sequential([\n",
        "          layers.Conv2DTranspose(8, kernel_size=3, strides=2, activation='relu', padding='same'),\n",
        "          layers.Conv2DTranspose(16, kernel_size=3, strides=2, activation='relu', padding='same'),\n",
        "          layers.Conv2D(1, kernel_size=(3, 3), activation='sigmoid', padding='same')])\n",
        "\n",
        "    def call(self, x):\n",
        "        encoded = self.encoder(x)\n",
        "        decoded = self.decoder(encoded)\n",
        "        return decoded\n"
      ]
    },
    {
      "cell_type": "code",
      "execution_count": 10,
      "id": "96d17937",
      "metadata": {
        "id": "96d17937"
      },
      "outputs": [],
      "source": [
        "autoencoder = Denoise()"
      ]
    },
    {
      "cell_type": "code",
      "execution_count": 11,
      "id": "91cb12a5",
      "metadata": {
        "id": "91cb12a5"
      },
      "outputs": [],
      "source": [
        "autoencoder.compile(optimizer='adam', loss=losses.MeanSquaredError())"
      ]
    },
    {
      "cell_type": "code",
      "execution_count": 12,
      "id": "6dd35cd4",
      "metadata": {
        "colab": {
          "base_uri": "https://localhost:8080/"
        },
        "id": "6dd35cd4",
        "outputId": "b953ceff-b26a-49b9-d133-fdb170866bd7"
      },
      "outputs": [
        {
          "output_type": "stream",
          "name": "stdout",
          "text": [
            "Epoch 1/10\n",
            "\u001b[1m1875/1875\u001b[0m \u001b[32m━━━━━━━━━━━━━━━━━━━━\u001b[0m\u001b[37m\u001b[0m \u001b[1m71s\u001b[0m 37ms/step - loss: 0.0336 - val_loss: 0.0094\n",
            "Epoch 2/10\n",
            "\u001b[1m1875/1875\u001b[0m \u001b[32m━━━━━━━━━━━━━━━━━━━━\u001b[0m\u001b[37m\u001b[0m \u001b[1m66s\u001b[0m 35ms/step - loss: 0.0089 - val_loss: 0.0082\n",
            "Epoch 3/10\n",
            "\u001b[1m1875/1875\u001b[0m \u001b[32m━━━━━━━━━━━━━━━━━━━━\u001b[0m\u001b[37m\u001b[0m \u001b[1m82s\u001b[0m 35ms/step - loss: 0.0080 - val_loss: 0.0077\n",
            "Epoch 4/10\n",
            "\u001b[1m1875/1875\u001b[0m \u001b[32m━━━━━━━━━━━━━━━━━━━━\u001b[0m\u001b[37m\u001b[0m \u001b[1m82s\u001b[0m 35ms/step - loss: 0.0076 - val_loss: 0.0075\n",
            "Epoch 5/10\n",
            "\u001b[1m1875/1875\u001b[0m \u001b[32m━━━━━━━━━━━━━━━━━━━━\u001b[0m\u001b[37m\u001b[0m \u001b[1m72s\u001b[0m 38ms/step - loss: 0.0074 - val_loss: 0.0074\n",
            "Epoch 6/10\n",
            "\u001b[1m1875/1875\u001b[0m \u001b[32m━━━━━━━━━━━━━━━━━━━━\u001b[0m\u001b[37m\u001b[0m \u001b[1m76s\u001b[0m 36ms/step - loss: 0.0073 - val_loss: 0.0072\n",
            "Epoch 7/10\n",
            "\u001b[1m1875/1875\u001b[0m \u001b[32m━━━━━━━━━━━━━━━━━━━━\u001b[0m\u001b[37m\u001b[0m \u001b[1m65s\u001b[0m 35ms/step - loss: 0.0072 - val_loss: 0.0072\n",
            "Epoch 8/10\n",
            "\u001b[1m1875/1875\u001b[0m \u001b[32m━━━━━━━━━━━━━━━━━━━━\u001b[0m\u001b[37m\u001b[0m \u001b[1m66s\u001b[0m 35ms/step - loss: 0.0071 - val_loss: 0.0071\n",
            "Epoch 9/10\n",
            "\u001b[1m1875/1875\u001b[0m \u001b[32m━━━━━━━━━━━━━━━━━━━━\u001b[0m\u001b[37m\u001b[0m \u001b[1m67s\u001b[0m 36ms/step - loss: 0.0071 - val_loss: 0.0072\n",
            "Epoch 10/10\n",
            "\u001b[1m1875/1875\u001b[0m \u001b[32m━━━━━━━━━━━━━━━━━━━━\u001b[0m\u001b[37m\u001b[0m \u001b[1m82s\u001b[0m 36ms/step - loss: 0.0070 - val_loss: 0.0070\n"
          ]
        },
        {
          "output_type": "execute_result",
          "data": {
            "text/plain": [
              "<keras.src.callbacks.history.History at 0x7a540abc3820>"
            ]
          },
          "metadata": {},
          "execution_count": 12
        }
      ],
      "source": [
        "autoencoder.fit(x_train_noisy, x_train,\n",
        "                epochs=10,\n",
        "                shuffle=True,\n",
        "                validation_data=(x_test_noisy, x_test))"
      ]
    },
    {
      "cell_type": "code",
      "execution_count": 13,
      "id": "3f821613",
      "metadata": {
        "colab": {
          "base_uri": "https://localhost:8080/",
          "height": 202
        },
        "id": "3f821613",
        "outputId": "e1684414-46c7-4e6e-8acc-81e10fed03eb"
      },
      "outputs": [
        {
          "output_type": "display_data",
          "data": {
            "text/plain": [
              "\u001b[1mModel: \"sequential\"\u001b[0m\n"
            ],
            "text/html": [
              "<pre style=\"white-space:pre;overflow-x:auto;line-height:normal;font-family:Menlo,'DejaVu Sans Mono',consolas,'Courier New',monospace\"><span style=\"font-weight: bold\">Model: \"sequential\"</span>\n",
              "</pre>\n"
            ]
          },
          "metadata": {}
        },
        {
          "output_type": "display_data",
          "data": {
            "text/plain": [
              "┏━━━━━━━━━━━━━━━━━━━━━━━━━━━━━━━━━━━━━━┳━━━━━━━━━━━━━━━━━━━━━━━━━━━━━┳━━━━━━━━━━━━━━━━━┓\n",
              "┃\u001b[1m \u001b[0m\u001b[1mLayer (type)                        \u001b[0m\u001b[1m \u001b[0m┃\u001b[1m \u001b[0m\u001b[1mOutput Shape               \u001b[0m\u001b[1m \u001b[0m┃\u001b[1m \u001b[0m\u001b[1m        Param #\u001b[0m\u001b[1m \u001b[0m┃\n",
              "┡━━━━━━━━━━━━━━━━━━━━━━━━━━━━━━━━━━━━━━╇━━━━━━━━━━━━━━━━━━━━━━━━━━━━━╇━━━━━━━━━━━━━━━━━┩\n",
              "│ conv2d (\u001b[38;5;33mConv2D\u001b[0m)                      │ (\u001b[38;5;45mNone\u001b[0m, \u001b[38;5;34m14\u001b[0m, \u001b[38;5;34m14\u001b[0m, \u001b[38;5;34m16\u001b[0m)          │             \u001b[38;5;34m160\u001b[0m │\n",
              "├──────────────────────────────────────┼─────────────────────────────┼─────────────────┤\n",
              "│ conv2d_1 (\u001b[38;5;33mConv2D\u001b[0m)                    │ (\u001b[38;5;45mNone\u001b[0m, \u001b[38;5;34m7\u001b[0m, \u001b[38;5;34m7\u001b[0m, \u001b[38;5;34m8\u001b[0m)             │           \u001b[38;5;34m1,160\u001b[0m │\n",
              "└──────────────────────────────────────┴─────────────────────────────┴─────────────────┘\n"
            ],
            "text/html": [
              "<pre style=\"white-space:pre;overflow-x:auto;line-height:normal;font-family:Menlo,'DejaVu Sans Mono',consolas,'Courier New',monospace\">┏━━━━━━━━━━━━━━━━━━━━━━━━━━━━━━━━━━━━━━┳━━━━━━━━━━━━━━━━━━━━━━━━━━━━━┳━━━━━━━━━━━━━━━━━┓\n",
              "┃<span style=\"font-weight: bold\"> Layer (type)                         </span>┃<span style=\"font-weight: bold\"> Output Shape                </span>┃<span style=\"font-weight: bold\">         Param # </span>┃\n",
              "┡━━━━━━━━━━━━━━━━━━━━━━━━━━━━━━━━━━━━━━╇━━━━━━━━━━━━━━━━━━━━━━━━━━━━━╇━━━━━━━━━━━━━━━━━┩\n",
              "│ conv2d (<span style=\"color: #0087ff; text-decoration-color: #0087ff\">Conv2D</span>)                      │ (<span style=\"color: #00d7ff; text-decoration-color: #00d7ff\">None</span>, <span style=\"color: #00af00; text-decoration-color: #00af00\">14</span>, <span style=\"color: #00af00; text-decoration-color: #00af00\">14</span>, <span style=\"color: #00af00; text-decoration-color: #00af00\">16</span>)          │             <span style=\"color: #00af00; text-decoration-color: #00af00\">160</span> │\n",
              "├──────────────────────────────────────┼─────────────────────────────┼─────────────────┤\n",
              "│ conv2d_1 (<span style=\"color: #0087ff; text-decoration-color: #0087ff\">Conv2D</span>)                    │ (<span style=\"color: #00d7ff; text-decoration-color: #00d7ff\">None</span>, <span style=\"color: #00af00; text-decoration-color: #00af00\">7</span>, <span style=\"color: #00af00; text-decoration-color: #00af00\">7</span>, <span style=\"color: #00af00; text-decoration-color: #00af00\">8</span>)             │           <span style=\"color: #00af00; text-decoration-color: #00af00\">1,160</span> │\n",
              "└──────────────────────────────────────┴─────────────────────────────┴─────────────────┘\n",
              "</pre>\n"
            ]
          },
          "metadata": {}
        },
        {
          "output_type": "display_data",
          "data": {
            "text/plain": [
              "\u001b[1m Total params: \u001b[0m\u001b[38;5;34m1,320\u001b[0m (5.16 KB)\n"
            ],
            "text/html": [
              "<pre style=\"white-space:pre;overflow-x:auto;line-height:normal;font-family:Menlo,'DejaVu Sans Mono',consolas,'Courier New',monospace\"><span style=\"font-weight: bold\"> Total params: </span><span style=\"color: #00af00; text-decoration-color: #00af00\">1,320</span> (5.16 KB)\n",
              "</pre>\n"
            ]
          },
          "metadata": {}
        },
        {
          "output_type": "display_data",
          "data": {
            "text/plain": [
              "\u001b[1m Trainable params: \u001b[0m\u001b[38;5;34m1,320\u001b[0m (5.16 KB)\n"
            ],
            "text/html": [
              "<pre style=\"white-space:pre;overflow-x:auto;line-height:normal;font-family:Menlo,'DejaVu Sans Mono',consolas,'Courier New',monospace\"><span style=\"font-weight: bold\"> Trainable params: </span><span style=\"color: #00af00; text-decoration-color: #00af00\">1,320</span> (5.16 KB)\n",
              "</pre>\n"
            ]
          },
          "metadata": {}
        },
        {
          "output_type": "display_data",
          "data": {
            "text/plain": [
              "\u001b[1m Non-trainable params: \u001b[0m\u001b[38;5;34m0\u001b[0m (0.00 B)\n"
            ],
            "text/html": [
              "<pre style=\"white-space:pre;overflow-x:auto;line-height:normal;font-family:Menlo,'DejaVu Sans Mono',consolas,'Courier New',monospace\"><span style=\"font-weight: bold\"> Non-trainable params: </span><span style=\"color: #00af00; text-decoration-color: #00af00\">0</span> (0.00 B)\n",
              "</pre>\n"
            ]
          },
          "metadata": {}
        }
      ],
      "source": [
        "autoencoder.encoder.summary()\n"
      ]
    },
    {
      "cell_type": "code",
      "execution_count": 14,
      "id": "499a50d1",
      "metadata": {
        "colab": {
          "base_uri": "https://localhost:8080/",
          "height": 235
        },
        "id": "499a50d1",
        "outputId": "6288a637-5f01-4587-c83b-beeedc2d6b2c"
      },
      "outputs": [
        {
          "output_type": "display_data",
          "data": {
            "text/plain": [
              "\u001b[1mModel: \"sequential_1\"\u001b[0m\n"
            ],
            "text/html": [
              "<pre style=\"white-space:pre;overflow-x:auto;line-height:normal;font-family:Menlo,'DejaVu Sans Mono',consolas,'Courier New',monospace\"><span style=\"font-weight: bold\">Model: \"sequential_1\"</span>\n",
              "</pre>\n"
            ]
          },
          "metadata": {}
        },
        {
          "output_type": "display_data",
          "data": {
            "text/plain": [
              "┏━━━━━━━━━━━━━━━━━━━━━━━━━━━━━━━━━━━━━━┳━━━━━━━━━━━━━━━━━━━━━━━━━━━━━┳━━━━━━━━━━━━━━━━━┓\n",
              "┃\u001b[1m \u001b[0m\u001b[1mLayer (type)                        \u001b[0m\u001b[1m \u001b[0m┃\u001b[1m \u001b[0m\u001b[1mOutput Shape               \u001b[0m\u001b[1m \u001b[0m┃\u001b[1m \u001b[0m\u001b[1m        Param #\u001b[0m\u001b[1m \u001b[0m┃\n",
              "┡━━━━━━━━━━━━━━━━━━━━━━━━━━━━━━━━━━━━━━╇━━━━━━━━━━━━━━━━━━━━━━━━━━━━━╇━━━━━━━━━━━━━━━━━┩\n",
              "│ conv2d_transpose (\u001b[38;5;33mConv2DTranspose\u001b[0m)   │ (\u001b[38;5;34m32\u001b[0m, \u001b[38;5;34m14\u001b[0m, \u001b[38;5;34m14\u001b[0m, \u001b[38;5;34m8\u001b[0m)             │             \u001b[38;5;34m584\u001b[0m │\n",
              "├──────────────────────────────────────┼─────────────────────────────┼─────────────────┤\n",
              "│ conv2d_transpose_1 (\u001b[38;5;33mConv2DTranspose\u001b[0m) │ (\u001b[38;5;34m32\u001b[0m, \u001b[38;5;34m28\u001b[0m, \u001b[38;5;34m28\u001b[0m, \u001b[38;5;34m16\u001b[0m)            │           \u001b[38;5;34m1,168\u001b[0m │\n",
              "├──────────────────────────────────────┼─────────────────────────────┼─────────────────┤\n",
              "│ conv2d_2 (\u001b[38;5;33mConv2D\u001b[0m)                    │ (\u001b[38;5;34m32\u001b[0m, \u001b[38;5;34m28\u001b[0m, \u001b[38;5;34m28\u001b[0m, \u001b[38;5;34m1\u001b[0m)             │             \u001b[38;5;34m145\u001b[0m │\n",
              "└──────────────────────────────────────┴─────────────────────────────┴─────────────────┘\n"
            ],
            "text/html": [
              "<pre style=\"white-space:pre;overflow-x:auto;line-height:normal;font-family:Menlo,'DejaVu Sans Mono',consolas,'Courier New',monospace\">┏━━━━━━━━━━━━━━━━━━━━━━━━━━━━━━━━━━━━━━┳━━━━━━━━━━━━━━━━━━━━━━━━━━━━━┳━━━━━━━━━━━━━━━━━┓\n",
              "┃<span style=\"font-weight: bold\"> Layer (type)                         </span>┃<span style=\"font-weight: bold\"> Output Shape                </span>┃<span style=\"font-weight: bold\">         Param # </span>┃\n",
              "┡━━━━━━━━━━━━━━━━━━━━━━━━━━━━━━━━━━━━━━╇━━━━━━━━━━━━━━━━━━━━━━━━━━━━━╇━━━━━━━━━━━━━━━━━┩\n",
              "│ conv2d_transpose (<span style=\"color: #0087ff; text-decoration-color: #0087ff\">Conv2DTranspose</span>)   │ (<span style=\"color: #00af00; text-decoration-color: #00af00\">32</span>, <span style=\"color: #00af00; text-decoration-color: #00af00\">14</span>, <span style=\"color: #00af00; text-decoration-color: #00af00\">14</span>, <span style=\"color: #00af00; text-decoration-color: #00af00\">8</span>)             │             <span style=\"color: #00af00; text-decoration-color: #00af00\">584</span> │\n",
              "├──────────────────────────────────────┼─────────────────────────────┼─────────────────┤\n",
              "│ conv2d_transpose_1 (<span style=\"color: #0087ff; text-decoration-color: #0087ff\">Conv2DTranspose</span>) │ (<span style=\"color: #00af00; text-decoration-color: #00af00\">32</span>, <span style=\"color: #00af00; text-decoration-color: #00af00\">28</span>, <span style=\"color: #00af00; text-decoration-color: #00af00\">28</span>, <span style=\"color: #00af00; text-decoration-color: #00af00\">16</span>)            │           <span style=\"color: #00af00; text-decoration-color: #00af00\">1,168</span> │\n",
              "├──────────────────────────────────────┼─────────────────────────────┼─────────────────┤\n",
              "│ conv2d_2 (<span style=\"color: #0087ff; text-decoration-color: #0087ff\">Conv2D</span>)                    │ (<span style=\"color: #00af00; text-decoration-color: #00af00\">32</span>, <span style=\"color: #00af00; text-decoration-color: #00af00\">28</span>, <span style=\"color: #00af00; text-decoration-color: #00af00\">28</span>, <span style=\"color: #00af00; text-decoration-color: #00af00\">1</span>)             │             <span style=\"color: #00af00; text-decoration-color: #00af00\">145</span> │\n",
              "└──────────────────────────────────────┴─────────────────────────────┴─────────────────┘\n",
              "</pre>\n"
            ]
          },
          "metadata": {}
        },
        {
          "output_type": "display_data",
          "data": {
            "text/plain": [
              "\u001b[1m Total params: \u001b[0m\u001b[38;5;34m1,897\u001b[0m (7.41 KB)\n"
            ],
            "text/html": [
              "<pre style=\"white-space:pre;overflow-x:auto;line-height:normal;font-family:Menlo,'DejaVu Sans Mono',consolas,'Courier New',monospace\"><span style=\"font-weight: bold\"> Total params: </span><span style=\"color: #00af00; text-decoration-color: #00af00\">1,897</span> (7.41 KB)\n",
              "</pre>\n"
            ]
          },
          "metadata": {}
        },
        {
          "output_type": "display_data",
          "data": {
            "text/plain": [
              "\u001b[1m Trainable params: \u001b[0m\u001b[38;5;34m1,897\u001b[0m (7.41 KB)\n"
            ],
            "text/html": [
              "<pre style=\"white-space:pre;overflow-x:auto;line-height:normal;font-family:Menlo,'DejaVu Sans Mono',consolas,'Courier New',monospace\"><span style=\"font-weight: bold\"> Trainable params: </span><span style=\"color: #00af00; text-decoration-color: #00af00\">1,897</span> (7.41 KB)\n",
              "</pre>\n"
            ]
          },
          "metadata": {}
        },
        {
          "output_type": "display_data",
          "data": {
            "text/plain": [
              "\u001b[1m Non-trainable params: \u001b[0m\u001b[38;5;34m0\u001b[0m (0.00 B)\n"
            ],
            "text/html": [
              "<pre style=\"white-space:pre;overflow-x:auto;line-height:normal;font-family:Menlo,'DejaVu Sans Mono',consolas,'Courier New',monospace\"><span style=\"font-weight: bold\"> Non-trainable params: </span><span style=\"color: #00af00; text-decoration-color: #00af00\">0</span> (0.00 B)\n",
              "</pre>\n"
            ]
          },
          "metadata": {}
        }
      ],
      "source": [
        "autoencoder.decoder.summary()\n"
      ]
    },
    {
      "cell_type": "code",
      "execution_count": 15,
      "id": "8ceec97e",
      "metadata": {
        "id": "8ceec97e"
      },
      "outputs": [],
      "source": [
        "encoded_imgs = autoencoder.encoder(x_test_noisy).numpy()\n",
        "decoded_imgs = autoencoder.decoder(encoded_imgs).numpy()"
      ]
    },
    {
      "cell_type": "code",
      "execution_count": 16,
      "id": "510db41a",
      "metadata": {
        "colab": {
          "base_uri": "https://localhost:8080/",
          "height": 516
        },
        "id": "510db41a",
        "outputId": "e67771c1-b8c6-42f7-ca8e-410a420ab2aa"
      },
      "outputs": [
        {
          "output_type": "display_data",
          "data": {
            "text/plain": [
              "<Figure size 2000x600 with 30 Axes>"
            ],
            "image/png": "[encoded data removed]"
          },
          "metadata": {}
        }
      ],
      "source": [
        "n = 10\n",
        "plt.figure(figsize=(20, 6))\n",
        "for i in range(n):\n",
        "    # display original\n",
        "    ax = plt.subplot(3, n, i + 1)\n",
        "    plt.title(\"original\")\n",
        "    plt.imshow(tf.squeeze(x_test[i]))\n",
        "    plt.gray()\n",
        "    ax.get_xaxis().set_visible(False)\n",
        "    ax.get_yaxis().set_visible(False)\n",
        "\n",
        "    # display original + noise\n",
        "    ax = plt.subplot(3, n, i + n + 1)\n",
        "    plt.title(\"original + noise\")\n",
        "    plt.imshow(tf.squeeze(x_test_noisy[i]))\n",
        "    plt.gray()\n",
        "    ax.get_xaxis().set_visible(False)\n",
        "    ax.get_yaxis().set_visible(False)\n",
        "\n",
        "    # display reconstruction\n",
        "    bx = plt.subplot(3, n, i + 2*n + 1)\n",
        "    plt.title(\"reconstructed\")\n",
        "    plt.imshow(tf.squeeze(decoded_imgs[i]))\n",
        "    plt.gray()\n",
        "    bx.get_xaxis().set_visible(False)\n",
        "    bx.get_yaxis().set_visible(False)\n",
        "plt.show()"
      ]
    }
  ],
  "metadata": {
    "kernelspec": {
      "display_name": "Python 3",
      "language": "python",
      "name": "python3"
    },
    "language_info": {
      "codemirror_mode": {
        "name": "ipython",
        "version": 3
      },
      "file_extension": ".py",
      "mimetype": "text/x-python",
      "name": "python",
      "nbconvert_exporter": "python",
      "pygments_lexer": "ipython3",
      "version": "3.8.8"
    },
    "colab": {
      "provenance": [],
      "include_colab_link": true
    }
  },
  "nbformat": 4,
  "nbformat_minor": 5
}